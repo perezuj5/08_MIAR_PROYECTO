{
  "cells": [
    {
      "cell_type": "markdown",
      "metadata": {
        "id": "view-in-github",
        "colab_type": "text"
      },
      "source": [
        "<a href=\"https://colab.research.google.com/github/perezuj5/08_MIAR_PROYECTO/blob/main/Proyecto_practico_plantilla_Jose.ipynb\" target=\"_parent\"><img src=\"https://colab.research.google.com/assets/colab-badge.svg\" alt=\"Open In Colab\"/></a>"
      ]
    },
    {
      "cell_type": "markdown",
      "source": [
        "# Actividad - Proyecto práctico\n",
        "\n",
        "\n",
        "> La actividad se desarrollará en grupos pre-definidos de 2-3 alumnos. Se debe indicar los nombres en orden alfabético (de apellidos). Recordad que esta actividad se corresponde con un 30% de la nota final de la asignatura. Se debe entregar entregar el trabajo en la presente notebook.\n",
        "*   Alumno 1: Jaime Peris Tchang\n",
        "*   Alumno 2: Javier Martín Arranz\n",
        "*   Alumno 3: José Manuel Pérez Utrilla\n",
        "*   Alumno 4: Silvia Martí Esteban\n",
        "\n",
        "\n",
        "\n",
        "\n"
      ],
      "metadata": {
        "id": "jUehXgCyIRdq"
      }
    },
    {
      "cell_type": "markdown",
      "source": [
        "---\n",
        "## **PARTE 1** - Instalación y requisitos previos\n",
        "\n",
        "> Las prácticas han sido preparadas para poder realizarse en el entorno de trabajo de Google Colab. Sin embargo, esta plataforma presenta ciertas incompatibilidades a la hora de visualizar la renderización en gym. Por ello, para obtener estas visualizaciones, se deberá trasladar el entorno de trabajo a local. Por ello, el presente dosier presenta instrucciones para poder trabajar en ambos entornos. Siga los siguientes pasos para un correcto funcionamiento:\n",
        "1.   **LOCAL:** Preparar el enviroment, siguiendo las intrucciones detalladas en la sección *1.1.Preparar enviroment*.\n",
        "2.  **AMBOS:** Modificar las variables \"mount\" y \"drive_mount\" a la carpeta de trabajo en drive en el caso de estar en Colab, y ejecturar la celda *1.2.Localizar entorno de trabajo*.\n",
        "3. **COLAB:** se deberá ejecutar las celdas correspondientes al montaje de la carpeta de trabajo en Drive. Esta corresponde a la sección *1.3.Montar carpeta de datos local*.\n",
        "4.  **AMBOS:** Instalar las librerías necesarias, siguiendo la sección *1.4.Instalar librerías necesarias*.\n"
      ],
      "metadata": {
        "id": "JwpYlnjWJhS9"
      }
    },
    {
      "cell_type": "markdown",
      "source": [
        "---\n",
        "### 1.1. Preparar enviroment (solo local)\n",
        "\n",
        "\n",
        "\n",
        "> Para preparar el entorno de trabajo en local, se han seguido los siguientes pasos:\n",
        "1. En Windows, puede ser necesario instalar las C++ Build Tools. Para ello, siga los siguientes pasos: https://towardsdatascience.com/how-to-install-openai-gym-in-a-windows-environment-338969e24d30.\n",
        "2. Instalar Anaconda\n",
        "3. Siguiendo el código que se presenta comentado en la próxima celda: Crear un enviroment, cambiar la ruta de trabajo, e instalar librerías básicas.\n",
        "\n",
        "\n",
        "```\n",
        "conda create --name miar_rl python=3.8\n",
        "conda activate miar_rl\n",
        "cd \"PATH_TO_FOLDER\"\n",
        "conda install git\n",
        "pip install jupyter\n",
        "```\n",
        "\n",
        "\n",
        "4. Abrir la notebook con *jupyter-notebook*.\n",
        "\n",
        "\n",
        "\n",
        "```\n",
        "jupyter-notebook\n",
        "```\n"
      ],
      "metadata": {
        "id": "RU2BPrK2JkP0"
      }
    },
    {
      "cell_type": "markdown",
      "source": [
        "---\n",
        "### 1.2. Localizar entorno de trabajo: Google colab o local"
      ],
      "metadata": {
        "id": "w-kixNPiJqTc"
      }
    },
    {
      "cell_type": "code",
      "source": [
        "# ATENCIÓN!! Modificar ruta relativa a la práctica si es distinta (drive_root)\n",
        "mount='/content/gdrive'\n",
        "drive_root = mount + \"/My Drive/08_MIAR/actividades/proyecto practico\"\n",
        "\n",
        "try:\n",
        "  from google.colab import drive\n",
        "  IN_COLAB=True\n",
        "except:\n",
        "  IN_COLAB=False"
      ],
      "metadata": {
        "id": "S_YDFwZ-JscI"
      },
      "execution_count": 32,
      "outputs": []
    },
    {
      "cell_type": "markdown",
      "source": [
        "---\n",
        "### 1.3. Montar carpeta de datos local (solo Colab)"
      ],
      "metadata": {
        "id": "8Dp_a1iBJ0tf"
      }
    },
    {
      "cell_type": "code",
      "source": [
        "# Switch to the directory on the Google Drive that you want to use\n",
        "import os\n",
        "if IN_COLAB:\n",
        "  print(\"We're running Colab\")\n",
        "\n",
        "  if IN_COLAB:\n",
        "    # Mount the Google Drive at mount\n",
        "    print(\"Colab: mounting Google drive on \", mount)\n",
        "\n",
        "    drive.mount(mount)\n",
        "\n",
        "    # Create drive_root if it doesn't exist\n",
        "    create_drive_root = True\n",
        "    if create_drive_root:\n",
        "      print(\"\\nColab: making sure \", drive_root, \" exists.\")\n",
        "      os.makedirs(drive_root, exist_ok=True)\n",
        "\n",
        "    # Change to the directory\n",
        "    print(\"\\nColab: Changing directory to \", drive_root)\n",
        "    %cd $drive_root\n",
        "# Verify we're in the correct working directory\n",
        "%pwd\n",
        "print(\"Archivos en el directorio: \")\n",
        "print(os.listdir())"
      ],
      "metadata": {
        "id": "I6n7MIefJ21i",
        "colab": {
          "base_uri": "https://localhost:8080/"
        },
        "outputId": "672a9774-415a-4428-b547-8bf0d8cdd1f9"
      },
      "execution_count": 33,
      "outputs": [
        {
          "output_type": "stream",
          "name": "stdout",
          "text": [
            "We're running Colab\n",
            "Colab: mounting Google drive on  /content/gdrive\n",
            "Drive already mounted at /content/gdrive; to attempt to forcibly remount, call drive.mount(\"/content/gdrive\", force_remount=True).\n",
            "\n",
            "Colab: making sure  /content/gdrive/My Drive/08_MIAR/actividades/proyecto practico  exists.\n",
            "\n",
            "Colab: Changing directory to  /content/gdrive/My Drive/08_MIAR/actividades/proyecto practico\n",
            "/content/gdrive/My Drive/08_MIAR/actividades/proyecto practico\n",
            "Archivos en el directorio: \n",
            "[]\n"
          ]
        }
      ]
    },
    {
      "cell_type": "markdown",
      "source": [
        "---\n",
        "### 1.4. Instalar librerías necesarias"
      ],
      "metadata": {
        "id": "i1ZSL5bpJ560"
      }
    },
    {
      "cell_type": "code",
      "source": [
        "if IN_COLAB:\n",
        "  %pip install gym==0.17.3\n",
        "  %pip install numpy==1.23.5\n",
        "  %pip install git+https://github.com/Kojoley/atari-py.git\n",
        "  %pip install keras-rl2==1.0.5\n",
        "  %pip install tensorflow==2.12.1\n",
        " # %pip uninstall -y numpy\n",
        " # %pip install numpy==1.23.5\n",
        " # %pip install gym==0.17.3\n",
        " # %pip install tensorflow==2.12.1\n",
        " # %pip install keras==2.12.0\n",
        " # %pip install atari-py==1.2.2\n",
        " # %pip install git+https://github.com/Kojoley/atari-py.git\n",
        " # %pip install keras-rl2==1.0.5\n",
        "\n",
        "else:\n",
        "  %pip install gym==0.17.3\n",
        "  %pip install git+https://github.com/Kojoley/atari-py.git\n",
        "  %pip install pyglet==1.5.0\n",
        "  %pip install h5py==3.1.0\n",
        "  %pip install Pillow==9.5.0\n",
        "  %pip install keras-rl2==1.0.5\n",
        "  %pip install Keras==2.2.4\n",
        "  %pip install tensorflow==2.5.3\n",
        "  %pip install torch==2.0.1\n",
        "  %pip install agents==1.4.0"
      ],
      "metadata": {
        "id": "UbVRjvHCJ8UF",
        "colab": {
          "base_uri": "https://localhost:8080/",
          "height": 1000
        },
        "outputId": "7f30582d-4994-409b-a773-01beea38ee0a"
      },
      "execution_count": 7,
      "outputs": [
        {
          "output_type": "stream",
          "name": "stdout",
          "text": [
            "Collecting gym==0.17.3\n",
            "  Downloading gym-0.17.3.tar.gz (1.6 MB)\n",
            "\u001b[?25l     \u001b[90m━━━━━━━━━━━━━━━━━━━━━━━━━━━━━━━━━━━━━━━━\u001b[0m \u001b[32m0.0/1.6 MB\u001b[0m \u001b[31m?\u001b[0m eta \u001b[36m-:--:--\u001b[0m\r\u001b[2K     \u001b[91m━━━━━━━━━━━━━━━━━\u001b[0m\u001b[91m╸\u001b[0m\u001b[90m━━━━━━━━━━━━━━━━━━━━━━\u001b[0m \u001b[32m0.7/1.6 MB\u001b[0m \u001b[31m20.9 MB/s\u001b[0m eta \u001b[36m0:00:01\u001b[0m\r\u001b[2K     \u001b[90m━━━━━━━━━━━━━━━━━━━━━━━━━━━━━━━━━━━━━━━━\u001b[0m \u001b[32m1.6/1.6 MB\u001b[0m \u001b[31m27.2 MB/s\u001b[0m eta \u001b[36m0:00:00\u001b[0m\n",
            "\u001b[?25h  Preparing metadata (setup.py) ... \u001b[?25l\u001b[?25hdone\n",
            "Requirement already satisfied: scipy in /usr/local/lib/python3.11/dist-packages (from gym==0.17.3) (1.15.3)\n",
            "Requirement already satisfied: numpy>=1.10.4 in /usr/local/lib/python3.11/dist-packages (from gym==0.17.3) (2.0.2)\n",
            "Collecting pyglet<=1.5.0,>=1.4.0 (from gym==0.17.3)\n",
            "  Downloading pyglet-1.5.0-py2.py3-none-any.whl.metadata (7.6 kB)\n",
            "Collecting cloudpickle<1.7.0,>=1.2.0 (from gym==0.17.3)\n",
            "  Downloading cloudpickle-1.6.0-py3-none-any.whl.metadata (4.3 kB)\n",
            "Requirement already satisfied: future in /usr/local/lib/python3.11/dist-packages (from pyglet<=1.5.0,>=1.4.0->gym==0.17.3) (1.0.0)\n",
            "Downloading cloudpickle-1.6.0-py3-none-any.whl (23 kB)\n",
            "Downloading pyglet-1.5.0-py2.py3-none-any.whl (1.0 MB)\n",
            "\u001b[2K   \u001b[90m━━━━━━━━━━━━━━━━━━━━━━━━━━━━━━━━━━━━━━━━\u001b[0m \u001b[32m1.0/1.0 MB\u001b[0m \u001b[31m60.6 MB/s\u001b[0m eta \u001b[36m0:00:00\u001b[0m\n",
            "\u001b[?25hBuilding wheels for collected packages: gym\n",
            "  Building wheel for gym (setup.py) ... \u001b[?25l\u001b[?25hdone\n",
            "  Created wheel for gym: filename=gym-0.17.3-py3-none-any.whl size=1654617 sha256=c9fc4564888e5718b51e2df44d65ab402392137fb75fba54612ce0bcec496197\n",
            "  Stored in directory: /root/.cache/pip/wheels/07/8b/b7/570cb90b10f17e85ccb291ba1f04af41ec697745104a2263eb\n",
            "Successfully built gym\n",
            "Installing collected packages: pyglet, cloudpickle, gym\n",
            "  Attempting uninstall: cloudpickle\n",
            "    Found existing installation: cloudpickle 3.1.1\n",
            "    Uninstalling cloudpickle-3.1.1:\n",
            "      Successfully uninstalled cloudpickle-3.1.1\n",
            "  Attempting uninstall: gym\n",
            "    Found existing installation: gym 0.25.2\n",
            "    Uninstalling gym-0.25.2:\n",
            "      Successfully uninstalled gym-0.25.2\n",
            "\u001b[31mERROR: pip's dependency resolver does not currently take into account all the packages that are installed. This behaviour is the source of the following dependency conflicts.\n",
            "distributed 2024.12.1 requires cloudpickle>=3.0.0, but you have cloudpickle 1.6.0 which is incompatible.\n",
            "bigframes 2.6.0 requires cloudpickle>=2.0.0, but you have cloudpickle 1.6.0 which is incompatible.\n",
            "dask 2024.12.1 requires cloudpickle>=3.0.0, but you have cloudpickle 1.6.0 which is incompatible.\u001b[0m\u001b[31m\n",
            "\u001b[0mSuccessfully installed cloudpickle-1.6.0 gym-0.17.3 pyglet-1.5.0\n"
          ]
        },
        {
          "output_type": "display_data",
          "data": {
            "application/vnd.colab-display-data+json": {
              "pip_warning": {
                "packages": [
                  "cloudpickle",
                  "gym"
                ]
              },
              "id": "1b70095cb5c346ffaa5cc2289715cee1"
            }
          },
          "metadata": {}
        },
        {
          "output_type": "stream",
          "name": "stdout",
          "text": [
            "Collecting numpy==1.23.5\n",
            "  Downloading numpy-1.23.5-cp311-cp311-manylinux_2_17_x86_64.manylinux2014_x86_64.whl.metadata (2.3 kB)\n",
            "Downloading numpy-1.23.5-cp311-cp311-manylinux_2_17_x86_64.manylinux2014_x86_64.whl (17.1 MB)\n",
            "\u001b[2K   \u001b[90m━━━━━━━━━━━━━━━━━━━━━━━━━━━━━━━━━━━━━━━━\u001b[0m \u001b[32m17.1/17.1 MB\u001b[0m \u001b[31m111.3 MB/s\u001b[0m eta \u001b[36m0:00:00\u001b[0m\n",
            "\u001b[?25hInstalling collected packages: numpy\n",
            "  Attempting uninstall: numpy\n",
            "    Found existing installation: numpy 2.0.2\n",
            "    Uninstalling numpy-2.0.2:\n",
            "      Successfully uninstalled numpy-2.0.2\n",
            "\u001b[31mERROR: pip's dependency resolver does not currently take into account all the packages that are installed. This behaviour is the source of the following dependency conflicts.\n",
            "thinc 8.3.6 requires numpy<3.0.0,>=2.0.0, but you have numpy 1.23.5 which is incompatible.\n",
            "jax 0.5.2 requires numpy>=1.25, but you have numpy 1.23.5 which is incompatible.\n",
            "treescope 0.1.9 requires numpy>=1.25.2, but you have numpy 1.23.5 which is incompatible.\n",
            "pymc 5.23.0 requires numpy>=1.25.0, but you have numpy 1.23.5 which is incompatible.\n",
            "blosc2 3.4.0 requires numpy>=1.26, but you have numpy 1.23.5 which is incompatible.\n",
            "scikit-image 0.25.2 requires numpy>=1.24, but you have numpy 1.23.5 which is incompatible.\n",
            "bigframes 2.6.0 requires cloudpickle>=2.0.0, but you have cloudpickle 1.6.0 which is incompatible.\n",
            "bigframes 2.6.0 requires numpy>=1.24.0, but you have numpy 1.23.5 which is incompatible.\n",
            "jaxlib 0.5.1 requires numpy>=1.25, but you have numpy 1.23.5 which is incompatible.\n",
            "xarray-einstats 0.9.0 requires numpy>=1.25, but you have numpy 1.23.5 which is incompatible.\n",
            "chex 0.1.89 requires numpy>=1.24.1, but you have numpy 1.23.5 which is incompatible.\n",
            "albucore 0.0.24 requires numpy>=1.24.4, but you have numpy 1.23.5 which is incompatible.\n",
            "xarray 2025.3.1 requires numpy>=1.24, but you have numpy 1.23.5 which is incompatible.\n",
            "albumentations 2.0.8 requires numpy>=1.24.4, but you have numpy 1.23.5 which is incompatible.\n",
            "imbalanced-learn 0.13.0 requires numpy<3,>=1.24.3, but you have numpy 1.23.5 which is incompatible.\n",
            "db-dtypes 1.4.3 requires numpy>=1.24.0, but you have numpy 1.23.5 which is incompatible.\n",
            "tensorflow 2.18.0 requires numpy<2.1.0,>=1.26.0, but you have numpy 1.23.5 which is incompatible.\u001b[0m\u001b[31m\n",
            "\u001b[0mSuccessfully installed numpy-1.23.5\n"
          ]
        },
        {
          "output_type": "display_data",
          "data": {
            "application/vnd.colab-display-data+json": {
              "pip_warning": {
                "packages": [
                  "numpy"
                ]
              },
              "id": "e3996039a6a24804ae646c920111087a"
            }
          },
          "metadata": {}
        },
        {
          "output_type": "stream",
          "name": "stdout",
          "text": [
            "Collecting git+https://github.com/Kojoley/atari-py.git\n",
            "  Cloning https://github.com/Kojoley/atari-py.git to /tmp/pip-req-build-l7kjohl4\n",
            "  Running command git clone --filter=blob:none --quiet https://github.com/Kojoley/atari-py.git /tmp/pip-req-build-l7kjohl4\n",
            "  Resolved https://github.com/Kojoley/atari-py.git to commit 86a1e05c0a95e9e6233c3a413521fdb34ca8a089\n",
            "  Preparing metadata (setup.py) ... \u001b[?25l\u001b[?25hdone\n",
            "Requirement already satisfied: numpy in /usr/local/lib/python3.11/dist-packages (from atari-py==1.2.2) (1.23.5)\n",
            "Building wheels for collected packages: atari-py\n",
            "  Building wheel for atari-py (setup.py) ... \u001b[?25l\u001b[?25hdone\n",
            "  Created wheel for atari-py: filename=atari_py-1.2.2-cp311-cp311-linux_x86_64.whl size=4738551 sha256=0ae26fcea9b21b096c753a5f973741efc8c5899c35281848085f964a6139eeb8\n",
            "  Stored in directory: /tmp/pip-ephem-wheel-cache-p9pua0wz/wheels/1a/58/b3/3baab9d1509939ecce2dfd9ca349c222b7ee6590f4bd6097a1\n",
            "Successfully built atari-py\n",
            "Installing collected packages: atari-py\n",
            "Successfully installed atari-py-1.2.2\n",
            "Collecting keras-rl2==1.0.5\n",
            "  Downloading keras_rl2-1.0.5-py3-none-any.whl.metadata (304 bytes)\n",
            "Requirement already satisfied: tensorflow in /usr/local/lib/python3.11/dist-packages (from keras-rl2==1.0.5) (2.18.0)\n",
            "Requirement already satisfied: absl-py>=1.0.0 in /usr/local/lib/python3.11/dist-packages (from tensorflow->keras-rl2==1.0.5) (1.4.0)\n",
            "Requirement already satisfied: astunparse>=1.6.0 in /usr/local/lib/python3.11/dist-packages (from tensorflow->keras-rl2==1.0.5) (1.6.3)\n",
            "Requirement already satisfied: flatbuffers>=24.3.25 in /usr/local/lib/python3.11/dist-packages (from tensorflow->keras-rl2==1.0.5) (25.2.10)\n",
            "Requirement already satisfied: gast!=0.5.0,!=0.5.1,!=0.5.2,>=0.2.1 in /usr/local/lib/python3.11/dist-packages (from tensorflow->keras-rl2==1.0.5) (0.6.0)\n",
            "Requirement already satisfied: google-pasta>=0.1.1 in /usr/local/lib/python3.11/dist-packages (from tensorflow->keras-rl2==1.0.5) (0.2.0)\n",
            "Requirement already satisfied: libclang>=13.0.0 in /usr/local/lib/python3.11/dist-packages (from tensorflow->keras-rl2==1.0.5) (18.1.1)\n",
            "Requirement already satisfied: opt-einsum>=2.3.2 in /usr/local/lib/python3.11/dist-packages (from tensorflow->keras-rl2==1.0.5) (3.4.0)\n",
            "Requirement already satisfied: packaging in /usr/local/lib/python3.11/dist-packages (from tensorflow->keras-rl2==1.0.5) (24.2)\n",
            "Requirement already satisfied: protobuf!=4.21.0,!=4.21.1,!=4.21.2,!=4.21.3,!=4.21.4,!=4.21.5,<6.0.0dev,>=3.20.3 in /usr/local/lib/python3.11/dist-packages (from tensorflow->keras-rl2==1.0.5) (5.29.5)\n",
            "Requirement already satisfied: requests<3,>=2.21.0 in /usr/local/lib/python3.11/dist-packages (from tensorflow->keras-rl2==1.0.5) (2.32.3)\n",
            "Requirement already satisfied: setuptools in /usr/local/lib/python3.11/dist-packages (from tensorflow->keras-rl2==1.0.5) (75.2.0)\n",
            "Requirement already satisfied: six>=1.12.0 in /usr/local/lib/python3.11/dist-packages (from tensorflow->keras-rl2==1.0.5) (1.17.0)\n",
            "Requirement already satisfied: termcolor>=1.1.0 in /usr/local/lib/python3.11/dist-packages (from tensorflow->keras-rl2==1.0.5) (3.1.0)\n",
            "Requirement already satisfied: typing-extensions>=3.6.6 in /usr/local/lib/python3.11/dist-packages (from tensorflow->keras-rl2==1.0.5) (4.14.0)\n",
            "Requirement already satisfied: wrapt>=1.11.0 in /usr/local/lib/python3.11/dist-packages (from tensorflow->keras-rl2==1.0.5) (1.17.2)\n",
            "Requirement already satisfied: grpcio<2.0,>=1.24.3 in /usr/local/lib/python3.11/dist-packages (from tensorflow->keras-rl2==1.0.5) (1.73.0)\n",
            "Requirement already satisfied: tensorboard<2.19,>=2.18 in /usr/local/lib/python3.11/dist-packages (from tensorflow->keras-rl2==1.0.5) (2.18.0)\n",
            "Requirement already satisfied: keras>=3.5.0 in /usr/local/lib/python3.11/dist-packages (from tensorflow->keras-rl2==1.0.5) (3.8.0)\n",
            "Collecting numpy<2.1.0,>=1.26.0 (from tensorflow->keras-rl2==1.0.5)\n",
            "  Downloading numpy-2.0.2-cp311-cp311-manylinux_2_17_x86_64.manylinux2014_x86_64.whl.metadata (60 kB)\n",
            "\u001b[2K     \u001b[90m━━━━━━━━━━━━━━━━━━━━━━━━━━━━━━━━━━━━━━━━\u001b[0m \u001b[32m60.9/60.9 kB\u001b[0m \u001b[31m3.8 MB/s\u001b[0m eta \u001b[36m0:00:00\u001b[0m\n",
            "\u001b[?25hRequirement already satisfied: h5py>=3.11.0 in /usr/local/lib/python3.11/dist-packages (from tensorflow->keras-rl2==1.0.5) (3.14.0)\n",
            "Requirement already satisfied: ml-dtypes<0.5.0,>=0.4.0 in /usr/local/lib/python3.11/dist-packages (from tensorflow->keras-rl2==1.0.5) (0.4.1)\n",
            "Requirement already satisfied: tensorflow-io-gcs-filesystem>=0.23.1 in /usr/local/lib/python3.11/dist-packages (from tensorflow->keras-rl2==1.0.5) (0.37.1)\n",
            "Requirement already satisfied: wheel<1.0,>=0.23.0 in /usr/local/lib/python3.11/dist-packages (from astunparse>=1.6.0->tensorflow->keras-rl2==1.0.5) (0.45.1)\n",
            "Requirement already satisfied: rich in /usr/local/lib/python3.11/dist-packages (from keras>=3.5.0->tensorflow->keras-rl2==1.0.5) (13.9.4)\n",
            "Requirement already satisfied: namex in /usr/local/lib/python3.11/dist-packages (from keras>=3.5.0->tensorflow->keras-rl2==1.0.5) (0.1.0)\n",
            "Requirement already satisfied: optree in /usr/local/lib/python3.11/dist-packages (from keras>=3.5.0->tensorflow->keras-rl2==1.0.5) (0.16.0)\n",
            "Requirement already satisfied: charset-normalizer<4,>=2 in /usr/local/lib/python3.11/dist-packages (from requests<3,>=2.21.0->tensorflow->keras-rl2==1.0.5) (3.4.2)\n",
            "Requirement already satisfied: idna<4,>=2.5 in /usr/local/lib/python3.11/dist-packages (from requests<3,>=2.21.0->tensorflow->keras-rl2==1.0.5) (3.10)\n",
            "Requirement already satisfied: urllib3<3,>=1.21.1 in /usr/local/lib/python3.11/dist-packages (from requests<3,>=2.21.0->tensorflow->keras-rl2==1.0.5) (2.4.0)\n",
            "Requirement already satisfied: certifi>=2017.4.17 in /usr/local/lib/python3.11/dist-packages (from requests<3,>=2.21.0->tensorflow->keras-rl2==1.0.5) (2025.6.15)\n",
            "Requirement already satisfied: markdown>=2.6.8 in /usr/local/lib/python3.11/dist-packages (from tensorboard<2.19,>=2.18->tensorflow->keras-rl2==1.0.5) (3.8)\n",
            "Requirement already satisfied: tensorboard-data-server<0.8.0,>=0.7.0 in /usr/local/lib/python3.11/dist-packages (from tensorboard<2.19,>=2.18->tensorflow->keras-rl2==1.0.5) (0.7.2)\n",
            "Requirement already satisfied: werkzeug>=1.0.1 in /usr/local/lib/python3.11/dist-packages (from tensorboard<2.19,>=2.18->tensorflow->keras-rl2==1.0.5) (3.1.3)\n",
            "Requirement already satisfied: MarkupSafe>=2.1.1 in /usr/local/lib/python3.11/dist-packages (from werkzeug>=1.0.1->tensorboard<2.19,>=2.18->tensorflow->keras-rl2==1.0.5) (3.0.2)\n",
            "Requirement already satisfied: markdown-it-py>=2.2.0 in /usr/local/lib/python3.11/dist-packages (from rich->keras>=3.5.0->tensorflow->keras-rl2==1.0.5) (3.0.0)\n",
            "Requirement already satisfied: pygments<3.0.0,>=2.13.0 in /usr/local/lib/python3.11/dist-packages (from rich->keras>=3.5.0->tensorflow->keras-rl2==1.0.5) (2.19.1)\n",
            "Requirement already satisfied: mdurl~=0.1 in /usr/local/lib/python3.11/dist-packages (from markdown-it-py>=2.2.0->rich->keras>=3.5.0->tensorflow->keras-rl2==1.0.5) (0.1.2)\n",
            "Downloading keras_rl2-1.0.5-py3-none-any.whl (52 kB)\n",
            "\u001b[2K   \u001b[90m━━━━━━━━━━━━━━━━━━━━━━━━━━━━━━━━━━━━━━━━\u001b[0m \u001b[32m52.1/52.1 kB\u001b[0m \u001b[31m2.6 MB/s\u001b[0m eta \u001b[36m0:00:00\u001b[0m\n",
            "\u001b[?25hDownloading numpy-2.0.2-cp311-cp311-manylinux_2_17_x86_64.manylinux2014_x86_64.whl (19.5 MB)\n",
            "\u001b[2K   \u001b[90m━━━━━━━━━━━━━━━━━━━━━━━━━━━━━━━━━━━━━━━━\u001b[0m \u001b[32m19.5/19.5 MB\u001b[0m \u001b[31m106.5 MB/s\u001b[0m eta \u001b[36m0:00:00\u001b[0m\n",
            "\u001b[?25hInstalling collected packages: numpy, keras-rl2\n",
            "  Attempting uninstall: numpy\n",
            "    Found existing installation: numpy 1.23.5\n",
            "    Uninstalling numpy-1.23.5:\n",
            "      Successfully uninstalled numpy-1.23.5\n",
            "\u001b[31mERROR: pip's dependency resolver does not currently take into account all the packages that are installed. This behaviour is the source of the following dependency conflicts.\n",
            "bigframes 2.6.0 requires cloudpickle>=2.0.0, but you have cloudpickle 1.6.0 which is incompatible.\u001b[0m\u001b[31m\n",
            "\u001b[0mSuccessfully installed keras-rl2-1.0.5 numpy-2.0.2\n"
          ]
        },
        {
          "output_type": "display_data",
          "data": {
            "application/vnd.colab-display-data+json": {
              "pip_warning": {
                "packages": [
                  "numpy"
                ]
              },
              "id": "dda5bfbcad6f48118f3fcb3f80b6a438"
            }
          },
          "metadata": {}
        },
        {
          "output_type": "stream",
          "name": "stdout",
          "text": [
            "Collecting tensorflow==2.12.1\n",
            "  Downloading tensorflow-2.12.1-cp311-cp311-manylinux_2_17_x86_64.manylinux2014_x86_64.whl.metadata (3.4 kB)\n",
            "Requirement already satisfied: absl-py>=1.0.0 in /usr/local/lib/python3.11/dist-packages (from tensorflow==2.12.1) (1.4.0)\n",
            "Requirement already satisfied: astunparse>=1.6.0 in /usr/local/lib/python3.11/dist-packages (from tensorflow==2.12.1) (1.6.3)\n",
            "Requirement already satisfied: flatbuffers>=2.0 in /usr/local/lib/python3.11/dist-packages (from tensorflow==2.12.1) (25.2.10)\n",
            "Collecting gast<=0.4.0,>=0.2.1 (from tensorflow==2.12.1)\n",
            "  Downloading gast-0.4.0-py3-none-any.whl.metadata (1.1 kB)\n",
            "Requirement already satisfied: google-pasta>=0.1.1 in /usr/local/lib/python3.11/dist-packages (from tensorflow==2.12.1) (0.2.0)\n",
            "Requirement already satisfied: grpcio<2.0,>=1.24.3 in /usr/local/lib/python3.11/dist-packages (from tensorflow==2.12.1) (1.73.0)\n",
            "Requirement already satisfied: h5py>=2.9.0 in /usr/local/lib/python3.11/dist-packages (from tensorflow==2.12.1) (3.14.0)\n",
            "Requirement already satisfied: jax>=0.3.15 in /usr/local/lib/python3.11/dist-packages (from tensorflow==2.12.1) (0.5.2)\n",
            "Collecting keras<2.13,>=2.12.0 (from tensorflow==2.12.1)\n",
            "  Downloading keras-2.12.0-py2.py3-none-any.whl.metadata (1.4 kB)\n",
            "Requirement already satisfied: libclang>=13.0.0 in /usr/local/lib/python3.11/dist-packages (from tensorflow==2.12.1) (18.1.1)\n",
            "Collecting numpy<=1.24.3,>=1.22 (from tensorflow==2.12.1)\n",
            "  Downloading numpy-1.24.3-cp311-cp311-manylinux_2_17_x86_64.manylinux2014_x86_64.whl.metadata (5.6 kB)\n",
            "Requirement already satisfied: opt-einsum>=2.3.2 in /usr/local/lib/python3.11/dist-packages (from tensorflow==2.12.1) (3.4.0)\n",
            "Requirement already satisfied: packaging in /usr/local/lib/python3.11/dist-packages (from tensorflow==2.12.1) (24.2)\n",
            "Collecting protobuf!=4.21.0,!=4.21.1,!=4.21.2,!=4.21.3,!=4.21.4,!=4.21.5,<5.0.0dev,>=3.20.3 (from tensorflow==2.12.1)\n",
            "  Downloading protobuf-4.25.8-cp37-abi3-manylinux2014_x86_64.whl.metadata (541 bytes)\n",
            "Requirement already satisfied: setuptools in /usr/local/lib/python3.11/dist-packages (from tensorflow==2.12.1) (75.2.0)\n",
            "Requirement already satisfied: six>=1.12.0 in /usr/local/lib/python3.11/dist-packages (from tensorflow==2.12.1) (1.17.0)\n",
            "Collecting tensorboard<2.13,>=2.12 (from tensorflow==2.12.1)\n",
            "  Downloading tensorboard-2.12.3-py3-none-any.whl.metadata (1.8 kB)\n",
            "Collecting tensorflow-estimator<2.13,>=2.12.0 (from tensorflow==2.12.1)\n",
            "  Downloading tensorflow_estimator-2.12.0-py2.py3-none-any.whl.metadata (1.3 kB)\n",
            "Requirement already satisfied: termcolor>=1.1.0 in /usr/local/lib/python3.11/dist-packages (from tensorflow==2.12.1) (3.1.0)\n",
            "Collecting typing-extensions<4.6.0,>=3.6.6 (from tensorflow==2.12.1)\n",
            "  Downloading typing_extensions-4.5.0-py3-none-any.whl.metadata (8.5 kB)\n",
            "Collecting wrapt<1.15,>=1.11.0 (from tensorflow==2.12.1)\n",
            "  Downloading wrapt-1.14.1-cp311-cp311-manylinux_2_5_x86_64.manylinux1_x86_64.manylinux_2_17_x86_64.manylinux2014_x86_64.whl.metadata (6.7 kB)\n",
            "Requirement already satisfied: tensorflow-io-gcs-filesystem>=0.23.1 in /usr/local/lib/python3.11/dist-packages (from tensorflow==2.12.1) (0.37.1)\n",
            "Requirement already satisfied: wheel<1.0,>=0.23.0 in /usr/local/lib/python3.11/dist-packages (from astunparse>=1.6.0->tensorflow==2.12.1) (0.45.1)\n",
            "Requirement already satisfied: jaxlib<=0.5.2,>=0.5.1 in /usr/local/lib/python3.11/dist-packages (from jax>=0.3.15->tensorflow==2.12.1) (0.5.1)\n",
            "Requirement already satisfied: ml_dtypes>=0.4.0 in /usr/local/lib/python3.11/dist-packages (from jax>=0.3.15->tensorflow==2.12.1) (0.4.1)\n",
            "INFO: pip is looking at multiple versions of jax to determine which version is compatible with other requirements. This could take a while.\n",
            "Collecting jax>=0.3.15 (from tensorflow==2.12.1)\n",
            "  Downloading jax-0.6.2-py3-none-any.whl.metadata (13 kB)\n",
            "Collecting jaxlib<=0.6.2,>=0.6.2 (from jax>=0.3.15->tensorflow==2.12.1)\n",
            "  Downloading jaxlib-0.6.2-cp311-cp311-manylinux2014_x86_64.whl.metadata (1.3 kB)\n",
            "Collecting ml_dtypes>=0.5.0 (from jax>=0.3.15->tensorflow==2.12.1)\n",
            "  Downloading ml_dtypes-0.5.1-cp311-cp311-manylinux_2_17_x86_64.manylinux2014_x86_64.whl.metadata (21 kB)\n",
            "Collecting jax>=0.3.15 (from tensorflow==2.12.1)\n",
            "  Downloading jax-0.6.1-py3-none-any.whl.metadata (13 kB)\n",
            "Collecting jaxlib<=0.6.1,>=0.6.1 (from jax>=0.3.15->tensorflow==2.12.1)\n",
            "  Downloading jaxlib-0.6.1-cp311-cp311-manylinux2014_x86_64.whl.metadata (1.2 kB)\n",
            "Collecting jax>=0.3.15 (from tensorflow==2.12.1)\n",
            "  Downloading jax-0.6.0-py3-none-any.whl.metadata (22 kB)\n",
            "Collecting jaxlib<=0.6.0,>=0.6.0 (from jax>=0.3.15->tensorflow==2.12.1)\n",
            "  Downloading jaxlib-0.6.0-cp311-cp311-manylinux2014_x86_64.whl.metadata (1.2 kB)\n",
            "Collecting jax>=0.3.15 (from tensorflow==2.12.1)\n",
            "  Downloading jax-0.5.3-py3-none-any.whl.metadata (22 kB)\n",
            "Collecting jaxlib<=0.5.3,>=0.5.3 (from jax>=0.3.15->tensorflow==2.12.1)\n",
            "  Downloading jaxlib-0.5.3-cp311-cp311-manylinux2014_x86_64.whl.metadata (1.2 kB)\n",
            "Collecting jax>=0.3.15 (from tensorflow==2.12.1)\n",
            "  Downloading jax-0.5.1-py3-none-any.whl.metadata (22 kB)\n",
            "  Downloading jax-0.5.0-py3-none-any.whl.metadata (22 kB)\n",
            "Collecting jaxlib<=0.5.0,>=0.5.0 (from jax>=0.3.15->tensorflow==2.12.1)\n",
            "  Downloading jaxlib-0.5.0-cp311-cp311-manylinux2014_x86_64.whl.metadata (978 bytes)\n",
            "Collecting jax>=0.3.15 (from tensorflow==2.12.1)\n",
            "  Downloading jax-0.4.38-py3-none-any.whl.metadata (22 kB)\n",
            "Collecting jaxlib<=0.4.38,>=0.4.38 (from jax>=0.3.15->tensorflow==2.12.1)\n",
            "  Downloading jaxlib-0.4.38-cp311-cp311-manylinux2014_x86_64.whl.metadata (1.0 kB)\n",
            "Requirement already satisfied: scipy>=1.10 in /usr/local/lib/python3.11/dist-packages (from jax>=0.3.15->tensorflow==2.12.1) (1.15.3)\n",
            "Requirement already satisfied: google-auth<3,>=1.6.3 in /usr/local/lib/python3.11/dist-packages (from tensorboard<2.13,>=2.12->tensorflow==2.12.1) (2.38.0)\n",
            "Collecting google-auth-oauthlib<1.1,>=0.5 (from tensorboard<2.13,>=2.12->tensorflow==2.12.1)\n",
            "  Downloading google_auth_oauthlib-1.0.0-py2.py3-none-any.whl.metadata (2.7 kB)\n",
            "Requirement already satisfied: markdown>=2.6.8 in /usr/local/lib/python3.11/dist-packages (from tensorboard<2.13,>=2.12->tensorflow==2.12.1) (3.8)\n",
            "Requirement already satisfied: requests<3,>=2.21.0 in /usr/local/lib/python3.11/dist-packages (from tensorboard<2.13,>=2.12->tensorflow==2.12.1) (2.32.3)\n",
            "Requirement already satisfied: tensorboard-data-server<0.8.0,>=0.7.0 in /usr/local/lib/python3.11/dist-packages (from tensorboard<2.13,>=2.12->tensorflow==2.12.1) (0.7.2)\n",
            "Requirement already satisfied: werkzeug>=1.0.1 in /usr/local/lib/python3.11/dist-packages (from tensorboard<2.13,>=2.12->tensorflow==2.12.1) (3.1.3)\n",
            "Requirement already satisfied: cachetools<6.0,>=2.0.0 in /usr/local/lib/python3.11/dist-packages (from google-auth<3,>=1.6.3->tensorboard<2.13,>=2.12->tensorflow==2.12.1) (5.5.2)\n",
            "Requirement already satisfied: pyasn1-modules>=0.2.1 in /usr/local/lib/python3.11/dist-packages (from google-auth<3,>=1.6.3->tensorboard<2.13,>=2.12->tensorflow==2.12.1) (0.4.2)\n",
            "Requirement already satisfied: rsa<5,>=3.1.4 in /usr/local/lib/python3.11/dist-packages (from google-auth<3,>=1.6.3->tensorboard<2.13,>=2.12->tensorflow==2.12.1) (4.9.1)\n",
            "Requirement already satisfied: requests-oauthlib>=0.7.0 in /usr/local/lib/python3.11/dist-packages (from google-auth-oauthlib<1.1,>=0.5->tensorboard<2.13,>=2.12->tensorflow==2.12.1) (2.0.0)\n",
            "Requirement already satisfied: charset-normalizer<4,>=2 in /usr/local/lib/python3.11/dist-packages (from requests<3,>=2.21.0->tensorboard<2.13,>=2.12->tensorflow==2.12.1) (3.4.2)\n",
            "Requirement already satisfied: idna<4,>=2.5 in /usr/local/lib/python3.11/dist-packages (from requests<3,>=2.21.0->tensorboard<2.13,>=2.12->tensorflow==2.12.1) (3.10)\n",
            "Requirement already satisfied: urllib3<3,>=1.21.1 in /usr/local/lib/python3.11/dist-packages (from requests<3,>=2.21.0->tensorboard<2.13,>=2.12->tensorflow==2.12.1) (2.4.0)\n",
            "Requirement already satisfied: certifi>=2017.4.17 in /usr/local/lib/python3.11/dist-packages (from requests<3,>=2.21.0->tensorboard<2.13,>=2.12->tensorflow==2.12.1) (2025.6.15)\n",
            "Requirement already satisfied: MarkupSafe>=2.1.1 in /usr/local/lib/python3.11/dist-packages (from werkzeug>=1.0.1->tensorboard<2.13,>=2.12->tensorflow==2.12.1) (3.0.2)\n",
            "Requirement already satisfied: pyasn1<0.7.0,>=0.6.1 in /usr/local/lib/python3.11/dist-packages (from pyasn1-modules>=0.2.1->google-auth<3,>=1.6.3->tensorboard<2.13,>=2.12->tensorflow==2.12.1) (0.6.1)\n",
            "Requirement already satisfied: oauthlib>=3.0.0 in /usr/local/lib/python3.11/dist-packages (from requests-oauthlib>=0.7.0->google-auth-oauthlib<1.1,>=0.5->tensorboard<2.13,>=2.12->tensorflow==2.12.1) (3.2.2)\n",
            "Downloading tensorflow-2.12.1-cp311-cp311-manylinux_2_17_x86_64.manylinux2014_x86_64.whl (585.9 MB)\n",
            "\u001b[2K   \u001b[90m━━━━━━━━━━━━━━━━━━━━━━━━━━━━━━━━━━━━━━━━\u001b[0m \u001b[32m585.9/585.9 MB\u001b[0m \u001b[31m3.4 MB/s\u001b[0m eta \u001b[36m0:00:00\u001b[0m\n",
            "\u001b[?25hDownloading gast-0.4.0-py3-none-any.whl (9.8 kB)\n",
            "Downloading jax-0.4.38-py3-none-any.whl (2.2 MB)\n",
            "\u001b[2K   \u001b[90m━━━━━━━━━━━━━━━━━━━━━━━━━━━━━━━━━━━━━━━━\u001b[0m \u001b[32m2.2/2.2 MB\u001b[0m \u001b[31m2.2 MB/s\u001b[0m eta \u001b[36m0:00:00\u001b[0m\n",
            "\u001b[?25hDownloading keras-2.12.0-py2.py3-none-any.whl (1.7 MB)\n",
            "\u001b[2K   \u001b[90m━━━━━━━━━━━━━━━━━━━━━━━━━━━━━━━━━━━━━━━━\u001b[0m \u001b[32m1.7/1.7 MB\u001b[0m \u001b[31m89.7 MB/s\u001b[0m eta \u001b[36m0:00:00\u001b[0m\n",
            "\u001b[?25hDownloading numpy-1.24.3-cp311-cp311-manylinux_2_17_x86_64.manylinux2014_x86_64.whl (17.3 MB)\n",
            "\u001b[2K   \u001b[90m━━━━━━━━━━━━━━━━━━━━━━━━━━━━━━━━━━━━━━━━\u001b[0m \u001b[32m17.3/17.3 MB\u001b[0m \u001b[31m110.1 MB/s\u001b[0m eta \u001b[36m0:00:00\u001b[0m\n",
            "\u001b[?25hDownloading protobuf-4.25.8-cp37-abi3-manylinux2014_x86_64.whl (294 kB)\n",
            "\u001b[2K   \u001b[90m━━━━━━━━━━━━━━━━━━━━━━━━━━━━━━━━━━━━━━━━\u001b[0m \u001b[32m294.9/294.9 kB\u001b[0m \u001b[31m26.0 MB/s\u001b[0m eta \u001b[36m0:00:00\u001b[0m\n",
            "\u001b[?25hDownloading tensorboard-2.12.3-py3-none-any.whl (5.6 MB)\n",
            "\u001b[2K   \u001b[90m━━━━━━━━━━━━━━━━━━━━━━━━━━━━━━━━━━━━━━━━\u001b[0m \u001b[32m5.6/5.6 MB\u001b[0m \u001b[31m103.8 MB/s\u001b[0m eta \u001b[36m0:00:00\u001b[0m\n",
            "\u001b[?25hDownloading tensorflow_estimator-2.12.0-py2.py3-none-any.whl (440 kB)\n",
            "\u001b[2K   \u001b[90m━━━━━━━━━━━━━━━━━━━━━━━━━━━━━━━━━━━━━━━━\u001b[0m \u001b[32m440.7/440.7 kB\u001b[0m \u001b[31m35.5 MB/s\u001b[0m eta \u001b[36m0:00:00\u001b[0m\n",
            "\u001b[?25hDownloading typing_extensions-4.5.0-py3-none-any.whl (27 kB)\n",
            "Downloading wrapt-1.14.1-cp311-cp311-manylinux_2_5_x86_64.manylinux1_x86_64.manylinux_2_17_x86_64.manylinux2014_x86_64.whl (78 kB)\n",
            "\u001b[2K   \u001b[90m━━━━━━━━━━━━━━━━━━━━━━━━━━━━━━━━━━━━━━━━\u001b[0m \u001b[32m78.4/78.4 kB\u001b[0m \u001b[31m7.8 MB/s\u001b[0m eta \u001b[36m0:00:00\u001b[0m\n",
            "\u001b[?25hDownloading google_auth_oauthlib-1.0.0-py2.py3-none-any.whl (18 kB)\n",
            "Downloading jaxlib-0.4.38-cp311-cp311-manylinux2014_x86_64.whl (101.8 MB)\n",
            "\u001b[2K   \u001b[90m━━━━━━━━━━━━━━━━━━━━━━━━━━━━━━━━━━━━━━━━\u001b[0m \u001b[32m101.8/101.8 MB\u001b[0m \u001b[31m8.6 MB/s\u001b[0m eta \u001b[36m0:00:00\u001b[0m\n",
            "\u001b[?25hInstalling collected packages: wrapt, typing-extensions, tensorflow-estimator, protobuf, numpy, keras, gast, jaxlib, google-auth-oauthlib, tensorboard, jax, tensorflow\n",
            "  Attempting uninstall: wrapt\n",
            "    Found existing installation: wrapt 1.17.2\n",
            "    Uninstalling wrapt-1.17.2:\n",
            "      Successfully uninstalled wrapt-1.17.2\n",
            "  Attempting uninstall: typing-extensions\n",
            "    Found existing installation: typing_extensions 4.14.0\n",
            "    Uninstalling typing_extensions-4.14.0:\n",
            "      Successfully uninstalled typing_extensions-4.14.0\n",
            "  Attempting uninstall: protobuf\n",
            "    Found existing installation: protobuf 5.29.5\n",
            "    Uninstalling protobuf-5.29.5:\n",
            "      Successfully uninstalled protobuf-5.29.5\n",
            "  Attempting uninstall: numpy\n",
            "    Found existing installation: numpy 2.0.2\n",
            "    Uninstalling numpy-2.0.2:\n",
            "      Successfully uninstalled numpy-2.0.2\n",
            "  Attempting uninstall: keras\n",
            "    Found existing installation: keras 3.8.0\n",
            "    Uninstalling keras-3.8.0:\n",
            "      Successfully uninstalled keras-3.8.0\n",
            "  Attempting uninstall: gast\n",
            "    Found existing installation: gast 0.6.0\n",
            "    Uninstalling gast-0.6.0:\n",
            "      Successfully uninstalled gast-0.6.0\n",
            "  Attempting uninstall: jaxlib\n",
            "    Found existing installation: jaxlib 0.5.1\n",
            "    Uninstalling jaxlib-0.5.1:\n",
            "      Successfully uninstalled jaxlib-0.5.1\n",
            "  Attempting uninstall: google-auth-oauthlib\n",
            "    Found existing installation: google-auth-oauthlib 1.2.2\n",
            "    Uninstalling google-auth-oauthlib-1.2.2:\n",
            "      Successfully uninstalled google-auth-oauthlib-1.2.2\n",
            "  Attempting uninstall: tensorboard\n",
            "    Found existing installation: tensorboard 2.18.0\n",
            "    Uninstalling tensorboard-2.18.0:\n",
            "      Successfully uninstalled tensorboard-2.18.0\n",
            "  Attempting uninstall: jax\n",
            "    Found existing installation: jax 0.5.2\n",
            "    Uninstalling jax-0.5.2:\n",
            "      Successfully uninstalled jax-0.5.2\n",
            "  Attempting uninstall: tensorflow\n",
            "    Found existing installation: tensorflow 2.18.0\n",
            "    Uninstalling tensorflow-2.18.0:\n",
            "      Successfully uninstalled tensorflow-2.18.0\n",
            "\u001b[31mERROR: pip's dependency resolver does not currently take into account all the packages that are installed. This behaviour is the source of the following dependency conflicts.\n",
            "thinc 8.3.6 requires numpy<3.0.0,>=2.0.0, but you have numpy 1.24.3 which is incompatible.\n",
            "pydantic 2.11.7 requires typing-extensions>=4.12.2, but you have typing-extensions 4.5.0 which is incompatible.\n",
            "tf-keras 2.18.0 requires tensorflow<2.19,>=2.18, but you have tensorflow 2.12.1 which is incompatible.\n",
            "langchain-core 0.3.65 requires typing-extensions>=4.7, but you have typing-extensions 4.5.0 which is incompatible.\n",
            "wandb 0.20.1 requires typing-extensions<5,>=4.8, but you have typing-extensions 4.5.0 which is incompatible.\n",
            "ydf 0.12.0 requires protobuf<6.0.0,>=5.29.1, but you have protobuf 4.25.8 which is incompatible.\n",
            "treescope 0.1.9 requires numpy>=1.25.2, but you have numpy 1.24.3 which is incompatible.\n",
            "pymc 5.23.0 requires numpy>=1.25.0, but you have numpy 1.24.3 which is incompatible.\n",
            "blosc2 3.4.0 requires numpy>=1.26, but you have numpy 1.24.3 which is incompatible.\n",
            "bigframes 2.6.0 requires cloudpickle>=2.0.0, but you have cloudpickle 1.6.0 which is incompatible.\n",
            "orbax-checkpoint 0.11.15 requires jax>=0.5.0, but you have jax 0.4.38 which is incompatible.\n",
            "flax 0.10.6 requires jax>=0.5.1, but you have jax 0.4.38 which is incompatible.\n",
            "typing-inspection 0.4.1 requires typing-extensions>=4.12.0, but you have typing-extensions 4.5.0 which is incompatible.\n",
            "xarray-einstats 0.9.0 requires numpy>=1.25, but you have numpy 1.24.3 which is incompatible.\n",
            "altair 5.5.0 requires typing-extensions>=4.10.0; python_version < \"3.14\", but you have typing-extensions 4.5.0 which is incompatible.\n",
            "optree 0.16.0 requires typing-extensions>=4.6.0, but you have typing-extensions 4.5.0 which is incompatible.\n",
            "sqlalchemy 2.0.41 requires typing-extensions>=4.6.0, but you have typing-extensions 4.5.0 which is incompatible.\n",
            "albucore 0.0.24 requires numpy>=1.24.4, but you have numpy 1.24.3 which is incompatible.\n",
            "grpcio-status 1.71.0 requires protobuf<6.0dev,>=5.26.1, but you have protobuf 4.25.8 which is incompatible.\n",
            "typeguard 4.4.3 requires typing_extensions>=4.14.0, but you have typing-extensions 4.5.0 which is incompatible.\n",
            "nibabel 5.3.2 requires typing-extensions>=4.6; python_version < \"3.13\", but you have typing-extensions 4.5.0 which is incompatible.\n",
            "tensorflow-decision-forests 1.11.0 requires tensorflow==2.18.0, but you have tensorflow 2.12.1 which is incompatible.\n",
            "tensorflow-text 2.18.1 requires tensorflow<2.19,>=2.18.0, but you have tensorflow 2.12.1 which is incompatible.\n",
            "openai 1.86.0 requires typing-extensions<5,>=4.11, but you have typing-extensions 4.5.0 which is incompatible.\n",
            "torch 2.6.0+cu124 requires nvidia-cublas-cu12==12.4.5.8; platform_system == \"Linux\" and platform_machine == \"x86_64\", but you have nvidia-cublas-cu12 12.5.3.2 which is incompatible.\n",
            "torch 2.6.0+cu124 requires nvidia-cuda-cupti-cu12==12.4.127; platform_system == \"Linux\" and platform_machine == \"x86_64\", but you have nvidia-cuda-cupti-cu12 12.5.82 which is incompatible.\n",
            "torch 2.6.0+cu124 requires nvidia-cuda-nvrtc-cu12==12.4.127; platform_system == \"Linux\" and platform_machine == \"x86_64\", but you have nvidia-cuda-nvrtc-cu12 12.5.82 which is incompatible.\n",
            "torch 2.6.0+cu124 requires nvidia-cuda-runtime-cu12==12.4.127; platform_system == \"Linux\" and platform_machine == \"x86_64\", but you have nvidia-cuda-runtime-cu12 12.5.82 which is incompatible.\n",
            "torch 2.6.0+cu124 requires nvidia-cudnn-cu12==9.1.0.70; platform_system == \"Linux\" and platform_machine == \"x86_64\", but you have nvidia-cudnn-cu12 9.3.0.75 which is incompatible.\n",
            "torch 2.6.0+cu124 requires nvidia-cufft-cu12==11.2.1.3; platform_system == \"Linux\" and platform_machine == \"x86_64\", but you have nvidia-cufft-cu12 11.2.3.61 which is incompatible.\n",
            "torch 2.6.0+cu124 requires nvidia-curand-cu12==10.3.5.147; platform_system == \"Linux\" and platform_machine == \"x86_64\", but you have nvidia-curand-cu12 10.3.6.82 which is incompatible.\n",
            "torch 2.6.0+cu124 requires nvidia-cusolver-cu12==11.6.1.9; platform_system == \"Linux\" and platform_machine == \"x86_64\", but you have nvidia-cusolver-cu12 11.6.3.83 which is incompatible.\n",
            "torch 2.6.0+cu124 requires nvidia-cusparse-cu12==12.3.1.170; platform_system == \"Linux\" and platform_machine == \"x86_64\", but you have nvidia-cusparse-cu12 12.5.1.3 which is incompatible.\n",
            "torch 2.6.0+cu124 requires nvidia-nvjitlink-cu12==12.4.127; platform_system == \"Linux\" and platform_machine == \"x86_64\", but you have nvidia-nvjitlink-cu12 12.5.82 which is incompatible.\n",
            "torch 2.6.0+cu124 requires typing-extensions>=4.10.0, but you have typing-extensions 4.5.0 which is incompatible.\n",
            "albumentations 2.0.8 requires numpy>=1.24.4, but you have numpy 1.24.3 which is incompatible.\n",
            "fastapi 0.115.12 requires typing-extensions>=4.8.0, but you have typing-extensions 4.5.0 which is incompatible.\n",
            "google-genai 1.20.0 requires typing-extensions<5.0.0,>=4.11.0, but you have typing-extensions 4.5.0 which is incompatible.\n",
            "pydantic-core 2.33.2 requires typing-extensions!=4.7.0,>=4.6.0, but you have typing-extensions 4.5.0 which is incompatible.\u001b[0m\u001b[31m\n",
            "\u001b[0mSuccessfully installed gast-0.4.0 google-auth-oauthlib-1.0.0 jax-0.4.38 jaxlib-0.4.38 keras-2.12.0 numpy-1.24.3 protobuf-4.25.8 tensorboard-2.12.3 tensorflow-2.12.1 tensorflow-estimator-2.12.0 typing-extensions-4.5.0 wrapt-1.14.1\n"
          ]
        },
        {
          "output_type": "display_data",
          "data": {
            "application/vnd.colab-display-data+json": {
              "pip_warning": {
                "packages": [
                  "gast",
                  "google",
                  "jax",
                  "jaxlib",
                  "keras",
                  "numpy",
                  "tensorflow",
                  "wrapt"
                ]
              },
              "id": "088fe677052044b69c0c10d1c9ad28dd"
            }
          },
          "metadata": {}
        }
      ]
    },
    {
      "cell_type": "code",
      "source": [
        "!pip install opencv-python==4.10.0.82\n",
        "!pip install pydot==2.0.0\n",
        "!pip install graphviz==0.20.3"
      ],
      "metadata": {
        "id": "XBEibyq8wlIU",
        "colab": {
          "base_uri": "https://localhost:8080/"
        },
        "outputId": "6adb1d62-b0c2-4d8e-8218-ba51cef47742"
      },
      "execution_count": 1,
      "outputs": [
        {
          "output_type": "stream",
          "name": "stdout",
          "text": [
            "Collecting opencv-python==4.10.0.82\n",
            "  Downloading opencv_python-4.10.0.82-cp37-abi3-manylinux_2_17_x86_64.manylinux2014_x86_64.whl.metadata (20 kB)\n",
            "Requirement already satisfied: numpy>=1.21.2 in /usr/local/lib/python3.11/dist-packages (from opencv-python==4.10.0.82) (1.24.3)\n",
            "Downloading opencv_python-4.10.0.82-cp37-abi3-manylinux_2_17_x86_64.manylinux2014_x86_64.whl (62.5 MB)\n",
            "\u001b[2K   \u001b[90m━━━━━━━━━━━━━━━━━━━━━━━━━━━━━━━━━━━━━━━━\u001b[0m \u001b[32m62.5/62.5 MB\u001b[0m \u001b[31m12.1 MB/s\u001b[0m eta \u001b[36m0:00:00\u001b[0m\n",
            "\u001b[?25hInstalling collected packages: opencv-python\n",
            "  Attempting uninstall: opencv-python\n",
            "    Found existing installation: opencv-python 4.11.0.86\n",
            "    Uninstalling opencv-python-4.11.0.86:\n",
            "      Successfully uninstalled opencv-python-4.11.0.86\n",
            "Successfully installed opencv-python-4.10.0.82\n",
            "Collecting pydot==2.0.0\n",
            "  Downloading pydot-2.0.0-py3-none-any.whl.metadata (9.6 kB)\n",
            "Requirement already satisfied: pyparsing>=3 in /usr/local/lib/python3.11/dist-packages (from pydot==2.0.0) (3.2.3)\n",
            "Downloading pydot-2.0.0-py3-none-any.whl (22 kB)\n",
            "Installing collected packages: pydot\n",
            "  Attempting uninstall: pydot\n",
            "    Found existing installation: pydot 3.0.4\n",
            "    Uninstalling pydot-3.0.4:\n",
            "      Successfully uninstalled pydot-3.0.4\n",
            "Successfully installed pydot-2.0.0\n",
            "Collecting graphviz==0.20.3\n",
            "  Downloading graphviz-0.20.3-py3-none-any.whl.metadata (12 kB)\n",
            "Downloading graphviz-0.20.3-py3-none-any.whl (47 kB)\n",
            "\u001b[2K   \u001b[90m━━━━━━━━━━━━━━━━━━━━━━━━━━━━━━━━━━━━━━━━\u001b[0m \u001b[32m47.1/47.1 kB\u001b[0m \u001b[31m3.6 MB/s\u001b[0m eta \u001b[36m0:00:00\u001b[0m\n",
            "\u001b[?25hInstalling collected packages: graphviz\n",
            "  Attempting uninstall: graphviz\n",
            "    Found existing installation: graphviz 0.21\n",
            "    Uninstalling graphviz-0.21:\n",
            "      Successfully uninstalled graphviz-0.21\n",
            "Successfully installed graphviz-0.20.3\n"
          ]
        }
      ]
    },
    {
      "cell_type": "code",
      "source": [
        "%pip install numpy==1.24.3"
      ],
      "metadata": {
        "colab": {
          "base_uri": "https://localhost:8080/"
        },
        "id": "h8kgxpeQ5iPE",
        "outputId": "3e5fbaee-812b-4b25-ea0b-7d481190b5c8"
      },
      "execution_count": 1,
      "outputs": [
        {
          "output_type": "stream",
          "name": "stdout",
          "text": [
            "Requirement already satisfied: numpy==1.24.3 in /usr/local/lib/python3.11/dist-packages (1.24.3)\n"
          ]
        }
      ]
    },
    {
      "cell_type": "markdown",
      "metadata": {
        "id": "4hzP_5ZuGb2X"
      },
      "source": [
        "---\n",
        "## **PARTE 2**. Enunciado\n",
        "\n",
        "Consideraciones a tener en cuenta:\n",
        "\n",
        "- El entorno sobre el que trabajaremos será _SpaceInvaders-v0_ y el algoritmo que usaremos será _DQN_.\n",
        "\n",
        "- Para nuestro ejercicio, el requisito mínimo será alcanzado cuando el agente consiga una **media de recompensa por encima de 20 puntos en modo test**. Por ello, esta media de la recompensa se calculará a partir del código de test en la última celda del notebook.\n",
        "\n",
        "Este proyecto práctico consta de tres partes:\n",
        "\n",
        "1.   Implementar la red neuronal que se usará en la solución\n",
        "2.   Implementar las distintas piezas de la solución DQN\n",
        "3.   Justificar la respuesta en relación a los resultados obtenidos\n",
        "\n",
        "**Rúbrica**: Se valorará la originalidad en la solución aportada, así como la capacidad de discutir los resultados de forma detallada. El requisito mínimo servirá para aprobar la actividad, bajo premisa de que la discusión del resultado sera apropiada.\n",
        "\n",
        "IMPORTANTE:\n",
        "\n",
        "* Si no se consigue una puntuación óptima, responder sobre la mejor puntuación obtenida.\n",
        "* Para entrenamientos largos, recordad que podéis usar checkpoints de vuestros modelos para retomar los entrenamientos. En este caso, recordad cambiar los parámetros adecuadamente (sobre todo los relacionados con el proceso de exploración).\n",
        "* Se deberá entregar unicamente el notebook y los pesos del mejor modelo en un fichero .zip, de forma organizada.\n",
        "* Cada alumno deberá de subir la solución de forma individual."
      ]
    },
    {
      "cell_type": "markdown",
      "source": [
        "---\n",
        "## **PARTE 3**. Desarrollo y preguntas"
      ],
      "metadata": {
        "id": "6_b3mzw8IzJP"
      }
    },
    {
      "cell_type": "markdown",
      "metadata": {
        "id": "duPmUNOVGb2a"
      },
      "source": [
        "#### Importar librerías"
      ]
    },
    {
      "cell_type": "code",
      "execution_count": 36,
      "metadata": {
        "id": "j3eRhgI-Gb2a"
      },
      "outputs": [],
      "source": [
        "from __future__ import division\n",
        "\n",
        "from PIL import Image\n",
        "import numpy as np\n",
        "import gym\n",
        "\n",
        "#from tensorflow.keras.models import Sequential\n",
        "#from tensorflow.keras.layers import Dense, Activation, Flatten, Convolution2D, Permute, InputLayer, Conv2D, MaxPooling2D\n",
        "#from tensorflow.keras.optimizers import Adam\n",
        "#import tensorflow.keras.backend as K\n",
        "\n",
        "from keras.models import Sequential\n",
        "from keras.layers import Dense, Activation, Flatten, Convolution2D, Permute, InputLayer, Conv2D, MaxPooling2D\n",
        "from keras.optimizers import Adam\n",
        "import keras.backend as K\n",
        "\n",
        "from rl.agents.dqn import DQNAgent\n",
        "from rl.policy import LinearAnnealedPolicy, BoltzmannQPolicy, EpsGreedyQPolicy\n",
        "from rl.memory import SequentialMemory\n",
        "from rl.core import Processor\n",
        "from rl.callbacks import FileLogger, ModelIntervalCheckpoint\n",
        "\n",
        "import matplotlib.pyplot as plt\n",
        "import cv2\n",
        "from tensorflow.keras.utils import plot_model\n",
        "from tensorflow.keras.callbacks import Callback\n",
        "import math\n",
        "from collections import deque\n",
        "import csv\n",
        "from gym import wrappers\n",
        "import io\n",
        "import base64\n",
        "from IPython.display import HTML\n",
        "#from tensorflow.keras.callbacks import History"
      ]
    },
    {
      "cell_type": "markdown",
      "metadata": {
        "id": "f4jgQjzoGb2a"
      },
      "source": [
        "#### Configuración base"
      ]
    },
    {
      "cell_type": "code",
      "execution_count": 37,
      "metadata": {
        "id": "jwOE6I_KGb2a"
      },
      "outputs": [],
      "source": [
        "INPUT_SHAPE = (84, 84)\n",
        "WINDOW_LENGTH = 4\n",
        "\n",
        "env_name = 'SpaceInvaders-v0'\n",
        "env = gym.make(env_name)\n",
        "\n",
        "np.random.seed(123)\n",
        "env.seed(123)\n",
        "nb_actions = env.action_space.n"
      ]
    },
    {
      "cell_type": "code",
      "source": [
        "# Hiperparametros de la red\n",
        "LEARNING_RATE = 0.00025\n",
        "\n",
        "# Hiperparametros del agente\n",
        "GAMMA = 0.97                  # Factor de descuento para las recompensas futuras. Controla cuánto peso se le da a las recompensas futuras\n",
        "                              # en comparación con las inmediatas.\n",
        "TARGET_MODEL_UPDATE = 10000   # Frecuencia con la que se actualiza el modelo objetivo\n",
        "TRAIN_INTERVAL = 24            # determina cada cuántos pasos se entrena la red\n",
        "DELTA_CLIP = 1.0              # Valor utilizado para recortar los errores TD (diferencia temporal) durante el entrenamiento para evitar\n",
        "                              # fluctuaciones extremas."
      ],
      "metadata": {
        "id": "f-AQUV6wyI0X"
      },
      "execution_count": 38,
      "outputs": []
    },
    {
      "cell_type": "code",
      "source": [
        "hyperparameters = {\n",
        "    \"INPUT_SHAPE\": INPUT_SHAPE,\n",
        "    \"WINDOW_LENGTH\": WINDOW_LENGTH,\n",
        "    \"LEARNING_RATE\": LEARNING_RATE,\n",
        "    \"GAMMA\": GAMMA,\n",
        "    \"TARGET_MODEL_UPDATE\": TARGET_MODEL_UPDATE,\n",
        "    \"TRAIN_INTERVAL\": TRAIN_INTERVAL,\n",
        "    \"DELTA_CLIP\": DELTA_CLIP\n",
        "}\n",
        "\n",
        "# Nombre del archivo CSV\n",
        "csv_file = 'hiperparametros.csv'\n",
        "\n",
        "# Escribir los hiperparámetros en el archivo CSV\n",
        "with open(csv_file, mode='w', newline='') as file:\n",
        "    writer = csv.writer(file)\n",
        "    writer.writerow(['Nombre', 'Valor'])\n",
        "    for key, value in hyperparameters.items():\n",
        "        writer.writerow([key, value])"
      ],
      "metadata": {
        "id": "n-Fwt0WSyKq_"
      },
      "execution_count": 5,
      "outputs": []
    },
    {
      "cell_type": "code",
      "source": [
        "env_name = 'SpaceInvaders-v0'\n",
        "env = gym.make(env_name)\n",
        "\n",
        "np.random.seed(123)\n",
        "env.seed(123)\n",
        "nb_actions = env.action_space.n"
      ],
      "metadata": {
        "id": "g5n9A5gPyNaX"
      },
      "execution_count": 6,
      "outputs": []
    },
    {
      "cell_type": "code",
      "execution_count": 7,
      "metadata": {
        "id": "9jGEZUcpGb2a"
      },
      "outputs": [],
      "source": [
        "class AtariProcessor(Processor):\n",
        "    def process_observation(self, observation):\n",
        "        assert observation.ndim == 3  # (height, width, channel)\n",
        "        img = Image.fromarray(observation)\n",
        "        img = img.resize(INPUT_SHAPE).convert('L')\n",
        "        processed_observation = np.array(img)\n",
        "        assert processed_observation.shape == INPUT_SHAPE\n",
        "        return processed_observation.astype('uint8')\n",
        "\n",
        "    def process_state_batch(self, batch):\n",
        "        processed_batch = batch.astype('float32') / 255.\n",
        "        return processed_batch\n",
        "\n",
        "    def process_reward(self, reward):\n",
        "        return np.clip(reward, -1., 1.)"
      ]
    },
    {
      "cell_type": "code",
      "source": [
        "print(\"Numero de acciones disponibles: \" + str(nb_actions))"
      ],
      "metadata": {
        "id": "1cdLhT8ZyQYJ",
        "colab": {
          "base_uri": "https://localhost:8080/"
        },
        "outputId": "d19bf162-e1c1-4307-dc2f-baad26f75711"
      },
      "execution_count": 8,
      "outputs": [
        {
          "output_type": "stream",
          "name": "stdout",
          "text": [
            "Numero de acciones disponibles: 6\n"
          ]
        }
      ]
    },
    {
      "cell_type": "code",
      "source": [
        "print(\"Formato de las observaciones:\")\n",
        "env.observation_space"
      ],
      "metadata": {
        "id": "U2gz7zumyRDd",
        "colab": {
          "base_uri": "https://localhost:8080/"
        },
        "outputId": "25bf50de-f747-4dc3-b31b-0c13e8dba364"
      },
      "execution_count": 9,
      "outputs": [
        {
          "output_type": "stream",
          "name": "stdout",
          "text": [
            "Formato de las observaciones:\n"
          ]
        },
        {
          "output_type": "execute_result",
          "data": {
            "text/plain": [
              "Box(0, 255, (210, 160, 3), uint8)"
            ]
          },
          "metadata": {},
          "execution_count": 9
        }
      ]
    },
    {
      "cell_type": "code",
      "source": [
        "obs = env.reset()\n",
        "plt.imshow(obs)\n",
        "plt.show()"
      ],
      "metadata": {
        "id": "xCDtOURAyTXl",
        "colab": {
          "base_uri": "https://localhost:8080/",
          "height": 434
        },
        "outputId": "7c078af8-64bc-4a37-9415-df4c6bbac6ff"
      },
      "execution_count": 10,
      "outputs": [
        {
          "output_type": "display_data",
          "data": {
            "text/plain": [
              "<Figure size 640x480 with 1 Axes>"
            ],
            "image/png": "[encoded data removed]"
          },
          "metadata": {}
        }
      ]
    },
    {
      "cell_type": "code",
      "source": [
        "def preprocess_observation(obs):\n",
        "    # Convertir a escala de grises\n",
        "    gray = cv2.cvtColor(obs, cv2.COLOR_RGB2GRAY)\n",
        "    # Redimensionar la imagen a (84, 84)\n",
        "    resized = cv2.resize(gray, (INPUT_SHAPE), interpolation=cv2.INTER_AREA)\n",
        "    # Normalizar la imagen (opcional)\n",
        "    normalized = resized / 255.0\n",
        "    # Añadir una dimensión para el canal\n",
        "    processed_obs = np.expand_dims(normalized, axis=-1)\n",
        "    return processed_obs"
      ],
      "metadata": {
        "id": "i3BDT1PGyaCH"
      },
      "execution_count": 39,
      "outputs": []
    },
    {
      "cell_type": "code",
      "source": [
        "processed_obs = preprocess_observation(obs)\n",
        "plt.imshow(processed_obs)\n",
        "plt.show()"
      ],
      "metadata": {
        "id": "-Le3QbrXybtK",
        "colab": {
          "base_uri": "https://localhost:8080/",
          "height": 433
        },
        "outputId": "caefa25f-426a-4417-e253-efc2ae6844fe"
      },
      "execution_count": 12,
      "outputs": [
        {
          "output_type": "display_data",
          "data": {
            "text/plain": [
              "<Figure size 640x480 with 1 Axes>"
            ],
            "image/png": "[encoded data removed]"
          },
          "metadata": {}
        }
      ]
    },
    {
      "cell_type": "markdown",
      "metadata": {
        "id": "7yitXTADGb2b"
      },
      "source": [
        "1. Implementación de la red neuronal"
      ]
    },
    {
      "cell_type": "code",
      "execution_count": 40,
      "metadata": {
        "id": "O4GKrfWSGb2b"
      },
      "outputs": [],
      "source": [
        "def create_dqn_model(input_shape, num_actions):\n",
        "    model = Sequential()\n",
        "\n",
        "    # Input layer: process input shape\n",
        "    model.add(InputLayer(input_shape=(input_shape[0], input_shape[1], input_shape[2]))) #(84, 84, 1)\n",
        "\n",
        "    # Permute layer to reorganize dimensions from (height, width, channels*4) to (channels*4, height, width)\n",
        "    model.add(Permute((2, 3, 1)))\n",
        "\n",
        "    # Convolutional layers with max pooling\n",
        "    model.add(Conv2D(32, (8, 8), strides=4, activation='relu'))\n",
        "    #model.add(MaxPooling2D((2, 2)))\n",
        "\n",
        "    model.add(Conv2D(64, (4, 4), strides=2, activation='relu'))\n",
        "    #model.add(MaxPooling2D((2, 2)))\n",
        "\n",
        "    model.add(Conv2D(64, (3, 3), strides=1, activation='relu'))\n",
        "\n",
        "    # Flattening layer\n",
        "    model.add(Flatten())\n",
        "\n",
        "    # Fully connected (Dense) layers\n",
        "    model.add(Dense(512, activation='relu'))\n",
        "    model.add(Dense(num_actions, activation='linear'))\n",
        "\n",
        "    return model"
      ]
    },
    {
      "cell_type": "code",
      "source": [
        "input_shape = (WINDOW_LENGTH,) + INPUT_SHAPE\n",
        "num_actions = nb_actions # 6  Número de acciones posibles en Space Invaders\n",
        "\n",
        "model = create_dqn_model(input_shape, num_actions)"
      ],
      "metadata": {
        "id": "1R4IcjCsyhbu"
      },
      "execution_count": 41,
      "outputs": []
    },
    {
      "cell_type": "code",
      "source": [
        "model.summary()"
      ],
      "metadata": {
        "id": "Uh-3sPM4ykCw",
        "colab": {
          "base_uri": "https://localhost:8080/"
        },
        "outputId": "e4681ca6-f6d9-471d-86c7-d86c84ba09e8"
      },
      "execution_count": 42,
      "outputs": [
        {
          "output_type": "stream",
          "name": "stdout",
          "text": [
            "Model: \"sequential_1\"\n",
            "_________________________________________________________________\n",
            " Layer (type)                Output Shape              Param #   \n",
            "=================================================================\n",
            " permute_1 (Permute)         (None, 84, 84, 4)         0         \n",
            "                                                                 \n",
            " conv2d_3 (Conv2D)           (None, 20, 20, 32)        8224      \n",
            "                                                                 \n",
            " conv2d_4 (Conv2D)           (None, 9, 9, 64)          32832     \n",
            "                                                                 \n",
            " conv2d_5 (Conv2D)           (None, 7, 7, 64)          36928     \n",
            "                                                                 \n",
            " flatten_1 (Flatten)         (None, 3136)              0         \n",
            "                                                                 \n",
            " dense_2 (Dense)             (None, 512)               1606144   \n",
            "                                                                 \n",
            " dense_3 (Dense)             (None, 6)                 3078      \n",
            "                                                                 \n",
            "=================================================================\n",
            "Total params: 1,687,206\n",
            "Trainable params: 1,687,206\n",
            "Non-trainable params: 0\n",
            "_________________________________________________________________\n"
          ]
        }
      ]
    },
    {
      "cell_type": "code",
      "source": [
        "plot_model(model,show_shapes=True, dpi=80)"
      ],
      "metadata": {
        "id": "RZzXiDvJyksx",
        "colab": {
          "base_uri": "https://localhost:8080/",
          "height": 724
        },
        "outputId": "ad25044d-3489-4623-b813-bbb4814cc657"
      },
      "execution_count": 43,
      "outputs": [
        {
          "output_type": "execute_result",
          "data": {
            "image/png": "[encoded data removed]",
            "text/plain": [
              "<IPython.core.display.Image object>"
            ]
          },
          "metadata": {},
          "execution_count": 43
        }
      ]
    },
    {
      "cell_type": "markdown",
      "metadata": {
        "id": "OB9-_5HPGb2b"
      },
      "source": [
        "2. Implementación de la solución DQN"
      ]
    },
    {
      "cell_type": "code",
      "execution_count": 44,
      "metadata": {
        "id": "foSlxWH1Gb2b"
      },
      "outputs": [],
      "source": [
        "memory = SequentialMemory(limit=1000000, window_length=WINDOW_LENGTH)"
      ]
    },
    {
      "cell_type": "code",
      "source": [
        "processor = AtariProcessor()"
      ],
      "metadata": {
        "id": "24IyiGrkyn86"
      },
      "execution_count": 45,
      "outputs": []
    },
    {
      "cell_type": "code",
      "source": [
        "policy = LinearAnnealedPolicy(EpsGreedyQPolicy(), attr='eps', value_max=1.0, value_min=0.1, value_test=0.05, nb_steps=1000000)\n",
        "# policy = SoftmaxPolicy()\n",
        "# policy = EpsGreedyQPolicy(eps=0.1)\n",
        "# policy = GreedyQPolicy()\n",
        "# policy = BoltzmannQPolicy(tau=1.0)\n",
        "# policy = MaxBoltzmannQPolicy(eps=0.1, tau=1.0)\n",
        "# policy = BoltzmannGumbelQPolicy(C=1.0)"
      ],
      "metadata": {
        "id": "Lqk_SAjdypU-"
      },
      "execution_count": 46,
      "outputs": []
    },
    {
      "cell_type": "code",
      "source": [
        "dqn = DQNAgent(\n",
        "    model=model,\n",
        "    nb_actions=num_actions,\n",
        "    policy=policy,\n",
        "    memory=memory,\n",
        "    processor=processor,\n",
        "    nb_steps_warmup = 50000,\n",
        "    gamma=GAMMA,\n",
        "    target_model_update = TARGET_MODEL_UPDATE,\n",
        "    train_interval = TRAIN_INTERVAL,\n",
        "    delta_clip = DELTA_CLIP\n",
        ")\n",
        "\n",
        "optimizer = Adam(learning_rate = LEARNING_RATE)\n",
        "dqn.compile(optimizer=optimizer, metrics=['mae'])"
      ],
      "metadata": {
        "id": "bZog_PbNy4s3"
      },
      "execution_count": 47,
      "outputs": []
    },
    {
      "cell_type": "code",
      "source": [
        "class SaveBestWeights(Callback):\n",
        "    def __init__(self, filepath, interval=20, overwrite=True):\n",
        "        super(SaveBestWeights, self).__init__()\n",
        "        self.filepath = filepath\n",
        "        self.interval = interval\n",
        "        self.best_reward = -float('inf')\n",
        "        self.overwrite = overwrite\n",
        "\n",
        "    def on_episode_end(self, episode, logs={}):\n",
        "        if episode % self.interval == 0:\n",
        "            current_reward = logs.get('episode_reward')\n",
        "            if current_reward > self.best_reward:\n",
        "                self.best_reward = current_reward\n",
        "                #self.model.save_weights(self.filepath)\n",
        "                #print(f'Pesos guardados en {self.filepath} recompensa: {self.best_reward}')\n",
        "                if self.overwrite or not os.path.exists(self.filepath):\n",
        "                    self.model.save_weights(self.filepath, overwrite=True)\n",
        "                    print(f'Pesos guardados en {self.filepath} recompensa: {self.best_reward}')\n",
        "                else:\n",
        "                    print(f'Warning: No se sobrescribió {self.filepath}, ya existe.')"
      ],
      "metadata": {
        "id": "Ca7fG7may5Ys"
      },
      "execution_count": 48,
      "outputs": []
    },
    {
      "cell_type": "code",
      "source": [
        "filepath = 'dqn_best_weights.h5'\n",
        "save_best_weights = SaveBestWeights(filepath=filepath, interval=20, overwrite=True)"
      ],
      "metadata": {
        "id": "7HKfkSAuy717"
      },
      "execution_count": 49,
      "outputs": []
    },
    {
      "cell_type": "code",
      "source": [
        "class SaveLastWeights(Callback):\n",
        "    def __init__(self, filepath, interval=10):\n",
        "        super(SaveLastWeights, self).__init__()\n",
        "        self.filepath = filepath\n",
        "        self.interval = interval\n",
        "\n",
        "    def on_episode_end(self, episode, logs={}):\n",
        "        if episode % self.interval == 0:\n",
        "            self.model.save_weights(self.filepath, overwrite=True)\n",
        "            print(f'Pesos guardados en {self.filepath} al final del episodio {episode}')"
      ],
      "metadata": {
        "id": "BOIto955y9fu"
      },
      "execution_count": 50,
      "outputs": []
    },
    {
      "cell_type": "code",
      "source": [
        "filepathlw = 'dqn_last_weights.h5'\n",
        "save_last_weights = SaveLastWeights(filepath=filepathlw, interval=10)"
      ],
      "metadata": {
        "id": "pHuTj0fvy_lk"
      },
      "execution_count": 51,
      "outputs": []
    },
    {
      "cell_type": "code",
      "source": [
        "class MetricsLogger(Callback):\n",
        "    def __init__(self, filepath):\n",
        "        self.filepath = filepath\n",
        "        with open(self.filepath, mode='w') as file:\n",
        "            writer = csv.writer(file)\n",
        "            writer.writerow(['episode', 'reward', 'steps'])\n",
        "\n",
        "    def on_episode_end(self, episode, logs={}):\n",
        "        reward = logs.get('episode_reward')\n",
        "        steps = logs.get('nb_episode_steps')\n",
        "\n",
        "        with open(self.filepath, mode='a') as file:\n",
        "            writer = csv.writer(file)\n",
        "            writer.writerow([episode, reward, steps])"
      ],
      "metadata": {
        "id": "ElT_6nEPzBRQ"
      },
      "execution_count": 52,
      "outputs": []
    },
    {
      "cell_type": "code",
      "source": [
        "metrics_logger = MetricsLogger('training_metrics.csv')"
      ],
      "metadata": {
        "id": "sSHQzSkWzC1w"
      },
      "execution_count": 53,
      "outputs": []
    },
    {
      "cell_type": "code",
      "source": [
        "class EarlyStoppingByReward(Callback):\n",
        "    def __init__(self, reward_threshold, patience):\n",
        "        super(EarlyStoppingByReward, self).__init__()\n",
        "        self.reward_threshold = reward_threshold\n",
        "        self.patience = patience\n",
        "        self.recent_rewards = deque(maxlen=patience)\n",
        "\n",
        "    def on_episode_end(self, episode, logs={}):\n",
        "        current_reward = logs.get('episode_reward')\n",
        "        self.recent_rewards.append(current_reward)\n",
        "\n",
        "        if len(self.recent_rewards) == self.patience and all(r > self.reward_threshold for r in self.recent_rewards):\n",
        "            self.model.stop_training = True\n",
        "            print(f'Detener el entrenamiento al exceder la recompensa media {self.reward_threshold} en {self.patience} episodios')"
      ],
      "metadata": {
        "id": "I7p9sc5KzENC"
      },
      "execution_count": 54,
      "outputs": []
    },
    {
      "cell_type": "code",
      "source": [
        "early_stopping = EarlyStoppingByReward(reward_threshold=20, patience=10)"
      ],
      "metadata": {
        "id": "k2QSHj2EzIYc"
      },
      "execution_count": 55,
      "outputs": []
    },
    {
      "cell_type": "code",
      "source": [
        "log_filename = 'dqn_{}_log.json'.format(env_name)"
      ],
      "metadata": {
        "id": "17_QaFy9zJ0d"
      },
      "execution_count": 56,
      "outputs": []
    },
    {
      "cell_type": "code",
      "source": [
        "if os.path.exists(filepathlw):\n",
        "    print(f'Cargamos los pesos de {filepathlw}')\n",
        "    dqn.load_weights(filepathlw)\n",
        "else:\n",
        "    print('No hay un fichero de pesos, entrenando la red desde cero')"
      ],
      "metadata": {
        "id": "9mbWVMuBzK_l",
        "colab": {
          "base_uri": "https://localhost:8080/"
        },
        "outputId": "73e7a774-c634-4306-af95-4aa017c90b21"
      },
      "execution_count": 57,
      "outputs": [
        {
          "output_type": "stream",
          "name": "stdout",
          "text": [
            "Cargamos los pesos de dqn_last_weights.h5\n"
          ]
        }
      ]
    },
    {
      "cell_type": "code",
      "source": [
        "#dqn.fit(env, nb_steps=1000000, visualize=False, verbose=2, callbacks=[save_best_weights, early_stopping])\n",
        "train_scores = dqn.fit(env, nb_steps=5000000, visualize=False, verbose=2, log_interval=10000, callbacks=[save_best_weights, save_last_weights, metrics_logger, early_stopping, FileLogger(log_filename, interval=100)])"
      ],
      "metadata": {
        "id": "Y9-LmmkrzMc1",
        "colab": {
          "base_uri": "https://localhost:8080/"
        },
        "outputId": "aa3e18e0-7e08-467c-f1d0-47261b80ceca"
      },
      "execution_count": null,
      "outputs": [
        {
          "metadata": {
            "tags": null
          },
          "name": "stdout",
          "output_type": "stream",
          "text": [
            "Training for 5000000 steps ...\n",
            "Pesos guardados en dqn_best_weights.h5 recompensa: 6.0\n",
            "Pesos guardados en dqn_last_weights.h5 al final del episodio 0\n",
            "     420/5000000: episode: 1, duration: 2.178s, episode steps: 420, steps per second: 193, episode reward:  6.000, mean reward:  0.014 [ 0.000,  1.000], mean action: 2.479 [0.000, 5.000],  loss: --, mae: --, mean_q: --, mean_eps: --\n",
            "    1131/5000000: episode: 2, duration: 2.817s, episode steps: 711, steps per second: 252, episode reward:  7.000, mean reward:  0.010 [ 0.000,  1.000], mean action: 2.416 [0.000, 5.000],  loss: --, mae: --, mean_q: --, mean_eps: --\n",
            "    1941/5000000: episode: 3, duration: 3.213s, episode steps: 810, steps per second: 252, episode reward: 10.000, mean reward:  0.012 [ 0.000,  1.000], mean action: 2.410 [0.000, 5.000],  loss: --, mae: --, mean_q: --, mean_eps: --\n",
            "    2827/5000000: episode: 4, duration: 4.842s, episode steps: 886, steps per second: 183, episode reward: 11.000, mean reward:  0.012 [ 0.000,  1.000], mean action: 2.392 [0.000, 5.000],  loss: --, mae: --, mean_q: --, mean_eps: --\n",
            "    3345/5000000: episode: 5, duration: 2.059s, episode steps: 518, steps per second: 252, episode reward:  6.000, mean reward:  0.012 [ 0.000,  1.000], mean action: 2.562 [0.000, 5.000],  loss: --, mae: --, mean_q: --, mean_eps: --\n",
            "    3990/5000000: episode: 6, duration: 2.549s, episode steps: 645, steps per second: 253, episode reward:  7.000, mean reward:  0.011 [ 0.000,  1.000], mean action: 2.443 [0.000, 5.000],  loss: --, mae: --, mean_q: --, mean_eps: --\n",
            "    4451/5000000: episode: 7, duration: 1.846s, episode steps: 461, steps per second: 250, episode reward:  8.000, mean reward:  0.017 [ 0.000,  1.000], mean action: 2.490 [0.000, 5.000],  loss: --, mae: --, mean_q: --, mean_eps: --\n",
            "    5291/5000000: episode: 8, duration: 4.611s, episode steps: 840, steps per second: 182, episode reward: 12.000, mean reward:  0.014 [ 0.000,  1.000], mean action: 2.517 [0.000, 5.000],  loss: --, mae: --, mean_q: --, mean_eps: --\n",
            "    5693/5000000: episode: 9, duration: 2.059s, episode steps: 402, steps per second: 195, episode reward: 10.000, mean reward:  0.025 [ 0.000,  1.000], mean action: 2.527 [0.000, 5.000],  loss: --, mae: --, mean_q: --, mean_eps: --\n",
            "    6325/5000000: episode: 10, duration: 2.904s, episode steps: 632, steps per second: 218, episode reward:  6.000, mean reward:  0.009 [ 0.000,  1.000], mean action: 2.378 [0.000, 5.000],  loss: --, mae: --, mean_q: --, mean_eps: --\n",
            "Pesos guardados en dqn_last_weights.h5 al final del episodio 10\n",
            "    6855/5000000: episode: 11, duration: 3.079s, episode steps: 530, steps per second: 172, episode reward:  4.000, mean reward:  0.008 [ 0.000,  1.000], mean action: 2.447 [0.000, 5.000],  loss: --, mae: --, mean_q: --, mean_eps: --\n",
            "    7375/5000000: episode: 12, duration: 2.049s, episode steps: 520, steps per second: 254, episode reward:  6.000, mean reward:  0.012 [ 0.000,  1.000], mean action: 2.463 [0.000, 5.000],  loss: --, mae: --, mean_q: --, mean_eps: --\n",
            "    7781/5000000: episode: 13, duration: 1.834s, episode steps: 406, steps per second: 221, episode reward:  5.000, mean reward:  0.012 [ 0.000,  1.000], mean action: 2.616 [0.000, 5.000],  loss: --, mae: --, mean_q: --, mean_eps: --\n",
            "    8435/5000000: episode: 14, duration: 3.591s, episode steps: 654, steps per second: 182, episode reward:  8.000, mean reward:  0.012 [ 0.000,  1.000], mean action: 2.433 [0.000, 5.000],  loss: --, mae: --, mean_q: --, mean_eps: --\n",
            "    9159/5000000: episode: 15, duration: 2.915s, episode steps: 724, steps per second: 248, episode reward:  9.000, mean reward:  0.012 [ 0.000,  1.000], mean action: 2.581 [0.000, 5.000],  loss: --, mae: --, mean_q: --, mean_eps: --\n",
            "    9733/5000000: episode: 16, duration: 2.312s, episode steps: 574, steps per second: 248, episode reward: 11.000, mean reward:  0.019 [ 0.000,  1.000], mean action: 2.474 [0.000, 5.000],  loss: --, mae: --, mean_q: --, mean_eps: --\n",
            "   10252/5000000: episode: 17, duration: 2.061s, episode steps: 519, steps per second: 252, episode reward:  4.000, mean reward:  0.008 [ 0.000,  1.000], mean action: 2.447 [0.000, 5.000],  loss: --, mae: --, mean_q: --, mean_eps: --\n",
            "   11037/5000000: episode: 18, duration: 3.894s, episode steps: 785, steps per second: 202, episode reward: 15.000, mean reward:  0.019 [ 0.000,  1.000], mean action: 2.433 [0.000, 5.000],  loss: --, mae: --, mean_q: --, mean_eps: --\n",
            "   11468/5000000: episode: 19, duration: 2.187s, episode steps: 431, steps per second: 197, episode reward:  5.000, mean reward:  0.012 [ 0.000,  1.000], mean action: 2.397 [0.000, 5.000],  loss: --, mae: --, mean_q: --, mean_eps: --\n",
            "   12522/5000000: episode: 20, duration: 4.200s, episode steps: 1054, steps per second: 251, episode reward: 16.000, mean reward:  0.015 [ 0.000,  1.000], mean action: 2.514 [0.000, 5.000],  loss: --, mae: --, mean_q: --, mean_eps: --\n",
            "Pesos guardados en dqn_best_weights.h5 recompensa: 8.0\n",
            "Pesos guardados en dqn_last_weights.h5 al final del episodio 20\n",
            "   13045/5000000: episode: 21, duration: 2.755s, episode steps: 523, steps per second: 190, episode reward:  8.000, mean reward:  0.015 [ 0.000,  1.000], mean action: 2.484 [0.000, 5.000],  loss: --, mae: --, mean_q: --, mean_eps: --\n",
            "   13758/5000000: episode: 22, duration: 3.273s, episode steps: 713, steps per second: 218, episode reward: 10.000, mean reward:  0.014 [ 0.000,  1.000], mean action: 2.647 [0.000, 5.000],  loss: --, mae: --, mean_q: --, mean_eps: --\n",
            "   14712/5000000: episode: 23, duration: 4.617s, episode steps: 954, steps per second: 207, episode reward: 18.000, mean reward:  0.019 [ 0.000,  1.000], mean action: 2.486 [0.000, 5.000],  loss: --, mae: --, mean_q: --, mean_eps: --\n",
            "   15826/5000000: episode: 24, duration: 4.444s, episode steps: 1114, steps per second: 251, episode reward: 23.000, mean reward:  0.021 [ 0.000,  1.000], mean action: 2.524 [0.000, 5.000],  loss: --, mae: --, mean_q: --, mean_eps: --\n",
            "   16572/5000000: episode: 25, duration: 2.942s, episode steps: 746, steps per second: 254, episode reward: 16.000, mean reward:  0.021 [ 0.000,  1.000], mean action: 2.458 [0.000, 5.000],  loss: --, mae: --, mean_q: --, mean_eps: --\n",
            "   17391/5000000: episode: 26, duration: 4.495s, episode steps: 819, steps per second: 182, episode reward: 13.000, mean reward:  0.016 [ 0.000,  1.000], mean action: 2.559 [0.000, 5.000],  loss: --, mae: --, mean_q: --, mean_eps: --\n",
            "   18197/5000000: episode: 27, duration: 3.231s, episode steps: 806, steps per second: 249, episode reward: 11.000, mean reward:  0.014 [ 0.000,  1.000], mean action: 2.548 [0.000, 5.000],  loss: --, mae: --, mean_q: --, mean_eps: --\n",
            "   19659/5000000: episode: 28, duration: 5.835s, episode steps: 1462, steps per second: 251, episode reward: 26.000, mean reward:  0.018 [ 0.000,  1.000], mean action: 2.458 [0.000, 5.000],  loss: --, mae: --, mean_q: --, mean_eps: --\n",
            "   20153/5000000: episode: 29, duration: 3.141s, episode steps: 494, steps per second: 157, episode reward:  3.000, mean reward:  0.006 [ 0.000,  1.000], mean action: 2.431 [0.000, 5.000],  loss: --, mae: --, mean_q: --, mean_eps: --\n",
            "   20809/5000000: episode: 30, duration: 2.627s, episode steps: 656, steps per second: 250, episode reward:  7.000, mean reward:  0.011 [ 0.000,  1.000], mean action: 2.488 [0.000, 5.000],  loss: --, mae: --, mean_q: --, mean_eps: --\n",
            "Pesos guardados en dqn_last_weights.h5 al final del episodio 30\n",
            "   21954/5000000: episode: 31, duration: 4.825s, episode steps: 1145, steps per second: 237, episode reward: 20.000, mean reward:  0.017 [ 0.000,  1.000], mean action: 2.456 [0.000, 5.000],  loss: --, mae: --, mean_q: --, mean_eps: --\n",
            "   22381/5000000: episode: 32, duration: 1.712s, episode steps: 427, steps per second: 249, episode reward:  5.000, mean reward:  0.012 [ 0.000,  1.000], mean action: 2.382 [0.000, 5.000],  loss: --, mae: --, mean_q: --, mean_eps: --\n",
            "   23044/5000000: episode: 33, duration: 3.712s, episode steps: 663, steps per second: 179, episode reward:  5.000, mean reward:  0.008 [ 0.000,  1.000], mean action: 2.484 [0.000, 5.000],  loss: --, mae: --, mean_q: --, mean_eps: --\n",
            "   23542/5000000: episode: 34, duration: 2.170s, episode steps: 498, steps per second: 229, episode reward:  2.000, mean reward:  0.004 [ 0.000,  1.000], mean action: 2.458 [0.000, 5.000],  loss: --, mae: --, mean_q: --, mean_eps: --\n",
            "   24146/5000000: episode: 35, duration: 2.402s, episode steps: 604, steps per second: 252, episode reward:  8.000, mean reward:  0.013 [ 0.000,  1.000], mean action: 2.483 [0.000, 5.000],  loss: --, mae: --, mean_q: --, mean_eps: --\n",
            "   24639/5000000: episode: 36, duration: 1.939s, episode steps: 493, steps per second: 254, episode reward:  7.000, mean reward:  0.014 [ 0.000,  1.000], mean action: 2.560 [0.000, 5.000],  loss: --, mae: --, mean_q: --, mean_eps: --\n",
            "   25150/5000000: episode: 37, duration: 2.032s, episode steps: 511, steps per second: 252, episode reward:  5.000, mean reward:  0.010 [ 0.000,  1.000], mean action: 2.532 [0.000, 5.000],  loss: --, mae: --, mean_q: --, mean_eps: --\n",
            "   26014/5000000: episode: 38, duration: 4.335s, episode steps: 864, steps per second: 199, episode reward: 14.000, mean reward:  0.016 [ 0.000,  1.000], mean action: 2.441 [0.000, 5.000],  loss: --, mae: --, mean_q: --, mean_eps: --\n",
            "   26564/5000000: episode: 39, duration: 2.552s, episode steps: 550, steps per second: 216, episode reward:  5.000, mean reward:  0.009 [ 0.000,  1.000], mean action: 2.553 [0.000, 5.000],  loss: --, mae: --, mean_q: --, mean_eps: --\n",
            "   27578/5000000: episode: 40, duration: 4.069s, episode steps: 1014, steps per second: 249, episode reward: 19.000, mean reward:  0.019 [ 0.000,  1.000], mean action: 2.495 [0.000, 5.000],  loss: --, mae: --, mean_q: --, mean_eps: --\n",
            "Pesos guardados en dqn_best_weights.h5 recompensa: 9.0\n",
            "Pesos guardados en dqn_last_weights.h5 al final del episodio 40\n",
            "   28221/5000000: episode: 41, duration: 3.243s, episode steps: 643, steps per second: 198, episode reward:  9.000, mean reward:  0.014 [ 0.000,  1.000], mean action: 2.479 [0.000, 5.000],  loss: --, mae: --, mean_q: --, mean_eps: --\n",
            "   28918/5000000: episode: 42, duration: 3.743s, episode steps: 697, steps per second: 186, episode reward: 14.000, mean reward:  0.020 [ 0.000,  1.000], mean action: 2.591 [0.000, 5.000],  loss: --, mae: --, mean_q: --, mean_eps: --\n",
            "   29570/5000000: episode: 43, duration: 2.871s, episode steps: 652, steps per second: 227, episode reward:  7.000, mean reward:  0.011 [ 0.000,  1.000], mean action: 2.475 [0.000, 5.000],  loss: --, mae: --, mean_q: --, mean_eps: --\n",
            "   30121/5000000: episode: 44, duration: 2.195s, episode steps: 551, steps per second: 251, episode reward:  8.000, mean reward:  0.015 [ 0.000,  1.000], mean action: 2.443 [0.000, 5.000],  loss: --, mae: --, mean_q: --, mean_eps: --\n",
            "   30866/5000000: episode: 45, duration: 2.987s, episode steps: 745, steps per second: 249, episode reward: 12.000, mean reward:  0.016 [ 0.000,  1.000], mean action: 2.542 [0.000, 5.000],  loss: --, mae: --, mean_q: --, mean_eps: --\n",
            "   31950/5000000: episode: 46, duration: 5.300s, episode steps: 1084, steps per second: 205, episode reward: 17.000, mean reward:  0.016 [ 0.000,  1.000], mean action: 2.486 [0.000, 5.000],  loss: --, mae: --, mean_q: --, mean_eps: --\n",
            "   32782/5000000: episode: 47, duration: 3.516s, episode steps: 832, steps per second: 237, episode reward: 15.000, mean reward:  0.018 [ 0.000,  1.000], mean action: 2.431 [0.000, 5.000],  loss: --, mae: --, mean_q: --, mean_eps: --\n",
            "   33292/5000000: episode: 48, duration: 2.016s, episode steps: 510, steps per second: 253, episode reward:  6.000, mean reward:  0.012 [ 0.000,  1.000], mean action: 2.502 [0.000, 5.000],  loss: --, mae: --, mean_q: --, mean_eps: --\n",
            "   34109/5000000: episode: 49, duration: 3.210s, episode steps: 817, steps per second: 255, episode reward: 22.000, mean reward:  0.027 [ 0.000,  1.000], mean action: 2.376 [0.000, 5.000],  loss: --, mae: --, mean_q: --, mean_eps: --\n",
            "   34637/5000000: episode: 50, duration: 2.289s, episode steps: 528, steps per second: 231, episode reward:  6.000, mean reward:  0.011 [ 0.000,  1.000], mean action: 2.438 [0.000, 5.000],  loss: --, mae: --, mean_q: --, mean_eps: --\n",
            "Pesos guardados en dqn_last_weights.h5 al final del episodio 50\n",
            "   35179/5000000: episode: 51, duration: 3.505s, episode steps: 542, steps per second: 155, episode reward:  8.000, mean reward:  0.015 [ 0.000,  1.000], mean action: 2.526 [0.000, 5.000],  loss: --, mae: --, mean_q: --, mean_eps: --\n",
            "   36149/5000000: episode: 52, duration: 3.800s, episode steps: 970, steps per second: 255, episode reward: 13.000, mean reward:  0.013 [ 0.000,  1.000], mean action: 2.447 [0.000, 5.000],  loss: --, mae: --, mean_q: --, mean_eps: --\n",
            "   36794/5000000: episode: 53, duration: 2.581s, episode steps: 645, steps per second: 250, episode reward:  9.000, mean reward:  0.014 [ 0.000,  1.000], mean action: 2.447 [0.000, 5.000],  loss: --, mae: --, mean_q: --, mean_eps: --\n",
            "   37741/5000000: episode: 54, duration: 4.254s, episode steps: 947, steps per second: 223, episode reward: 12.000, mean reward:  0.013 [ 0.000,  1.000], mean action: 2.487 [0.000, 5.000],  loss: --, mae: --, mean_q: --, mean_eps: --\n",
            "   38336/5000000: episode: 55, duration: 3.077s, episode steps: 595, steps per second: 193, episode reward:  8.000, mean reward:  0.013 [ 0.000,  1.000], mean action: 2.687 [0.000, 5.000],  loss: --, mae: --, mean_q: --, mean_eps: --\n",
            "   38981/5000000: episode: 56, duration: 2.605s, episode steps: 645, steps per second: 248, episode reward: 13.000, mean reward:  0.020 [ 0.000,  1.000], mean action: 2.606 [0.000, 5.000],  loss: --, mae: --, mean_q: --, mean_eps: --\n",
            "   40004/5000000: episode: 57, duration: 4.056s, episode steps: 1023, steps per second: 252, episode reward: 23.000, mean reward:  0.022 [ 0.000,  1.000], mean action: 2.486 [0.000, 5.000],  loss: --, mae: --, mean_q: --, mean_eps: --\n",
            "   40413/5000000: episode: 58, duration: 1.628s, episode steps: 409, steps per second: 251, episode reward:  4.000, mean reward:  0.010 [ 0.000,  1.000], mean action: 2.504 [0.000, 5.000],  loss: --, mae: --, mean_q: --, mean_eps: --\n",
            "   41314/5000000: episode: 59, duration: 4.846s, episode steps: 901, steps per second: 186, episode reward: 17.000, mean reward:  0.019 [ 0.000,  1.000], mean action: 2.538 [0.000, 5.000],  loss: --, mae: --, mean_q: --, mean_eps: --\n",
            "   42077/5000000: episode: 60, duration: 2.994s, episode steps: 763, steps per second: 255, episode reward: 10.000, mean reward:  0.013 [ 0.000,  1.000], mean action: 2.511 [0.000, 5.000],  loss: --, mae: --, mean_q: --, mean_eps: --\n",
            "Pesos guardados en dqn_last_weights.h5 al final del episodio 60\n",
            "   42443/5000000: episode: 61, duration: 1.777s, episode steps: 366, steps per second: 206, episode reward:  7.000, mean reward:  0.019 [ 0.000,  1.000], mean action: 2.552 [0.000, 5.000],  loss: --, mae: --, mean_q: --, mean_eps: --\n",
            "   42995/5000000: episode: 62, duration: 2.185s, episode steps: 552, steps per second: 253, episode reward:  6.000, mean reward:  0.011 [ 0.000,  1.000], mean action: 2.536 [0.000, 5.000],  loss: --, mae: --, mean_q: --, mean_eps: --\n",
            "   43497/5000000: episode: 63, duration: 1.960s, episode steps: 502, steps per second: 256, episode reward:  5.000, mean reward:  0.010 [ 0.000,  1.000], mean action: 2.432 [0.000, 5.000],  loss: --, mae: --, mean_q: --, mean_eps: --\n",
            "   44192/5000000: episode: 64, duration: 4.070s, episode steps: 695, steps per second: 171, episode reward:  6.000, mean reward:  0.009 [ 0.000,  1.000], mean action: 2.534 [0.000, 5.000],  loss: --, mae: --, mean_q: --, mean_eps: --\n",
            "   44798/5000000: episode: 65, duration: 2.411s, episode steps: 606, steps per second: 251, episode reward:  9.000, mean reward:  0.015 [ 0.000,  1.000], mean action: 2.510 [0.000, 5.000],  loss: --, mae: --, mean_q: --, mean_eps: --\n",
            "   45533/5000000: episode: 66, duration: 2.921s, episode steps: 735, steps per second: 252, episode reward: 10.000, mean reward:  0.014 [ 0.000,  1.000], mean action: 2.444 [0.000, 5.000],  loss: --, mae: --, mean_q: --, mean_eps: --\n",
            "   46433/5000000: episode: 67, duration: 3.664s, episode steps: 900, steps per second: 246, episode reward: 11.000, mean reward:  0.012 [ 0.000,  1.000], mean action: 2.439 [0.000, 5.000],  loss: --, mae: --, mean_q: --, mean_eps: --\n",
            "   46967/5000000: episode: 68, duration: 3.168s, episode steps: 534, steps per second: 169, episode reward:  7.000, mean reward:  0.013 [ 0.000,  1.000], mean action: 2.446 [0.000, 5.000],  loss: --, mae: --, mean_q: --, mean_eps: --\n",
            "   47746/5000000: episode: 69, duration: 3.302s, episode steps: 779, steps per second: 236, episode reward:  9.000, mean reward:  0.012 [ 0.000,  1.000], mean action: 2.390 [0.000, 5.000],  loss: --, mae: --, mean_q: --, mean_eps: --\n",
            "   48245/5000000: episode: 70, duration: 2.058s, episode steps: 499, steps per second: 242, episode reward:  7.000, mean reward:  0.014 [ 0.000,  1.000], mean action: 2.473 [0.000, 5.000],  loss: --, mae: --, mean_q: --, mean_eps: --\n",
            "Pesos guardados en dqn_last_weights.h5 al final del episodio 70\n",
            "   49077/5000000: episode: 71, duration: 3.634s, episode steps: 832, steps per second: 229, episode reward: 12.000, mean reward:  0.014 [ 0.000,  1.000], mean action: 2.554 [0.000, 5.000],  loss: --, mae: --, mean_q: --, mean_eps: --\n",
            "   49671/5000000: episode: 72, duration: 2.840s, episode steps: 594, steps per second: 209, episode reward: 10.000, mean reward:  0.017 [ 0.000,  1.000], mean action: 2.497 [0.000, 5.000],  loss: --, mae: --, mean_q: --, mean_eps: --\n"
          ]
        },
        {
          "metadata": {
            "tags": null
          },
          "name": "stderr",
          "output_type": "stream",
          "text": [
            "/usr/local/lib/python3.11/dist-packages/keras/engine/training_v1.py:2359: UserWarning: `Model.state_updates` will be removed in a future version. This property should not be used in TensorFlow 2.0, as `updates` are applied automatically.\n",
            "  updates=self.state_updates,\n"
          ]
        },
        {
          "output_type": "stream",
          "name": "stdout",
          "text": [
            "   50681/5000000: episode: 73, duration: 9.508s, episode steps: 1010, steps per second: 106, episode reward: 12.000, mean reward:  0.012 [ 0.000,  1.000], mean action: 2.551 [0.000, 5.000],  loss: 0.007442, mae: 0.029358, mean_q: 0.066120, mean_eps: 0.954694\n",
            "   51160/5000000: episode: 74, duration: 6.269s, episode steps: 479, steps per second:  76, episode reward:  5.000, mean reward:  0.010 [ 0.000,  1.000], mean action: 2.411 [0.000, 5.000],  loss: 0.007048, mae: 0.025907, mean_q: 0.042011, mean_eps: 0.954176\n",
            "   51703/5000000: episode: 75, duration: 5.444s, episode steps: 543, steps per second: 100, episode reward:  7.000, mean reward:  0.013 [ 0.000,  1.000], mean action: 2.466 [0.000, 5.000],  loss: 0.004143, mae: 0.023254, mean_q: 0.043403, mean_eps: 0.953711\n",
            "   52357/5000000: episode: 76, duration: 7.828s, episode steps: 654, steps per second:  84, episode reward: 12.000, mean reward:  0.018 [ 0.000,  1.000], mean action: 2.479 [0.000, 5.000],  loss: 0.008436, mae: 0.027222, mean_q: 0.042834, mean_eps: 0.953171\n",
            "   53004/5000000: episode: 77, duration: 6.437s, episode steps: 647, steps per second: 101, episode reward:  9.000, mean reward:  0.014 [ 0.000,  1.000], mean action: 2.555 [0.000, 5.000],  loss: 0.007077, mae: 0.027512, mean_q: 0.051839, mean_eps: 0.952588\n",
            "   53801/5000000: episode: 78, duration: 9.552s, episode steps: 797, steps per second:  83, episode reward: 10.000, mean reward:  0.013 [ 0.000,  1.000], mean action: 2.609 [0.000, 5.000],  loss: 0.007063, mae: 0.030176, mean_q: 0.041077, mean_eps: 0.951940\n",
            "   54394/5000000: episode: 79, duration: 5.955s, episode steps: 593, steps per second: 100, episode reward:  5.000, mean reward:  0.008 [ 0.000,  1.000], mean action: 2.604 [0.000, 5.000],  loss: 0.005603, mae: 0.022665, mean_q: 0.035896, mean_eps: 0.951314\n",
            "   55096/5000000: episode: 80, duration: 8.417s, episode steps: 702, steps per second:  83, episode reward:  6.000, mean reward:  0.009 [ 0.000,  1.000], mean action: 2.678 [0.000, 5.000],  loss: 0.006992, mae: 0.026688, mean_q: 0.042764, mean_eps: 0.950730\n",
            "Pesos guardados en dqn_best_weights.h5 recompensa: 11.0\n",
            "Pesos guardados en dqn_last_weights.h5 al final del episodio 80\n",
            "   55712/5000000: episode: 81, duration: 7.166s, episode steps: 616, steps per second:  86, episode reward: 11.000, mean reward:  0.018 [ 0.000,  1.000], mean action: 2.636 [0.000, 5.000],  loss: 0.010676, mae: 0.037593, mean_q: 0.045789, mean_eps: 0.950136\n",
            "   56628/5000000: episode: 82, duration: 10.020s, episode steps: 916, steps per second:  91, episode reward: 20.000, mean reward:  0.022 [ 0.000,  1.000], mean action: 2.473 [0.000, 5.000],  loss: 0.006529, mae: 0.030225, mean_q: 0.043295, mean_eps: 0.949445\n",
            "   57247/5000000: episode: 83, duration: 7.602s, episode steps: 619, steps per second:  81, episode reward: 11.000, mean reward:  0.018 [ 0.000,  1.000], mean action: 2.481 [0.000, 5.000],  loss: 0.005982, mae: 0.024054, mean_q: 0.035392, mean_eps: 0.948754\n",
            "   57796/5000000: episode: 84, duration: 5.553s, episode steps: 549, steps per second:  99, episode reward: 10.000, mean reward:  0.018 [ 0.000,  1.000], mean action: 2.510 [0.000, 5.000],  loss: 0.004777, mae: 0.026446, mean_q: 0.033602, mean_eps: 0.948225\n",
            "   58586/5000000: episode: 85, duration: 9.256s, episode steps: 790, steps per second:  85, episode reward: 12.000, mean reward:  0.015 [ 0.000,  1.000], mean action: 2.371 [0.000, 5.000],  loss: 0.005171, mae: 0.025009, mean_q: 0.036048, mean_eps: 0.947620\n",
            "   59402/5000000: episode: 86, duration: 9.551s, episode steps: 816, steps per second:  85, episode reward: 13.000, mean reward:  0.016 [ 0.000,  1.000], mean action: 2.457 [0.000, 5.000],  loss: 0.005968, mae: 0.027126, mean_q: 0.033560, mean_eps: 0.946896\n",
            "   60532/5000000: episode: 87, duration: 12.365s, episode steps: 1130, steps per second:  91, episode reward: 18.000, mean reward:  0.016 [ 0.000,  1.000], mean action: 2.603 [0.000, 5.000],  loss: 0.008343, mae: 0.042196, mean_q: 0.060556, mean_eps: 0.946022\n",
            "   60959/5000000: episode: 88, duration: 4.433s, episode steps: 427, steps per second:  96, episode reward:  6.000, mean reward:  0.014 [ 0.000,  1.000], mean action: 2.429 [0.000, 5.000],  loss: 0.007550, mae: 0.052035, mean_q: 0.081045, mean_eps: 0.945330\n",
            "   61659/5000000: episode: 89, duration: 7.658s, episode steps: 700, steps per second:  91, episode reward: 14.000, mean reward:  0.020 [ 0.000,  1.000], mean action: 2.517 [0.000, 5.000],  loss: 0.008384, mae: 0.056857, mean_q: 0.074224, mean_eps: 0.944823\n",
            "   62404/5000000: episode: 90, duration: 8.311s, episode steps: 745, steps per second:  90, episode reward: 12.000, mean reward:  0.016 [ 0.000,  1.000], mean action: 2.553 [0.000, 5.000],  loss: 0.005106, mae: 0.053526, mean_q: 0.073316, mean_eps: 0.944164\n",
            "Pesos guardados en dqn_last_weights.h5 al final del episodio 90\n",
            "   62798/5000000: episode: 91, duration: 4.398s, episode steps: 394, steps per second:  90, episode reward:  3.000, mean reward:  0.008 [ 0.000,  1.000], mean action: 2.566 [0.000, 5.000],  loss: 0.004002, mae: 0.044200, mean_q: 0.060152, mean_eps: 0.943656\n",
            "   63477/5000000: episode: 92, duration: 7.826s, episode steps: 679, steps per second:  87, episode reward:  7.000, mean reward:  0.010 [ 0.000,  1.000], mean action: 2.455 [0.000, 5.000],  loss: 0.008879, mae: 0.064564, mean_q: 0.079284, mean_eps: 0.943181\n",
            "   63989/5000000: episode: 93, duration: 5.610s, episode steps: 512, steps per second:  91, episode reward:  5.000, mean reward:  0.010 [ 0.000,  1.000], mean action: 2.414 [0.000, 5.000],  loss: 0.008576, mae: 0.050349, mean_q: 0.068160, mean_eps: 0.942641\n",
            "   64825/5000000: episode: 94, duration: 9.335s, episode steps: 836, steps per second:  90, episode reward: 13.000, mean reward:  0.016 [ 0.000,  1.000], mean action: 2.449 [0.000, 5.000],  loss: 0.007567, mae: 0.055472, mean_q: 0.071226, mean_eps: 0.942026\n",
            "   65853/5000000: episode: 95, duration: 11.591s, episode steps: 1028, steps per second:  89, episode reward: 18.000, mean reward:  0.018 [ 0.000,  1.000], mean action: 2.459 [0.000, 5.000],  loss: 0.008577, mae: 0.060977, mean_q: 0.076591, mean_eps: 0.941194\n",
            "   67314/5000000: episode: 96, duration: 16.125s, episode steps: 1461, steps per second:  91, episode reward: 23.000, mean reward:  0.016 [ 0.000,  1.000], mean action: 2.562 [0.000, 5.000],  loss: 0.006123, mae: 0.055491, mean_q: 0.076686, mean_eps: 0.940082\n",
            "   68102/5000000: episode: 97, duration: 9.446s, episode steps: 788, steps per second:  83, episode reward: 12.000, mean reward:  0.015 [ 0.000,  1.000], mean action: 2.636 [0.000, 5.000],  loss: 0.006625, mae: 0.057267, mean_q: 0.072620, mean_eps: 0.939066\n",
            "   68697/5000000: episode: 98, duration: 6.290s, episode steps: 595, steps per second:  95, episode reward:  6.000, mean reward:  0.010 [ 0.000,  1.000], mean action: 2.482 [0.000, 5.000],  loss: 0.012177, mae: 0.066878, mean_q: 0.084317, mean_eps: 0.938440\n",
            "   69411/5000000: episode: 99, duration: 8.422s, episode steps: 714, steps per second:  85, episode reward: 12.000, mean reward:  0.017 [ 0.000,  1.000], mean action: 2.710 [0.000, 5.000],  loss: 0.008395, mae: 0.055974, mean_q: 0.079654, mean_eps: 0.937846\n",
            "   70213/5000000: episode: 100, duration: 9.388s, episode steps: 802, steps per second:  85, episode reward: 15.000, mean reward:  0.019 [ 0.000,  1.000], mean action: 2.373 [0.000, 5.000],  loss: 0.003828, mae: 0.053871, mean_q: 0.074728, mean_eps: 0.937166\n",
            "Pesos guardados en dqn_last_weights.h5 al final del episodio 100\n",
            "   70721/5000000: episode: 101, duration: 5.499s, episode steps: 508, steps per second:  92, episode reward:  7.000, mean reward:  0.014 [ 0.000,  1.000], mean action: 2.506 [0.000, 5.000],  loss: 0.008713, mae: 0.065544, mean_q: 0.096730, mean_eps: 0.936582\n",
            "   71189/5000000: episode: 102, duration: 6.084s, episode steps: 468, steps per second:  77, episode reward:  7.000, mean reward:  0.015 [ 0.000,  1.000], mean action: 2.429 [0.000, 5.000],  loss: 0.007797, mae: 0.076376, mean_q: 0.107014, mean_eps: 0.936140\n",
            "   72185/5000000: episode: 103, duration: 9.897s, episode steps: 996, steps per second: 101, episode reward: 13.000, mean reward:  0.013 [ 0.000,  1.000], mean action: 2.374 [0.000, 5.000],  loss: 0.005774, mae: 0.068519, mean_q: 0.097858, mean_eps: 0.935481\n",
            "   72888/5000000: episode: 104, duration: 8.577s, episode steps: 703, steps per second:  82, episode reward: 12.000, mean reward:  0.017 [ 0.000,  1.000], mean action: 2.403 [0.000, 5.000],  loss: 0.005411, mae: 0.065106, mean_q: 0.084609, mean_eps: 0.934725\n",
            "   73391/5000000: episode: 105, duration: 5.135s, episode steps: 503, steps per second:  98, episode reward:  6.000, mean reward:  0.012 [ 0.000,  1.000], mean action: 2.461 [0.000, 5.000],  loss: 0.008878, mae: 0.073120, mean_q: 0.095725, mean_eps: 0.934185\n",
            "   74119/5000000: episode: 106, duration: 8.673s, episode steps: 728, steps per second:  84, episode reward:  6.000, mean reward:  0.008 [ 0.000,  1.000], mean action: 2.614 [0.000, 5.000],  loss: 0.009018, mae: 0.075876, mean_q: 0.098651, mean_eps: 0.933623\n",
            "   74741/5000000: episode: 107, duration: 7.615s, episode steps: 622, steps per second:  82, episode reward:  8.000, mean reward:  0.013 [ 0.000,  1.000], mean action: 2.526 [0.000, 5.000],  loss: 0.004829, mae: 0.067843, mean_q: 0.088770, mean_eps: 0.933008\n",
            "   75246/5000000: episode: 108, duration: 5.074s, episode steps: 505, steps per second: 100, episode reward: 10.000, mean reward:  0.020 [ 0.000,  1.000], mean action: 2.554 [0.000, 5.000],  loss: 0.005186, mae: 0.060846, mean_q: 0.080541, mean_eps: 0.932500\n",
            "   76277/5000000: episode: 109, duration: 11.661s, episode steps: 1031, steps per second:  88, episode reward: 21.000, mean reward:  0.020 [ 0.000,  1.000], mean action: 2.539 [0.000, 5.000],  loss: 0.007175, mae: 0.069896, mean_q: 0.088858, mean_eps: 0.931809\n",
            "   76802/5000000: episode: 110, duration: 5.282s, episode steps: 525, steps per second:  99, episode reward:  8.000, mean reward:  0.015 [ 0.000,  1.000], mean action: 2.594 [0.000, 5.000],  loss: 0.014657, mae: 0.083685, mean_q: 0.102311, mean_eps: 0.931107\n",
            "Pesos guardados en dqn_last_weights.h5 al final del episodio 110\n",
            "   77447/5000000: episode: 111, duration: 8.050s, episode steps: 645, steps per second:  80, episode reward:  8.000, mean reward:  0.012 [ 0.000,  1.000], mean action: 2.414 [0.000, 5.000],  loss: 0.003115, mae: 0.067724, mean_q: 0.086576, mean_eps: 0.930588\n",
            "   78586/5000000: episode: 112, duration: 12.926s, episode steps: 1139, steps per second:  88, episode reward: 21.000, mean reward:  0.018 [ 0.000,  1.000], mean action: 2.409 [0.000, 5.000],  loss: 0.005389, mae: 0.064570, mean_q: 0.087397, mean_eps: 0.929789\n",
            "   79251/5000000: episode: 113, duration: 6.645s, episode steps: 665, steps per second: 100, episode reward: 11.000, mean reward:  0.017 [ 0.000,  1.000], mean action: 2.411 [0.000, 5.000],  loss: 0.015203, mae: 0.084793, mean_q: 0.111054, mean_eps: 0.928968\n",
            "   80085/5000000: episode: 114, duration: 9.585s, episode steps: 834, steps per second:  87, episode reward:  7.000, mean reward:  0.008 [ 0.000,  1.000], mean action: 2.606 [0.000, 5.000],  loss: 0.004194, mae: 0.064205, mean_q: 0.081277, mean_eps: 0.928299\n",
            "   80738/5000000: episode: 115, duration: 8.204s, episode steps: 653, steps per second:  80, episode reward:  9.000, mean reward:  0.014 [ 0.000,  1.000], mean action: 2.479 [0.000, 5.000],  loss: 0.010682, mae: 0.097011, mean_q: 0.125571, mean_eps: 0.927629\n",
            "   81728/5000000: episode: 116, duration: 10.564s, episode steps: 990, steps per second:  94, episode reward: 15.000, mean reward:  0.015 [ 0.000,  1.000], mean action: 2.531 [0.000, 5.000],  loss: 0.004581, mae: 0.087190, mean_q: 0.113451, mean_eps: 0.926884\n",
            "   82376/5000000: episode: 117, duration: 7.324s, episode steps: 648, steps per second:  88, episode reward:  6.000, mean reward:  0.009 [ 0.000,  1.000], mean action: 2.503 [0.000, 5.000],  loss: 0.010345, mae: 0.103518, mean_q: 0.133611, mean_eps: 0.926150\n",
            "   83303/5000000: episode: 118, duration: 10.700s, episode steps: 927, steps per second:  87, episode reward: 14.000, mean reward:  0.015 [ 0.000,  1.000], mean action: 2.382 [0.000, 5.000],  loss: 0.008591, mae: 0.097391, mean_q: 0.123861, mean_eps: 0.925448\n",
            "   83779/5000000: episode: 119, duration: 4.771s, episode steps: 476, steps per second: 100, episode reward:  4.000, mean reward:  0.008 [ 0.000,  1.000], mean action: 2.525 [0.000, 5.000],  loss: 0.007897, mae: 0.087689, mean_q: 0.112813, mean_eps: 0.924821\n",
            "   84358/5000000: episode: 120, duration: 7.175s, episode steps: 579, steps per second:  81, episode reward:  7.000, mean reward:  0.012 [ 0.000,  1.000], mean action: 2.604 [0.000, 5.000],  loss: 0.007175, mae: 0.099022, mean_q: 0.123926, mean_eps: 0.924346\n",
            "Pesos guardados en dqn_best_weights.h5 recompensa: 15.0\n",
            "Pesos guardados en dqn_last_weights.h5 al final del episodio 120\n",
            "   85308/5000000: episode: 121, duration: 11.061s, episode steps: 950, steps per second:  86, episode reward: 15.000, mean reward:  0.016 [ 0.000,  1.000], mean action: 2.655 [0.000, 5.000],  loss: 0.006963, mae: 0.093966, mean_q: 0.116168, mean_eps: 0.923655\n",
            "   86068/5000000: episode: 122, duration: 8.015s, episode steps: 760, steps per second:  95, episode reward: 12.000, mean reward:  0.016 [ 0.000,  1.000], mean action: 2.501 [0.000, 5.000],  loss: 0.008226, mae: 0.095781, mean_q: 0.118570, mean_eps: 0.922877\n",
            "   86577/5000000: episode: 123, duration: 6.453s, episode steps: 509, steps per second:  79, episode reward:  5.000, mean reward:  0.010 [ 0.000,  1.000], mean action: 2.358 [0.000, 5.000],  loss: 0.010347, mae: 0.103080, mean_q: 0.126204, mean_eps: 0.922305\n",
            "   87604/5000000: episode: 124, duration: 10.948s, episode steps: 1027, steps per second:  94, episode reward: 16.000, mean reward:  0.016 [ 0.000,  1.000], mean action: 2.546 [0.000, 5.000],  loss: 0.005885, mae: 0.092161, mean_q: 0.113828, mean_eps: 0.921614\n",
            "   88378/5000000: episode: 125, duration: 8.420s, episode steps: 774, steps per second:  92, episode reward: 10.000, mean reward:  0.013 [ 0.000,  1.000], mean action: 2.478 [0.000, 5.000],  loss: 0.007254, mae: 0.092971, mean_q: 0.119308, mean_eps: 0.920804\n",
            "   89499/5000000: episode: 126, duration: 12.762s, episode steps: 1121, steps per second:  88, episode reward: 22.000, mean reward:  0.020 [ 0.000,  1.000], mean action: 2.711 [0.000, 5.000],  loss: 0.006647, mae: 0.093565, mean_q: 0.122836, mean_eps: 0.919950\n",
            "   90455/5000000: episode: 127, duration: 10.819s, episode steps: 956, steps per second:  88, episode reward: 16.000, mean reward:  0.017 [ 0.000,  1.000], mean action: 2.505 [0.000, 5.000],  loss: 0.005556, mae: 0.094722, mean_q: 0.122338, mean_eps: 0.919022\n",
            "   91304/5000000: episode: 128, duration: 10.079s, episode steps: 849, steps per second:  84, episode reward: 12.000, mean reward:  0.014 [ 0.000,  1.000], mean action: 2.577 [0.000, 5.000],  loss: 0.009498, mae: 0.115959, mean_q: 0.146649, mean_eps: 0.918212\n",
            "   92069/5000000: episode: 129, duration: 7.663s, episode steps: 765, steps per second: 100, episode reward: 12.000, mean reward:  0.016 [ 0.000,  1.000], mean action: 2.323 [0.000, 5.000],  loss: 0.007005, mae: 0.119290, mean_q: 0.150675, mean_eps: 0.917477\n",
            "   92534/5000000: episode: 130, duration: 6.003s, episode steps: 465, steps per second:  77, episode reward:  8.000, mean reward:  0.017 [ 0.000,  1.000], mean action: 2.531 [0.000, 5.000],  loss: 0.006621, mae: 0.111677, mean_q: 0.138924, mean_eps: 0.916926\n",
            "Pesos guardados en dqn_last_weights.h5 al final del episodio 130\n",
            "   93274/5000000: episode: 131, duration: 7.947s, episode steps: 740, steps per second:  93, episode reward:  6.000, mean reward:  0.008 [ 0.000,  1.000], mean action: 2.397 [0.000, 5.000],  loss: 0.009023, mae: 0.120064, mean_q: 0.147751, mean_eps: 0.916386\n",
            "   94055/5000000: episode: 132, duration: 9.257s, episode steps: 781, steps per second:  84, episode reward: 10.000, mean reward:  0.013 [ 0.000,  1.000], mean action: 2.471 [0.000, 5.000],  loss: 0.008188, mae: 0.116705, mean_q: 0.143245, mean_eps: 0.915706\n",
            "   94533/5000000: episode: 133, duration: 4.855s, episode steps: 478, steps per second:  98, episode reward:  6.000, mean reward:  0.013 [ 0.000,  1.000], mean action: 2.540 [0.000, 5.000],  loss: 0.008017, mae: 0.108060, mean_q: 0.132802, mean_eps: 0.915144\n",
            "   94937/5000000: episode: 134, duration: 5.487s, episode steps: 404, steps per second:  74, episode reward:  7.000, mean reward:  0.017 [ 0.000,  1.000], mean action: 2.705 [0.000, 5.000],  loss: 0.010748, mae: 0.125745, mean_q: 0.153141, mean_eps: 0.914745\n",
            "   95769/5000000: episode: 135, duration: 8.349s, episode steps: 832, steps per second: 100, episode reward: 14.000, mean reward:  0.017 [ 0.000,  1.000], mean action: 2.453 [0.000, 5.000],  loss: 0.010102, mae: 0.115838, mean_q: 0.146199, mean_eps: 0.914183\n",
            "   96389/5000000: episode: 136, duration: 7.659s, episode steps: 620, steps per second:  81, episode reward:  5.000, mean reward:  0.008 [ 0.000,  1.000], mean action: 2.563 [0.000, 5.000],  loss: 0.010158, mae: 0.121677, mean_q: 0.153390, mean_eps: 0.913524\n",
            "   97034/5000000: episode: 137, duration: 7.154s, episode steps: 645, steps per second:  90, episode reward:  8.000, mean reward:  0.012 [ 0.000,  1.000], mean action: 2.447 [0.000, 5.000],  loss: 0.005803, mae: 0.104639, mean_q: 0.132841, mean_eps: 0.912952\n",
            "   97660/5000000: episode: 138, duration: 7.025s, episode steps: 626, steps per second:  89, episode reward:  6.000, mean reward:  0.010 [ 0.000,  1.000], mean action: 2.618 [0.000, 5.000],  loss: 0.006543, mae: 0.118253, mean_q: 0.145482, mean_eps: 0.912380\n",
            "   98147/5000000: episode: 139, duration: 4.940s, episode steps: 487, steps per second:  99, episode reward:  4.000, mean reward:  0.008 [ 0.000,  1.000], mean action: 2.324 [0.000, 5.000],  loss: 0.006271, mae: 0.104727, mean_q: 0.131461, mean_eps: 0.911883\n",
            "   99038/5000000: episode: 140, duration: 10.273s, episode steps: 891, steps per second:  87, episode reward: 16.000, mean reward:  0.018 [ 0.000,  1.000], mean action: 2.552 [0.000, 5.000],  loss: 0.006223, mae: 0.113101, mean_q: 0.142633, mean_eps: 0.911267\n",
            "Pesos guardados en dqn_last_weights.h5 al final del episodio 140\n",
            "   99646/5000000: episode: 141, duration: 7.865s, episode steps: 608, steps per second:  77, episode reward:  5.000, mean reward:  0.008 [ 0.000,  1.000], mean action: 2.423 [0.000, 5.000],  loss: 0.004483, mae: 0.103642, mean_q: 0.131829, mean_eps: 0.910598\n",
            "  100329/5000000: episode: 142, duration: 6.912s, episode steps: 683, steps per second:  99, episode reward:  8.000, mean reward:  0.012 [ 0.000,  1.000], mean action: 2.375 [0.000, 5.000],  loss: 0.007488, mae: 0.112044, mean_q: 0.141551, mean_eps: 0.910014\n",
            "  100886/5000000: episode: 143, duration: 6.961s, episode steps: 557, steps per second:  80, episode reward:  9.000, mean reward:  0.016 [ 0.000,  1.000], mean action: 2.250 [0.000, 5.000],  loss: 0.006865, mae: 0.126301, mean_q: 0.161204, mean_eps: 0.909453\n",
            "  101501/5000000: episode: 144, duration: 6.297s, episode steps: 615, steps per second:  98, episode reward:  6.000, mean reward:  0.010 [ 0.000,  1.000], mean action: 2.193 [0.000, 5.000],  loss: 0.007346, mae: 0.129317, mean_q: 0.171198, mean_eps: 0.908924\n",
            "  102223/5000000: episode: 145, duration: 8.688s, episode steps: 722, steps per second:  83, episode reward:  8.000, mean reward:  0.011 [ 0.000,  1.000], mean action: 2.464 [0.000, 5.000],  loss: 0.005257, mae: 0.126222, mean_q: 0.161783, mean_eps: 0.908319\n",
            "  103271/5000000: episode: 146, duration: 11.801s, episode steps: 1048, steps per second:  89, episode reward: 16.000, mean reward:  0.015 [ 0.000,  1.000], mean action: 2.445 [0.000, 5.000],  loss: 0.005480, mae: 0.120151, mean_q: 0.152214, mean_eps: 0.907530\n",
            "  103924/5000000: episode: 147, duration: 6.673s, episode steps: 653, steps per second:  98, episode reward:  7.000, mean reward:  0.011 [ 0.000,  1.000], mean action: 2.473 [0.000, 5.000],  loss: 0.008966, mae: 0.126866, mean_q: 0.161237, mean_eps: 0.906764\n",
            "  104674/5000000: episode: 148, duration: 8.949s, episode steps: 750, steps per second:  84, episode reward: 11.000, mean reward:  0.015 [ 0.000,  1.000], mean action: 2.524 [0.000, 5.000],  loss: 0.010398, mae: 0.137013, mean_q: 0.171465, mean_eps: 0.906126\n",
            "  105597/5000000: episode: 149, duration: 10.588s, episode steps: 923, steps per second:  87, episode reward: 13.000, mean reward:  0.014 [ 0.000,  1.000], mean action: 2.560 [0.000, 5.000],  loss: 0.008844, mae: 0.133702, mean_q: 0.171181, mean_eps: 0.905381\n",
            "  106104/5000000: episode: 150, duration: 5.275s, episode steps: 507, steps per second:  96, episode reward:  6.000, mean reward:  0.012 [ 0.000,  1.000], mean action: 2.497 [0.000, 5.000],  loss: 0.006057, mae: 0.123044, mean_q: 0.162013, mean_eps: 0.904744\n",
            "Pesos guardados en dqn_last_weights.h5 al final del episodio 150\n",
            "  106636/5000000: episode: 151, duration: 7.527s, episode steps: 532, steps per second:  71, episode reward:  6.000, mean reward:  0.011 [ 0.000,  1.000], mean action: 2.509 [0.000, 5.000],  loss: 0.002217, mae: 0.111137, mean_q: 0.142644, mean_eps: 0.904269\n",
            "  107388/5000000: episode: 152, duration: 7.609s, episode steps: 752, steps per second:  99, episode reward: 14.000, mean reward:  0.019 [ 0.000,  1.000], mean action: 2.745 [0.000, 5.000],  loss: 0.007627, mae: 0.128700, mean_q: 0.162153, mean_eps: 0.903686\n",
            "  108666/5000000: episode: 153, duration: 14.368s, episode steps: 1278, steps per second:  89, episode reward: 22.000, mean reward:  0.017 [ 0.000,  1.000], mean action: 2.324 [0.000, 5.000],  loss: 0.008841, mae: 0.129730, mean_q: 0.161872, mean_eps: 0.902778\n",
            "  109235/5000000: episode: 154, duration: 7.114s, episode steps: 569, steps per second:  80, episode reward:  5.000, mean reward:  0.009 [ 0.000,  1.000], mean action: 2.698 [0.000, 5.000],  loss: 0.009684, mae: 0.131395, mean_q: 0.165494, mean_eps: 0.901947\n",
            "  110049/5000000: episode: 155, duration: 9.688s, episode steps: 814, steps per second:  84, episode reward: 11.000, mean reward:  0.014 [ 0.000,  1.000], mean action: 2.770 [0.000, 5.000],  loss: 0.011632, mae: 0.136502, mean_q: 0.173053, mean_eps: 0.901320\n",
            "  110702/5000000: episode: 156, duration: 6.629s, episode steps: 653, steps per second:  99, episode reward:  8.000, mean reward:  0.012 [ 0.000,  1.000], mean action: 2.499 [0.000, 5.000],  loss: 0.006643, mae: 0.156604, mean_q: 0.195170, mean_eps: 0.900662\n",
            "  111409/5000000: episode: 157, duration: 8.586s, episode steps: 707, steps per second:  82, episode reward: 10.000, mean reward:  0.014 [ 0.000,  1.000], mean action: 2.239 [0.000, 5.000],  loss: 0.007802, mae: 0.168136, mean_q: 0.208066, mean_eps: 0.900046\n",
            "  112050/5000000: episode: 158, duration: 6.370s, episode steps: 641, steps per second: 101, episode reward:  7.000, mean reward:  0.011 [ 0.000,  1.000], mean action: 2.406 [0.000, 5.000],  loss: 0.007350, mae: 0.169970, mean_q: 0.213918, mean_eps: 0.899441\n",
            "  112682/5000000: episode: 159, duration: 7.990s, episode steps: 632, steps per second:  79, episode reward:  8.000, mean reward:  0.013 [ 0.000,  1.000], mean action: 2.576 [0.000, 5.000],  loss: 0.008831, mae: 0.174038, mean_q: 0.220408, mean_eps: 0.898869\n",
            "  113069/5000000: episode: 160, duration: 3.922s, episode steps: 387, steps per second:  99, episode reward:  8.000, mean reward:  0.021 [ 0.000,  1.000], mean action: 2.450 [0.000, 5.000],  loss: 0.008931, mae: 0.166007, mean_q: 0.209571, mean_eps: 0.898404\n",
            "Pesos guardados en dqn_last_weights.h5 al final del episodio 160\n",
            "  113728/5000000: episode: 161, duration: 8.421s, episode steps: 659, steps per second:  78, episode reward: 10.000, mean reward:  0.015 [ 0.000,  1.000], mean action: 2.637 [0.000, 5.000],  loss: 0.006471, mae: 0.175655, mean_q: 0.218812, mean_eps: 0.897940\n",
            "  114322/5000000: episode: 162, duration: 6.084s, episode steps: 594, steps per second:  98, episode reward:  7.000, mean reward:  0.012 [ 0.000,  1.000], mean action: 2.483 [0.000, 5.000],  loss: 0.007211, mae: 0.160513, mean_q: 0.199891, mean_eps: 0.897378\n",
            "  114880/5000000: episode: 163, duration: 6.980s, episode steps: 558, steps per second:  80, episode reward:  7.000, mean reward:  0.013 [ 0.000,  1.000], mean action: 2.496 [0.000, 5.000],  loss: 0.004841, mae: 0.158050, mean_q: 0.194951, mean_eps: 0.896860\n",
            "  115653/5000000: episode: 164, duration: 7.871s, episode steps: 773, steps per second:  98, episode reward: 11.000, mean reward:  0.014 [ 0.000,  1.000], mean action: 2.468 [0.000, 5.000],  loss: 0.009354, mae: 0.169197, mean_q: 0.212751, mean_eps: 0.896266\n",
            "  116470/5000000: episode: 165, duration: 9.671s, episode steps: 817, steps per second:  84, episode reward: 12.000, mean reward:  0.015 [ 0.000,  1.000], mean action: 2.755 [0.000, 5.000],  loss: 0.006155, mae: 0.159906, mean_q: 0.211873, mean_eps: 0.895553\n",
            "  117088/5000000: episode: 166, duration: 7.659s, episode steps: 618, steps per second:  81, episode reward:  7.000, mean reward:  0.011 [ 0.000,  1.000], mean action: 2.631 [0.000, 5.000],  loss: 0.003226, mae: 0.156614, mean_q: 0.200633, mean_eps: 0.894905\n",
            "  117649/5000000: episode: 167, duration: 5.849s, episode steps: 561, steps per second:  96, episode reward:  5.000, mean reward:  0.009 [ 0.000,  1.000], mean action: 2.399 [0.000, 5.000],  loss: 0.007264, mae: 0.166490, mean_q: 0.204570, mean_eps: 0.894365\n",
            "  118315/5000000: episode: 168, duration: 8.048s, episode steps: 666, steps per second:  83, episode reward:  6.000, mean reward:  0.009 [ 0.000,  1.000], mean action: 2.713 [0.000, 5.000],  loss: 0.009899, mae: 0.168386, mean_q: 0.212371, mean_eps: 0.893814\n",
            "  119494/5000000: episode: 169, duration: 13.355s, episode steps: 1179, steps per second:  88, episode reward: 20.000, mean reward:  0.017 [ 0.000,  1.000], mean action: 2.591 [0.000, 5.000],  loss: 0.004678, mae: 0.159883, mean_q: 0.205760, mean_eps: 0.892994\n",
            "  119922/5000000: episode: 170, duration: 4.391s, episode steps: 428, steps per second:  97, episode reward:  4.000, mean reward:  0.009 [ 0.000,  1.000], mean action: 2.500 [0.000, 5.000],  loss: 0.004509, mae: 0.158877, mean_q: 0.198656, mean_eps: 0.892270\n",
            "Pesos guardados en dqn_last_weights.h5 al final del episodio 170\n",
            "  120729/5000000: episode: 171, duration: 10.110s, episode steps: 807, steps per second:  80, episode reward:  9.000, mean reward:  0.011 [ 0.000,  1.000], mean action: 2.625 [0.000, 5.000],  loss: 0.008826, mae: 0.169391, mean_q: 0.208626, mean_eps: 0.891708\n",
            "  121509/5000000: episode: 172, duration: 7.932s, episode steps: 780, steps per second:  98, episode reward: 10.000, mean reward:  0.013 [ 0.000,  1.000], mean action: 2.564 [0.000, 5.000],  loss: 0.004739, mae: 0.180656, mean_q: 0.224954, mean_eps: 0.890996\n",
            "  121948/5000000: episode: 173, duration: 5.941s, episode steps: 439, steps per second:  74, episode reward:  4.000, mean reward:  0.009 [ 0.000,  1.000], mean action: 2.508 [0.000, 5.000],  loss: 0.010731, mae: 0.182904, mean_q: 0.224651, mean_eps: 0.890445\n",
            "  122469/5000000: episode: 174, duration: 5.159s, episode steps: 521, steps per second: 101, episode reward:  7.000, mean reward:  0.013 [ 0.000,  1.000], mean action: 2.482 [0.000, 5.000],  loss: 0.005325, mae: 0.172319, mean_q: 0.215750, mean_eps: 0.890013\n",
            "  122891/5000000: episode: 175, duration: 5.744s, episode steps: 422, steps per second:  73, episode reward:  5.000, mean reward:  0.012 [ 0.000,  1.000], mean action: 2.491 [0.000, 5.000],  loss: 0.010957, mae: 0.185173, mean_q: 0.229257, mean_eps: 0.889592\n",
            "  123727/5000000: episode: 176, duration: 8.463s, episode steps: 836, steps per second:  99, episode reward: 12.000, mean reward:  0.014 [ 0.000,  1.000], mean action: 2.581 [0.000, 5.000],  loss: 0.007745, mae: 0.182383, mean_q: 0.226400, mean_eps: 0.889019\n",
            "  124451/5000000: episode: 177, duration: 8.767s, episode steps: 724, steps per second:  83, episode reward: 10.000, mean reward:  0.014 [ 0.000,  1.000], mean action: 2.461 [0.000, 5.000],  loss: 0.006849, mae: 0.175597, mean_q: 0.223491, mean_eps: 0.888317\n",
            "  125338/5000000: episode: 178, duration: 10.406s, episode steps: 887, steps per second:  85, episode reward: 13.000, mean reward:  0.015 [ 0.000,  1.000], mean action: 2.333 [0.000, 5.000],  loss: 0.008948, mae: 0.180273, mean_q: 0.225789, mean_eps: 0.887594\n",
            "  126279/5000000: episode: 179, duration: 10.194s, episode steps: 941, steps per second:  92, episode reward: 16.000, mean reward:  0.017 [ 0.000,  1.000], mean action: 2.319 [0.000, 5.000],  loss: 0.008742, mae: 0.182568, mean_q: 0.228767, mean_eps: 0.886773\n",
            "  126929/5000000: episode: 180, duration: 7.405s, episode steps: 650, steps per second:  88, episode reward:  5.000, mean reward:  0.008 [ 0.000,  1.000], mean action: 2.683 [0.000, 5.000],  loss: 0.003118, mae: 0.165603, mean_q: 0.211125, mean_eps: 0.886060\n",
            "Pesos guardados en dqn_last_weights.h5 al final del episodio 180\n",
            "  127670/5000000: episode: 181, duration: 9.314s, episode steps: 741, steps per second:  80, episode reward: 11.000, mean reward:  0.015 [ 0.000,  1.000], mean action: 2.464 [0.000, 5.000],  loss: 0.006503, mae: 0.176010, mean_q: 0.217965, mean_eps: 0.885434\n",
            "  128069/5000000: episode: 182, duration: 4.116s, episode steps: 399, steps per second:  97, episode reward:  3.000, mean reward:  0.008 [ 0.000,  1.000], mean action: 2.594 [0.000, 5.000],  loss: 0.003025, mae: 0.171849, mean_q: 0.220324, mean_eps: 0.884915\n",
            "  128899/5000000: episode: 183, duration: 9.799s, episode steps: 830, steps per second:  85, episode reward: 14.000, mean reward:  0.017 [ 0.000,  1.000], mean action: 2.483 [0.000, 5.000],  loss: 0.006181, mae: 0.177024, mean_q: 0.221639, mean_eps: 0.884364\n",
            "  129934/5000000: episode: 184, duration: 11.912s, episode steps: 1035, steps per second:  87, episode reward: 21.000, mean reward:  0.020 [ 0.000,  1.000], mean action: 2.471 [0.000, 5.000],  loss: 0.009559, mae: 0.184455, mean_q: 0.228276, mean_eps: 0.883533\n",
            "  130620/5000000: episode: 185, duration: 7.074s, episode steps: 686, steps per second:  97, episode reward:  8.000, mean reward:  0.012 [ 0.000,  1.000], mean action: 2.302 [0.000, 5.000],  loss: 0.007189, mae: 0.174121, mean_q: 0.214523, mean_eps: 0.882755\n",
            "  131011/5000000: episode: 186, duration: 5.172s, episode steps: 391, steps per second:  76, episode reward:  8.000, mean reward:  0.020 [ 0.000,  1.000], mean action: 2.535 [0.000, 5.000],  loss: 0.007074, mae: 0.183734, mean_q: 0.230661, mean_eps: 0.882269\n",
            "  131608/5000000: episode: 187, duration: 6.206s, episode steps: 597, steps per second:  96, episode reward:  9.000, mean reward:  0.015 [ 0.000,  1.000], mean action: 2.717 [0.000, 5.000],  loss: 0.010640, mae: 0.183865, mean_q: 0.232406, mean_eps: 0.881826\n",
            "  132208/5000000: episode: 188, duration: 7.350s, episode steps: 600, steps per second:  82, episode reward:  6.000, mean reward:  0.010 [ 0.000,  1.000], mean action: 2.697 [0.000, 5.000],  loss: 0.004080, mae: 0.180186, mean_q: 0.225956, mean_eps: 0.881286\n",
            "  132978/5000000: episode: 189, duration: 7.906s, episode steps: 770, steps per second:  97, episode reward: 10.000, mean reward:  0.013 [ 0.000,  1.000], mean action: 2.409 [0.000, 5.000],  loss: 0.007276, mae: 0.181738, mean_q: 0.225126, mean_eps: 0.880671\n",
            "  133540/5000000: episode: 190, duration: 7.229s, episode steps: 562, steps per second:  78, episode reward: 10.000, mean reward:  0.018 [ 0.000,  1.000], mean action: 2.607 [0.000, 5.000],  loss: 0.010497, mae: 0.190042, mean_q: 0.233762, mean_eps: 0.880066\n",
            "Pesos guardados en dqn_last_weights.h5 al final del episodio 190\n",
            "  134537/5000000: episode: 191, duration: 11.563s, episode steps: 997, steps per second:  86, episode reward: 20.000, mean reward:  0.020 [ 0.000,  1.000], mean action: 2.441 [0.000, 5.000],  loss: 0.006910, mae: 0.181844, mean_q: 0.223766, mean_eps: 0.879364\n",
            "  135173/5000000: episode: 192, duration: 6.569s, episode steps: 636, steps per second:  97, episode reward: 12.000, mean reward:  0.019 [ 0.000,  1.000], mean action: 2.495 [0.000, 5.000],  loss: 0.007062, mae: 0.184847, mean_q: 0.225462, mean_eps: 0.878630\n",
            "  135836/5000000: episode: 193, duration: 8.039s, episode steps: 663, steps per second:  82, episode reward: 10.000, mean reward:  0.015 [ 0.000,  1.000], mean action: 2.517 [0.000, 5.000],  loss: 0.007564, mae: 0.187333, mean_q: 0.229043, mean_eps: 0.878046\n",
            "  136293/5000000: episode: 194, duration: 4.676s, episode steps: 457, steps per second:  98, episode reward:  5.000, mean reward:  0.011 [ 0.000,  1.000], mean action: 2.387 [0.000, 5.000],  loss: 0.009091, mae: 0.188080, mean_q: 0.230303, mean_eps: 0.877550\n",
            "  137051/5000000: episode: 195, duration: 9.121s, episode steps: 758, steps per second:  83, episode reward: 12.000, mean reward:  0.016 [ 0.000,  1.000], mean action: 2.350 [0.000, 5.000],  loss: 0.008218, mae: 0.185483, mean_q: 0.235284, mean_eps: 0.876999\n",
            "  138123/5000000: episode: 196, duration: 12.223s, episode steps: 1072, steps per second:  88, episode reward: 11.000, mean reward:  0.010 [ 0.000,  1.000], mean action: 2.346 [0.000, 5.000],  loss: 0.006993, mae: 0.178492, mean_q: 0.224996, mean_eps: 0.876167\n",
            "  138690/5000000: episode: 197, duration: 5.716s, episode steps: 567, steps per second:  99, episode reward: 10.000, mean reward:  0.018 [ 0.000,  1.000], mean action: 2.503 [0.000, 5.000],  loss: 0.005560, mae: 0.171816, mean_q: 0.215685, mean_eps: 0.875433\n",
            "  139484/5000000: episode: 198, duration: 9.431s, episode steps: 794, steps per second:  84, episode reward: 12.000, mean reward:  0.015 [ 0.000,  1.000], mean action: 2.421 [0.000, 5.000],  loss: 0.008506, mae: 0.187683, mean_q: 0.231963, mean_eps: 0.874828\n",
            "  140356/5000000: episode: 199, duration: 10.276s, episode steps: 872, steps per second:  85, episode reward: 14.000, mean reward:  0.016 [ 0.000,  1.000], mean action: 2.753 [0.000, 5.000],  loss: 0.006485, mae: 0.182649, mean_q: 0.225033, mean_eps: 0.874072\n",
            "  140905/5000000: episode: 200, duration: 5.829s, episode steps: 549, steps per second:  94, episode reward:  5.000, mean reward:  0.009 [ 0.000,  1.000], mean action: 2.373 [0.000, 5.000],  loss: 0.004342, mae: 0.196073, mean_q: 0.246253, mean_eps: 0.873424\n",
            "Pesos guardados en dqn_last_weights.h5 al final del episodio 200\n",
            "  141759/5000000: episode: 201, duration: 10.396s, episode steps: 854, steps per second:  82, episode reward: 15.000, mean reward:  0.018 [ 0.000,  1.000], mean action: 2.523 [0.000, 5.000],  loss: 0.005523, mae: 0.199102, mean_q: 0.246967, mean_eps: 0.872798\n",
            "  142109/5000000: episode: 202, duration: 3.621s, episode steps: 350, steps per second:  97, episode reward:  2.000, mean reward:  0.006 [ 0.000,  1.000], mean action: 2.397 [0.000, 5.000],  loss: 0.006176, mae: 0.198335, mean_q: 0.243841, mean_eps: 0.872258\n",
            "  143267/5000000: episode: 203, duration: 13.049s, episode steps: 1158, steps per second:  89, episode reward: 15.000, mean reward:  0.013 [ 0.000,  1.000], mean action: 2.591 [0.000, 5.000],  loss: 0.006929, mae: 0.195369, mean_q: 0.240202, mean_eps: 0.871577\n",
            "  143654/5000000: episode: 204, duration: 3.875s, episode steps: 387, steps per second: 100, episode reward:  4.000, mean reward:  0.010 [ 0.000,  1.000], mean action: 2.514 [0.000, 5.000],  loss: 0.008178, mae: 0.211195, mean_q: 0.263870, mean_eps: 0.870886\n",
            "  144294/5000000: episode: 205, duration: 7.959s, episode steps: 640, steps per second:  80, episode reward:  7.000, mean reward:  0.011 [ 0.000,  1.000], mean action: 2.427 [0.000, 5.000],  loss: 0.007005, mae: 0.197104, mean_q: 0.244445, mean_eps: 0.870422\n",
            "  144862/5000000: episode: 206, duration: 5.645s, episode steps: 568, steps per second: 101, episode reward:  3.000, mean reward:  0.005 [ 0.000,  1.000], mean action: 2.433 [0.000, 5.000],  loss: 0.008371, mae: 0.203265, mean_q: 0.253542, mean_eps: 0.869882\n",
            "  145842/5000000: episode: 207, duration: 11.310s, episode steps: 980, steps per second:  87, episode reward: 18.000, mean reward:  0.018 [ 0.000,  1.000], mean action: 2.335 [0.000, 5.000],  loss: 0.006269, mae: 0.200334, mean_q: 0.249578, mean_eps: 0.869190\n",
            "  146658/5000000: episode: 208, duration: 9.692s, episode steps: 816, steps per second:  84, episode reward:  9.000, mean reward:  0.011 [ 0.000,  1.000], mean action: 2.184 [0.000, 5.000],  loss: 0.006637, mae: 0.193895, mean_q: 0.237912, mean_eps: 0.868380\n",
            "  147427/5000000: episode: 209, duration: 9.161s, episode steps: 769, steps per second:  84, episode reward:  8.000, mean reward:  0.010 [ 0.000,  1.000], mean action: 2.821 [0.000, 5.000],  loss: 0.005974, mae: 0.199248, mean_q: 0.249068, mean_eps: 0.867668\n",
            "  148641/5000000: episode: 210, duration: 13.803s, episode steps: 1214, steps per second:  88, episode reward: 23.000, mean reward:  0.019 [ 0.000,  1.000], mean action: 2.589 [0.000, 5.000],  loss: 0.009535, mae: 0.205829, mean_q: 0.250240, mean_eps: 0.866771\n",
            "Pesos guardados en dqn_last_weights.h5 al final del episodio 210\n",
            "  149386/5000000: episode: 211, duration: 8.043s, episode steps: 745, steps per second:  93, episode reward:  6.000, mean reward:  0.008 [ 0.000,  1.000], mean action: 2.777 [0.000, 5.000],  loss: 0.011559, mae: 0.203933, mean_q: 0.246662, mean_eps: 0.865886\n",
            "  150042/5000000: episode: 212, duration: 8.000s, episode steps: 656, steps per second:  82, episode reward:  8.000, mean reward:  0.012 [ 0.000,  1.000], mean action: 2.588 [0.000, 5.000],  loss: 0.010301, mae: 0.216038, mean_q: 0.263220, mean_eps: 0.865259\n",
            "  150699/5000000: episode: 213, duration: 6.898s, episode steps: 657, steps per second:  95, episode reward:  8.000, mean reward:  0.012 [ 0.000,  1.000], mean action: 2.639 [0.000, 5.000],  loss: 0.005809, mae: 0.211306, mean_q: 0.265425, mean_eps: 0.864665\n",
            "  151226/5000000: episode: 214, duration: 6.611s, episode steps: 527, steps per second:  80, episode reward:  6.000, mean reward:  0.011 [ 0.000,  1.000], mean action: 2.776 [0.000, 5.000],  loss: 0.008643, mae: 0.236144, mean_q: 0.288978, mean_eps: 0.864125\n",
            "  151974/5000000: episode: 215, duration: 8.493s, episode steps: 748, steps per second:  88, episode reward:  7.000, mean reward:  0.009 [ 0.000,  1.000], mean action: 2.418 [0.000, 5.000],  loss: 0.007622, mae: 0.230972, mean_q: 0.283432, mean_eps: 0.863553\n",
            "  152460/5000000: episode: 216, duration: 5.442s, episode steps: 486, steps per second:  89, episode reward:  6.000, mean reward:  0.012 [ 0.000,  1.000], mean action: 2.560 [0.000, 5.000],  loss: 0.005644, mae: 0.228889, mean_q: 0.284176, mean_eps: 0.863002\n",
            "  152857/5000000: episode: 217, duration: 4.136s, episode steps: 397, steps per second:  96, episode reward:  8.000, mean reward:  0.020 [ 0.000,  1.000], mean action: 2.302 [0.000, 5.000],  loss: 0.002982, mae: 0.224030, mean_q: 0.281503, mean_eps: 0.862602\n",
            "  153698/5000000: episode: 218, duration: 9.982s, episode steps: 841, steps per second:  84, episode reward: 12.000, mean reward:  0.014 [ 0.000,  1.000], mean action: 2.340 [0.000, 5.000],  loss: 0.005622, mae: 0.220232, mean_q: 0.273844, mean_eps: 0.862041\n",
            "  154521/5000000: episode: 219, duration: 9.710s, episode steps: 823, steps per second:  85, episode reward: 14.000, mean reward:  0.017 [ 0.000,  1.000], mean action: 2.362 [0.000, 5.000],  loss: 0.006667, mae: 0.218731, mean_q: 0.270031, mean_eps: 0.861296\n",
            "  155272/5000000: episode: 220, duration: 7.688s, episode steps: 751, steps per second:  98, episode reward: 10.000, mean reward:  0.013 [ 0.000,  1.000], mean action: 2.543 [0.000, 5.000],  loss: 0.007368, mae: 0.219846, mean_q: 0.274990, mean_eps: 0.860594\n",
            "Pesos guardados en dqn_last_weights.h5 al final del episodio 220\n",
            "  155633/5000000: episode: 221, duration: 5.488s, episode steps: 361, steps per second:  66, episode reward:  5.000, mean reward:  0.014 [ 0.000,  1.000], mean action: 2.640 [0.000, 5.000],  loss: 0.007480, mae: 0.222503, mean_q: 0.271108, mean_eps: 0.860097\n",
            "  156148/5000000: episode: 222, duration: 5.307s, episode steps: 515, steps per second:  97, episode reward:  7.000, mean reward:  0.014 [ 0.000,  1.000], mean action: 2.285 [0.000, 5.000],  loss: 0.007045, mae: 0.229193, mean_q: 0.282417, mean_eps: 0.859697\n",
            "  156932/5000000: episode: 223, duration: 9.275s, episode steps: 784, steps per second:  85, episode reward:  7.000, mean reward:  0.009 [ 0.000,  1.000], mean action: 2.443 [0.000, 5.000],  loss: 0.007559, mae: 0.229773, mean_q: 0.281335, mean_eps: 0.859114\n",
            "  157851/5000000: episode: 224, duration: 10.933s, episode steps: 919, steps per second:  84, episode reward: 12.000, mean reward:  0.013 [ 0.000,  1.000], mean action: 2.568 [0.000, 5.000],  loss: 0.006972, mae: 0.221601, mean_q: 0.272873, mean_eps: 0.858347\n",
            "  158604/5000000: episode: 225, duration: 7.743s, episode steps: 753, steps per second:  97, episode reward:  8.000, mean reward:  0.011 [ 0.000,  1.000], mean action: 2.372 [0.000, 5.000],  loss: 0.004347, mae: 0.215259, mean_q: 0.264589, mean_eps: 0.857591\n",
            "  159199/5000000: episode: 226, duration: 7.511s, episode steps: 595, steps per second:  79, episode reward:  8.000, mean reward:  0.013 [ 0.000,  1.000], mean action: 2.440 [0.000, 5.000],  loss: 0.008204, mae: 0.228028, mean_q: 0.278337, mean_eps: 0.856986\n",
            "  159985/5000000: episode: 227, duration: 8.597s, episode steps: 786, steps per second:  91, episode reward: 18.000, mean reward:  0.023 [ 0.000,  1.000], mean action: 2.448 [0.000, 5.000],  loss: 0.007811, mae: 0.223415, mean_q: 0.274626, mean_eps: 0.856360\n",
            "  160590/5000000: episode: 228, duration: 7.270s, episode steps: 605, steps per second:  83, episode reward:  8.000, mean reward:  0.013 [ 0.000,  1.000], mean action: 2.443 [0.000, 5.000],  loss: 0.009757, mae: 0.249036, mean_q: 0.301504, mean_eps: 0.855734\n",
            "  161515/5000000: episode: 229, duration: 10.682s, episode steps: 925, steps per second:  87, episode reward: 14.000, mean reward:  0.015 [ 0.000,  1.000], mean action: 2.264 [0.000, 5.000],  loss: 0.007083, mae: 0.240809, mean_q: 0.299083, mean_eps: 0.855053\n",
            "  161905/5000000: episode: 230, duration: 4.176s, episode steps: 390, steps per second:  93, episode reward:  5.000, mean reward:  0.013 [ 0.000,  1.000], mean action: 2.446 [0.000, 5.000],  loss: 0.004031, mae: 0.227734, mean_q: 0.280319, mean_eps: 0.854459\n",
            "Pesos guardados en dqn_last_weights.h5 al final del episodio 230\n",
            "  162630/5000000: episode: 231, duration: 9.319s, episode steps: 725, steps per second:  78, episode reward: 13.000, mean reward:  0.018 [ 0.000,  1.000], mean action: 2.422 [0.000, 5.000],  loss: 0.004960, mae: 0.239082, mean_q: 0.294965, mean_eps: 0.853952\n",
            "  163192/5000000: episode: 232, duration: 5.639s, episode steps: 562, steps per second: 100, episode reward:  5.000, mean reward:  0.009 [ 0.000,  1.000], mean action: 2.427 [0.000, 5.000],  loss: 0.008485, mae: 0.242556, mean_q: 0.296260, mean_eps: 0.853379\n",
            "  164090/5000000: episode: 233, duration: 10.662s, episode steps: 898, steps per second:  84, episode reward: 16.000, mean reward:  0.018 [ 0.000,  1.000], mean action: 2.513 [0.000, 5.000],  loss: 0.008988, mae: 0.237816, mean_q: 0.288130, mean_eps: 0.852720\n",
            "  164501/5000000: episode: 234, duration: 4.222s, episode steps: 411, steps per second:  97, episode reward:  5.000, mean reward:  0.012 [ 0.000,  1.000], mean action: 2.810 [0.000, 5.000],  loss: 0.001197, mae: 0.231860, mean_q: 0.285478, mean_eps: 0.852126\n",
            "  165629/5000000: episode: 235, duration: 13.013s, episode steps: 1128, steps per second:  87, episode reward: 20.000, mean reward:  0.018 [ 0.000,  1.000], mean action: 2.371 [0.000, 5.000],  loss: 0.004143, mae: 0.227028, mean_q: 0.278706, mean_eps: 0.851435\n",
            "  166207/5000000: episode: 236, duration: 7.254s, episode steps: 578, steps per second:  80, episode reward:  7.000, mean reward:  0.012 [ 0.000,  1.000], mean action: 2.519 [0.000, 5.000],  loss: 0.005658, mae: 0.225345, mean_q: 0.275401, mean_eps: 0.850668\n",
            "  166792/5000000: episode: 237, duration: 5.999s, episode steps: 585, steps per second:  98, episode reward:  7.000, mean reward:  0.012 [ 0.000,  1.000], mean action: 2.439 [0.000, 5.000],  loss: 0.007304, mae: 0.237534, mean_q: 0.292430, mean_eps: 0.850150\n",
            "  167429/5000000: episode: 238, duration: 8.025s, episode steps: 637, steps per second:  79, episode reward:  6.000, mean reward:  0.009 [ 0.000,  1.000], mean action: 2.367 [0.000, 5.000],  loss: 0.005915, mae: 0.231503, mean_q: 0.284828, mean_eps: 0.849599\n",
            "  168332/5000000: episode: 239, duration: 10.660s, episode steps: 903, steps per second:  85, episode reward: 11.000, mean reward:  0.012 [ 0.000,  1.000], mean action: 2.245 [0.000, 5.000],  loss: 0.006968, mae: 0.239561, mean_q: 0.305762, mean_eps: 0.848908\n",
            "  169506/5000000: episode: 240, duration: 13.426s, episode steps: 1174, steps per second:  87, episode reward: 14.000, mean reward:  0.012 [ 0.000,  1.000], mean action: 2.436 [0.000, 5.000],  loss: 0.007624, mae: 0.236503, mean_q: 0.294499, mean_eps: 0.847979\n",
            "Pesos guardados en dqn_last_weights.h5 al final del episodio 240\n",
            "  170201/5000000: episode: 241, duration: 7.692s, episode steps: 695, steps per second:  90, episode reward:  7.000, mean reward:  0.010 [ 0.000,  1.000], mean action: 2.364 [0.000, 5.000],  loss: 0.010851, mae: 0.242114, mean_q: 0.304336, mean_eps: 0.847137\n",
            "  170617/5000000: episode: 242, duration: 5.769s, episode steps: 416, steps per second:  72, episode reward:  3.000, mean reward:  0.007 [ 0.000,  1.000], mean action: 2.519 [0.000, 5.000],  loss: 0.007658, mae: 0.259676, mean_q: 0.318791, mean_eps: 0.846629\n",
            "  171303/5000000: episode: 243, duration: 6.991s, episode steps: 686, steps per second:  98, episode reward:  8.000, mean reward:  0.012 [ 0.000,  1.000], mean action: 2.471 [0.000, 5.000],  loss: 0.004238, mae: 0.249342, mean_q: 0.303846, mean_eps: 0.846132\n",
            "  171962/5000000: episode: 244, duration: 8.200s, episode steps: 659, steps per second:  80, episode reward: 11.000, mean reward:  0.017 [ 0.000,  1.000], mean action: 2.457 [0.000, 5.000],  loss: 0.008028, mae: 0.246593, mean_q: 0.299436, mean_eps: 0.845528\n",
            "  172638/5000000: episode: 245, duration: 7.070s, episode steps: 676, steps per second:  96, episode reward:  7.000, mean reward:  0.010 [ 0.000,  1.000], mean action: 2.525 [0.000, 5.000],  loss: 0.006921, mae: 0.239496, mean_q: 0.296307, mean_eps: 0.844923\n",
            "  173636/5000000: episode: 246, duration: 11.417s, episode steps: 998, steps per second:  87, episode reward: 12.000, mean reward:  0.012 [ 0.000,  1.000], mean action: 2.727 [0.000, 5.000],  loss: 0.008497, mae: 0.246708, mean_q: 0.305547, mean_eps: 0.844178\n",
            "  174472/5000000: episode: 247, duration: 9.987s, episode steps: 836, steps per second:  84, episode reward:  7.000, mean reward:  0.008 [ 0.000,  1.000], mean action: 2.711 [0.000, 5.000],  loss: 0.010453, mae: 0.255518, mean_q: 0.315645, mean_eps: 0.843357\n",
            "  175112/5000000: episode: 248, duration: 7.998s, episode steps: 640, steps per second:  80, episode reward:  6.000, mean reward:  0.009 [ 0.000,  1.000], mean action: 2.545 [0.000, 5.000],  loss: 0.009849, mae: 0.251970, mean_q: 0.312238, mean_eps: 0.842687\n",
            "  175848/5000000: episode: 249, duration: 7.816s, episode steps: 736, steps per second:  94, episode reward:  6.000, mean reward:  0.008 [ 0.000,  1.000], mean action: 2.515 [0.000, 5.000],  loss: 0.009204, mae: 0.242142, mean_q: 0.303403, mean_eps: 0.842072\n",
            "  176359/5000000: episode: 250, duration: 6.668s, episode steps: 511, steps per second:  77, episode reward:  6.000, mean reward:  0.012 [ 0.000,  1.000], mean action: 2.479 [0.000, 5.000],  loss: 0.010104, mae: 0.251509, mean_q: 0.308208, mean_eps: 0.841510\n",
            "Pesos guardados en dqn_last_weights.h5 al final del episodio 250\n",
            "  176767/5000000: episode: 251, duration: 4.589s, episode steps: 408, steps per second:  89, episode reward:  5.000, mean reward:  0.012 [ 0.000,  1.000], mean action: 2.311 [0.000, 5.000],  loss: 0.004093, mae: 0.247499, mean_q: 0.307144, mean_eps: 0.841089\n",
            "  177298/5000000: episode: 252, duration: 6.079s, episode steps: 531, steps per second:  87, episode reward:  9.000, mean reward:  0.017 [ 0.000,  1.000], mean action: 2.469 [0.000, 5.000],  loss: 0.010055, mae: 0.246759, mean_q: 0.298876, mean_eps: 0.840668\n",
            "  177669/5000000: episode: 253, duration: 4.514s, episode steps: 371, steps per second:  82, episode reward:  5.000, mean reward:  0.013 [ 0.000,  1.000], mean action: 2.469 [0.000, 5.000],  loss: 0.014271, mae: 0.261461, mean_q: 0.311842, mean_eps: 0.840268\n",
            "  178412/5000000: episode: 254, duration: 8.154s, episode steps: 743, steps per second:  91, episode reward:  9.000, mean reward:  0.012 [ 0.000,  1.000], mean action: 2.475 [0.000, 5.000],  loss: 0.009703, mae: 0.256434, mean_q: 0.310189, mean_eps: 0.839771\n",
            "  178950/5000000: episode: 255, duration: 6.655s, episode steps: 538, steps per second:  81, episode reward:  5.000, mean reward:  0.009 [ 0.000,  1.000], mean action: 2.578 [0.000, 5.000],  loss: 0.009242, mae: 0.257972, mean_q: 0.310921, mean_eps: 0.839188\n",
            "  179677/5000000: episode: 256, duration: 8.903s, episode steps: 727, steps per second:  82, episode reward: 10.000, mean reward:  0.014 [ 0.000,  1.000], mean action: 2.371 [0.000, 5.000],  loss: 0.006042, mae: 0.242141, mean_q: 0.296858, mean_eps: 0.838616\n",
            "  180317/5000000: episode: 257, duration: 6.773s, episode steps: 640, steps per second:  94, episode reward: 10.000, mean reward:  0.016 [ 0.000,  1.000], mean action: 2.192 [0.000, 5.000],  loss: 0.006580, mae: 0.244544, mean_q: 0.298504, mean_eps: 0.838000\n",
            "  180830/5000000: episode: 258, duration: 6.627s, episode steps: 513, steps per second:  77, episode reward:  6.000, mean reward:  0.012 [ 0.000,  1.000], mean action: 2.047 [0.000, 5.000],  loss: 0.009576, mae: 0.258971, mean_q: 0.314534, mean_eps: 0.837482\n",
            "  181546/5000000: episode: 259, duration: 7.485s, episode steps: 716, steps per second:  96, episode reward: 10.000, mean reward:  0.014 [ 0.000,  1.000], mean action: 2.577 [0.000, 5.000],  loss: 0.006805, mae: 0.246513, mean_q: 0.301757, mean_eps: 0.836931\n",
            "  182437/5000000: episode: 260, duration: 10.442s, episode steps: 891, steps per second:  85, episode reward: 19.000, mean reward:  0.021 [ 0.000,  1.000], mean action: 2.398 [0.000, 5.000],  loss: 0.008264, mae: 0.251789, mean_q: 0.307063, mean_eps: 0.836207\n",
            "Pesos guardados en dqn_last_weights.h5 al final del episodio 260\n",
            "  183028/5000000: episode: 261, duration: 6.988s, episode steps: 591, steps per second:  85, episode reward:  1.000, mean reward:  0.002 [ 0.000,  1.000], mean action: 2.294 [0.000, 5.000],  loss: 0.008304, mae: 0.260753, mean_q: 0.316968, mean_eps: 0.835538\n",
            "  183704/5000000: episode: 262, duration: 7.606s, episode steps: 676, steps per second:  89, episode reward: 10.000, mean reward:  0.015 [ 0.000,  1.000], mean action: 2.373 [0.000, 5.000],  loss: 0.007263, mae: 0.255310, mean_q: 0.312750, mean_eps: 0.834965\n",
            "  184132/5000000: episode: 263, duration: 4.743s, episode steps: 428, steps per second:  90, episode reward:  7.000, mean reward:  0.016 [ 0.000,  1.000], mean action: 2.537 [0.000, 5.000],  loss: 0.003622, mae: 0.244728, mean_q: 0.302501, mean_eps: 0.834468\n",
            "  184746/5000000: episode: 264, duration: 7.226s, episode steps: 614, steps per second:  85, episode reward:  7.000, mean reward:  0.011 [ 0.000,  1.000], mean action: 2.207 [0.000, 5.000],  loss: 0.008173, mae: 0.252892, mean_q: 0.312346, mean_eps: 0.834004\n",
            "  185657/5000000: episode: 265, duration: 10.643s, episode steps: 911, steps per second:  86, episode reward: 13.000, mean reward:  0.014 [ 0.000,  1.000], mean action: 2.315 [0.000, 5.000],  loss: 0.007073, mae: 0.256663, mean_q: 0.315289, mean_eps: 0.833324\n",
            "  186626/5000000: episode: 266, duration: 11.381s, episode steps: 969, steps per second:  85, episode reward: 20.000, mean reward:  0.021 [ 0.000,  1.000], mean action: 2.684 [0.000, 5.000],  loss: 0.010167, mae: 0.260350, mean_q: 0.319163, mean_eps: 0.832470\n",
            "  187502/5000000: episode: 267, duration: 8.873s, episode steps: 876, steps per second:  99, episode reward: 11.000, mean reward:  0.013 [ 0.000,  1.000], mean action: 2.562 [0.000, 5.000],  loss: 0.010199, mae: 0.252627, mean_q: 0.315431, mean_eps: 0.831639\n",
            "  188475/5000000: episode: 268, duration: 11.448s, episode steps: 973, steps per second:  85, episode reward: 11.000, mean reward:  0.011 [ 0.000,  1.000], mean action: 2.265 [0.000, 5.000],  loss: 0.008809, mae: 0.253988, mean_q: 0.312351, mean_eps: 0.830807\n",
            "  188986/5000000: episode: 269, duration: 6.540s, episode steps: 511, steps per second:  78, episode reward:  4.000, mean reward:  0.008 [ 0.000,  1.000], mean action: 2.194 [0.000, 5.000],  loss: 0.007392, mae: 0.247408, mean_q: 0.301354, mean_eps: 0.830138\n",
            "  189661/5000000: episode: 270, duration: 6.910s, episode steps: 675, steps per second:  98, episode reward: 12.000, mean reward:  0.018 [ 0.000,  1.000], mean action: 2.636 [0.000, 5.000],  loss: 0.007940, mae: 0.252323, mean_q: 0.305461, mean_eps: 0.829608\n",
            "Pesos guardados en dqn_last_weights.h5 al final del episodio 270\n",
            "  190326/5000000: episode: 271, duration: 8.667s, episode steps: 665, steps per second:  77, episode reward: 10.000, mean reward:  0.015 [ 0.000,  1.000], mean action: 2.576 [0.000, 5.000],  loss: 0.008427, mae: 0.264503, mean_q: 0.322808, mean_eps: 0.829004\n",
            "  191092/5000000: episode: 272, duration: 8.311s, episode steps: 766, steps per second:  92, episode reward:  9.000, mean reward:  0.012 [ 0.000,  1.000], mean action: 2.838 [0.000, 5.000],  loss: 0.009674, mae: 0.284021, mean_q: 0.345574, mean_eps: 0.828356\n",
            "  191600/5000000: episode: 273, duration: 6.128s, episode steps: 508, steps per second:  83, episode reward:  7.000, mean reward:  0.014 [ 0.000,  1.000], mean action: 2.427 [0.000, 5.000],  loss: 0.007520, mae: 0.263251, mean_q: 0.321628, mean_eps: 0.827783\n",
            "  192374/5000000: episode: 274, duration: 9.085s, episode steps: 774, steps per second:  85, episode reward: 13.000, mean reward:  0.017 [ 0.000,  1.000], mean action: 2.444 [0.000, 5.000],  loss: 0.008334, mae: 0.266409, mean_q: 0.326286, mean_eps: 0.827211\n",
            "  193232/5000000: episode: 275, duration: 8.999s, episode steps: 858, steps per second:  95, episode reward: 13.000, mean reward:  0.015 [ 0.000,  1.000], mean action: 2.578 [0.000, 5.000],  loss: 0.006044, mae: 0.269304, mean_q: 0.329644, mean_eps: 0.826476\n",
            "  194704/5000000: episode: 276, duration: 17.569s, episode steps: 1472, steps per second:  84, episode reward: 14.000, mean reward:  0.010 [ 0.000,  1.000], mean action: 2.432 [0.000, 5.000],  loss: 0.005998, mae: 0.272559, mean_q: 0.334418, mean_eps: 0.825429\n",
            "  195788/5000000: episode: 277, duration: 11.853s, episode steps: 1084, steps per second:  91, episode reward: 20.000, mean reward:  0.018 [ 0.000,  1.000], mean action: 2.441 [0.000, 5.000],  loss: 0.006778, mae: 0.265289, mean_q: 0.324781, mean_eps: 0.824284\n",
            "  196314/5000000: episode: 278, duration: 6.104s, episode steps: 526, steps per second:  86, episode reward:  5.000, mean reward:  0.010 [ 0.000,  1.000], mean action: 2.297 [0.000, 5.000],  loss: 0.005129, mae: 0.262339, mean_q: 0.322056, mean_eps: 0.823560\n",
            "  196968/5000000: episode: 279, duration: 7.852s, episode steps: 654, steps per second:  83, episode reward:  7.000, mean reward:  0.011 [ 0.000,  1.000], mean action: 2.925 [0.000, 5.000],  loss: 0.006331, mae: 0.269325, mean_q: 0.333466, mean_eps: 0.823031\n",
            "  197493/5000000: episode: 280, duration: 5.803s, episode steps: 525, steps per second:  90, episode reward:  7.000, mean reward:  0.013 [ 0.000,  1.000], mean action: 2.539 [0.000, 5.000],  loss: 0.005894, mae: 0.264737, mean_q: 0.327234, mean_eps: 0.822502\n",
            "Pesos guardados en dqn_last_weights.h5 al final del episodio 280\n",
            "  198153/5000000: episode: 281, duration: 8.547s, episode steps: 660, steps per second:  77, episode reward: 11.000, mean reward:  0.017 [ 0.000,  1.000], mean action: 2.405 [0.000, 5.000],  loss: 0.006229, mae: 0.260251, mean_q: 0.319529, mean_eps: 0.821962\n",
            "  198990/5000000: episode: 282, duration: 8.688s, episode steps: 837, steps per second:  96, episode reward: 16.000, mean reward:  0.019 [ 0.000,  1.000], mean action: 2.312 [0.000, 5.000],  loss: 0.006926, mae: 0.273179, mean_q: 0.338081, mean_eps: 0.821282\n",
            "  199849/5000000: episode: 283, duration: 10.200s, episode steps: 859, steps per second:  84, episode reward: 12.000, mean reward:  0.014 [ 0.000,  1.000], mean action: 2.411 [0.000, 5.000],  loss: 0.009052, mae: 0.275768, mean_q: 0.335194, mean_eps: 0.820515\n",
            "  200661/5000000: episode: 284, duration: 9.575s, episode steps: 812, steps per second:  85, episode reward: 11.000, mean reward:  0.014 [ 0.000,  1.000], mean action: 2.525 [0.000, 5.000],  loss: 0.004549, mae: 0.274086, mean_q: 0.337455, mean_eps: 0.819770\n",
            "  201494/5000000: episode: 285, duration: 9.258s, episode steps: 833, steps per second:  90, episode reward: 12.000, mean reward:  0.014 [ 0.000,  1.000], mean action: 2.693 [0.000, 5.000],  loss: 0.006397, mae: 0.282033, mean_q: 0.343620, mean_eps: 0.819035\n",
            "  201884/5000000: episode: 286, duration: 4.810s, episode steps: 390, steps per second:  81, episode reward:  6.000, mean reward:  0.015 [ 0.000,  1.000], mean action: 2.408 [0.000, 5.000],  loss: 0.004893, mae: 0.286482, mean_q: 0.349780, mean_eps: 0.818484\n",
            "  202638/5000000: episode: 287, duration: 8.485s, episode steps: 754, steps per second:  89, episode reward:  7.000, mean reward:  0.009 [ 0.000,  1.000], mean action: 2.383 [0.000, 5.000],  loss: 0.008278, mae: 0.282670, mean_q: 0.350261, mean_eps: 0.817966\n",
            "  203270/5000000: episode: 288, duration: 7.216s, episode steps: 632, steps per second:  88, episode reward:  9.000, mean reward:  0.014 [ 0.000,  1.000], mean action: 2.294 [0.000, 5.000],  loss: 0.008559, mae: 0.284029, mean_q: 0.349932, mean_eps: 0.817340\n",
            "  203769/5000000: episode: 289, duration: 5.587s, episode steps: 499, steps per second:  89, episode reward:  7.000, mean reward:  0.014 [ 0.000,  1.000], mean action: 2.459 [0.000, 5.000],  loss: 0.006341, mae: 0.279717, mean_q: 0.340512, mean_eps: 0.816832\n",
            "  204136/5000000: episode: 290, duration: 4.696s, episode steps: 367, steps per second:  78, episode reward:  4.000, mean reward:  0.011 [ 0.000,  1.000], mean action: 2.670 [0.000, 5.000],  loss: 0.011897, mae: 0.284000, mean_q: 0.343246, mean_eps: 0.816443\n",
            "Pesos guardados en dqn_last_weights.h5 al final del episodio 290\n",
            "  204911/5000000: episode: 291, duration: 8.616s, episode steps: 775, steps per second:  90, episode reward: 11.000, mean reward:  0.014 [ 0.000,  1.000], mean action: 2.707 [0.000, 5.000],  loss: 0.007185, mae: 0.295722, mean_q: 0.360465, mean_eps: 0.815936\n",
            "  205411/5000000: episode: 292, duration: 6.031s, episode steps: 500, steps per second:  83, episode reward:  8.000, mean reward:  0.016 [ 0.000,  1.000], mean action: 2.650 [0.000, 5.000],  loss: 0.009389, mae: 0.287080, mean_q: 0.348470, mean_eps: 0.815363\n",
            "  205928/5000000: episode: 293, duration: 5.452s, episode steps: 517, steps per second:  95, episode reward:  6.000, mean reward:  0.012 [ 0.000,  1.000], mean action: 2.342 [0.000, 5.000],  loss: 0.006814, mae: 0.282983, mean_q: 0.346107, mean_eps: 0.814899\n",
            "  206417/5000000: episode: 294, duration: 6.376s, episode steps: 489, steps per second:  77, episode reward:  1.000, mean reward:  0.002 [ 0.000,  1.000], mean action: 2.479 [0.000, 5.000],  loss: 0.008094, mae: 0.285682, mean_q: 0.349789, mean_eps: 0.814445\n",
            "  206931/5000000: episode: 295, duration: 5.421s, episode steps: 514, steps per second:  95, episode reward:  6.000, mean reward:  0.012 [ 0.000,  1.000], mean action: 2.796 [0.000, 5.000],  loss: 0.006003, mae: 0.276186, mean_q: 0.340408, mean_eps: 0.813992\n",
            "  207724/5000000: episode: 296, duration: 9.560s, episode steps: 793, steps per second:  83, episode reward: 14.000, mean reward:  0.018 [ 0.000,  1.000], mean action: 2.570 [0.000, 5.000],  loss: 0.006947, mae: 0.294644, mean_q: 0.361715, mean_eps: 0.813398\n",
            "  208098/5000000: episode: 297, duration: 3.765s, episode steps: 374, steps per second:  99, episode reward:  5.000, mean reward:  0.013 [ 0.000,  1.000], mean action: 2.350 [0.000, 5.000],  loss: 0.004429, mae: 0.272465, mean_q: 0.338225, mean_eps: 0.812879\n",
            "  208518/5000000: episode: 298, duration: 5.791s, episode steps: 420, steps per second:  73, episode reward:  4.000, mean reward:  0.010 [ 0.000,  1.000], mean action: 2.776 [0.000, 5.000],  loss: 0.007182, mae: 0.282758, mean_q: 0.350836, mean_eps: 0.812523\n",
            "  209205/5000000: episode: 299, duration: 7.024s, episode steps: 687, steps per second:  98, episode reward: 10.000, mean reward:  0.015 [ 0.000,  1.000], mean action: 2.396 [0.000, 5.000],  loss: 0.007677, mae: 0.298896, mean_q: 0.366926, mean_eps: 0.812026\n",
            "  209593/5000000: episode: 300, duration: 5.369s, episode steps: 388, steps per second:  72, episode reward:  7.000, mean reward:  0.018 [ 0.000,  1.000], mean action: 2.250 [0.000, 5.000],  loss: 0.008002, mae: 0.292223, mean_q: 0.359580, mean_eps: 0.811540\n",
            "Pesos guardados en dqn_last_weights.h5 al final del episodio 300\n",
            "  210254/5000000: episode: 301, duration: 7.351s, episode steps: 661, steps per second:  90, episode reward:  6.000, mean reward:  0.009 [ 0.000,  1.000], mean action: 2.490 [0.000, 5.000],  loss: 0.009192, mae: 0.288179, mean_q: 0.350570, mean_eps: 0.811065\n",
            "  211023/5000000: episode: 302, duration: 9.352s, episode steps: 769, steps per second:  82, episode reward: 11.000, mean reward:  0.014 [ 0.000,  1.000], mean action: 2.628 [0.000, 5.000],  loss: 0.007022, mae: 0.307324, mean_q: 0.376217, mean_eps: 0.810428\n",
            "  211812/5000000: episode: 303, duration: 9.084s, episode steps: 789, steps per second:  87, episode reward: 10.000, mean reward:  0.013 [ 0.000,  1.000], mean action: 2.769 [0.000, 5.000],  loss: 0.007251, mae: 0.306561, mean_q: 0.377806, mean_eps: 0.809726\n",
            "  212569/5000000: episode: 304, duration: 8.586s, episode steps: 757, steps per second:  88, episode reward:  6.000, mean reward:  0.008 [ 0.000,  1.000], mean action: 2.556 [0.000, 5.000],  loss: 0.004841, mae: 0.302977, mean_q: 0.374973, mean_eps: 0.809024\n",
            "  213109/5000000: episode: 305, duration: 6.945s, episode steps: 540, steps per second:  78, episode reward:  4.000, mean reward:  0.007 [ 0.000,  1.000], mean action: 2.393 [0.000, 5.000],  loss: 0.010879, mae: 0.316448, mean_q: 0.383580, mean_eps: 0.808440\n",
            "  213749/5000000: episode: 306, duration: 6.792s, episode steps: 640, steps per second:  94, episode reward:  9.000, mean reward:  0.014 [ 0.000,  1.000], mean action: 2.364 [0.000, 5.000],  loss: 0.004691, mae: 0.301479, mean_q: 0.370865, mean_eps: 0.807911\n",
            "  214142/5000000: episode: 307, duration: 5.142s, episode steps: 393, steps per second:  76, episode reward:  6.000, mean reward:  0.015 [ 0.000,  1.000], mean action: 2.499 [0.000, 5.000],  loss: 0.011966, mae: 0.318674, mean_q: 0.383980, mean_eps: 0.807447\n",
            "  214957/5000000: episode: 308, duration: 8.767s, episode steps: 815, steps per second:  93, episode reward: 11.000, mean reward:  0.013 [ 0.000,  1.000], mean action: 2.501 [0.000, 5.000],  loss: 0.006827, mae: 0.302815, mean_q: 0.370973, mean_eps: 0.806907\n",
            "  215566/5000000: episode: 309, duration: 7.637s, episode steps: 609, steps per second:  80, episode reward:  7.000, mean reward:  0.011 [ 0.000,  1.000], mean action: 2.332 [0.000, 5.000],  loss: 0.005642, mae: 0.298685, mean_q: 0.367343, mean_eps: 0.806270\n",
            "  216330/5000000: episode: 310, duration: 8.400s, episode steps: 764, steps per second:  91, episode reward: 10.000, mean reward:  0.013 [ 0.000,  1.000], mean action: 2.420 [0.000, 5.000],  loss: 0.009998, mae: 0.309811, mean_q: 0.377731, mean_eps: 0.805654\n",
            "Pesos guardados en dqn_last_weights.h5 al final del episodio 310\n",
            "  216967/5000000: episode: 311, duration: 8.009s, episode steps: 637, steps per second:  80, episode reward:  7.000, mean reward:  0.011 [ 0.000,  1.000], mean action: 2.526 [0.000, 5.000],  loss: 0.007524, mae: 0.317927, mean_q: 0.385552, mean_eps: 0.805017\n",
            "  217715/5000000: episode: 312, duration: 9.068s, episode steps: 748, steps per second:  82, episode reward: 12.000, mean reward:  0.016 [ 0.000,  1.000], mean action: 2.417 [0.000, 5.000],  loss: 0.008415, mae: 0.303171, mean_q: 0.369801, mean_eps: 0.804390\n",
            "  218360/5000000: episode: 313, duration: 6.776s, episode steps: 645, steps per second:  95, episode reward:  8.000, mean reward:  0.012 [ 0.000,  1.000], mean action: 2.414 [0.000, 5.000],  loss: 0.005950, mae: 0.307190, mean_q: 0.374042, mean_eps: 0.803764\n",
            "  219832/5000000: episode: 314, duration: 17.597s, episode steps: 1472, steps per second:  84, episode reward: 14.000, mean reward:  0.010 [ 0.000,  1.000], mean action: 2.458 [0.000, 5.000],  loss: 0.008407, mae: 0.306010, mean_q: 0.375880, mean_eps: 0.802814\n",
            "  220243/5000000: episode: 315, duration: 4.555s, episode steps: 411, steps per second:  90, episode reward:  2.000, mean reward:  0.005 [ 0.000,  1.000], mean action: 2.156 [0.000, 5.000],  loss: 0.006587, mae: 0.308332, mean_q: 0.379675, mean_eps: 0.801971\n",
            "  220610/5000000: episode: 316, duration: 3.966s, episode steps: 367, steps per second:  93, episode reward:  5.000, mean reward:  0.014 [ 0.000,  1.000], mean action: 2.471 [0.000, 5.000],  loss: 0.005195, mae: 0.308443, mean_q: 0.375099, mean_eps: 0.801615\n",
            "  221505/5000000: episode: 317, duration: 10.557s, episode steps: 895, steps per second:  85, episode reward: 18.000, mean reward:  0.020 [ 0.000,  1.000], mean action: 2.332 [0.000, 5.000],  loss: 0.006329, mae: 0.314225, mean_q: 0.382209, mean_eps: 0.801042\n",
            "  221890/5000000: episode: 318, duration: 3.999s, episode steps: 385, steps per second:  96, episode reward:  7.000, mean reward:  0.018 [ 0.000,  1.000], mean action: 2.457 [0.000, 5.000],  loss: 0.009903, mae: 0.323244, mean_q: 0.392070, mean_eps: 0.800470\n",
            "  222281/5000000: episode: 319, duration: 5.371s, episode steps: 391, steps per second:  73, episode reward:  6.000, mean reward:  0.015 [ 0.000,  1.000], mean action: 2.788 [0.000, 5.000],  loss: 0.005491, mae: 0.320884, mean_q: 0.392569, mean_eps: 0.800124\n",
            "  223097/5000000: episode: 320, duration: 8.413s, episode steps: 816, steps per second:  97, episode reward: 13.000, mean reward:  0.016 [ 0.000,  1.000], mean action: 2.234 [0.000, 5.000],  loss: 0.007846, mae: 0.320653, mean_q: 0.394253, mean_eps: 0.799584\n",
            "Pesos guardados en dqn_last_weights.h5 al final del episodio 320\n",
            "  223788/5000000: episode: 321, duration: 9.021s, episode steps: 691, steps per second:  77, episode reward: 10.000, mean reward:  0.014 [ 0.000,  1.000], mean action: 2.360 [0.000, 5.000],  loss: 0.007582, mae: 0.327369, mean_q: 0.400145, mean_eps: 0.798904\n",
            "  224283/5000000: episode: 322, duration: 5.563s, episode steps: 495, steps per second:  89, episode reward:  4.000, mean reward:  0.008 [ 0.000,  1.000], mean action: 2.469 [0.000, 5.000],  loss: 0.011901, mae: 0.324661, mean_q: 0.393870, mean_eps: 0.798364\n",
            "  225311/5000000: episode: 323, duration: 11.557s, episode steps: 1028, steps per second:  89, episode reward: 17.000, mean reward:  0.017 [ 0.000,  1.000], mean action: 2.185 [0.000, 5.000],  loss: 0.007720, mae: 0.323884, mean_q: 0.397620, mean_eps: 0.797684\n",
            "  225948/5000000: episode: 324, duration: 7.994s, episode steps: 637, steps per second:  80, episode reward:  6.000, mean reward:  0.009 [ 0.000,  1.000], mean action: 2.344 [0.000, 5.000],  loss: 0.006116, mae: 0.319462, mean_q: 0.390849, mean_eps: 0.796938\n",
            "  226676/5000000: episode: 325, duration: 8.380s, episode steps: 728, steps per second:  87, episode reward: 11.000, mean reward:  0.015 [ 0.000,  1.000], mean action: 2.582 [0.000, 5.000],  loss: 0.005432, mae: 0.320680, mean_q: 0.391344, mean_eps: 0.796323\n",
            "  227056/5000000: episode: 326, duration: 4.440s, episode steps: 380, steps per second:  86, episode reward:  7.000, mean reward:  0.018 [ 0.000,  1.000], mean action: 2.161 [0.000, 5.000],  loss: 0.006169, mae: 0.323702, mean_q: 0.397881, mean_eps: 0.795826\n",
            "  228054/5000000: episode: 327, duration: 11.754s, episode steps: 998, steps per second:  85, episode reward: 21.000, mean reward:  0.021 [ 0.000,  1.000], mean action: 2.758 [0.000, 5.000],  loss: 0.005701, mae: 0.316735, mean_q: 0.389458, mean_eps: 0.795200\n",
            "  228540/5000000: episode: 328, duration: 5.045s, episode steps: 486, steps per second:  96, episode reward:  7.000, mean reward:  0.014 [ 0.000,  1.000], mean action: 2.767 [0.000, 5.000],  loss: 0.005592, mae: 0.310421, mean_q: 0.386660, mean_eps: 0.794530\n",
            "  229301/5000000: episode: 329, duration: 9.355s, episode steps: 761, steps per second:  81, episode reward: 10.000, mean reward:  0.013 [ 0.000,  1.000], mean action: 2.427 [0.000, 5.000],  loss: 0.004903, mae: 0.302636, mean_q: 0.369298, mean_eps: 0.793968\n",
            "  230033/5000000: episode: 330, duration: 7.844s, episode steps: 732, steps per second:  93, episode reward: 11.000, mean reward:  0.015 [ 0.000,  1.000], mean action: 2.325 [0.000, 5.000],  loss: 0.006194, mae: 0.325355, mean_q: 0.398205, mean_eps: 0.793299\n",
            "Pesos guardados en dqn_last_weights.h5 al final del episodio 330\n",
            "  230740/5000000: episode: 331, duration: 8.920s, episode steps: 707, steps per second:  79, episode reward:  8.000, mean reward:  0.011 [ 0.000,  1.000], mean action: 2.365 [0.000, 5.000],  loss: 0.009023, mae: 0.345815, mean_q: 0.420307, mean_eps: 0.792651\n",
            "  231271/5000000: episode: 332, duration: 6.726s, episode steps: 531, steps per second:  79, episode reward:  7.000, mean reward:  0.013 [ 0.000,  1.000], mean action: 2.606 [0.000, 5.000],  loss: 0.004549, mae: 0.329916, mean_q: 0.403608, mean_eps: 0.792089\n",
            "  232036/5000000: episode: 333, duration: 8.133s, episode steps: 765, steps per second:  94, episode reward:  9.000, mean reward:  0.012 [ 0.000,  1.000], mean action: 2.769 [0.000, 5.000],  loss: 0.004089, mae: 0.332147, mean_q: 0.407418, mean_eps: 0.791506\n",
            "  232433/5000000: episode: 334, duration: 5.347s, episode steps: 397, steps per second:  74, episode reward:  6.000, mean reward:  0.015 [ 0.000,  1.000], mean action: 2.569 [0.000, 5.000],  loss: 0.009671, mae: 0.348537, mean_q: 0.424645, mean_eps: 0.790988\n",
            "  233289/5000000: episode: 335, duration: 8.966s, episode steps: 856, steps per second:  95, episode reward: 15.000, mean reward:  0.018 [ 0.000,  1.000], mean action: 2.336 [0.000, 5.000],  loss: 0.008244, mae: 0.334905, mean_q: 0.407170, mean_eps: 0.790426\n",
            "  234019/5000000: episode: 336, duration: 8.824s, episode steps: 730, steps per second:  83, episode reward:  8.000, mean reward:  0.011 [ 0.000,  1.000], mean action: 2.330 [0.000, 5.000],  loss: 0.006620, mae: 0.324419, mean_q: 0.396231, mean_eps: 0.789713\n",
            "  234944/5000000: episode: 337, duration: 11.019s, episode steps: 925, steps per second:  84, episode reward: 14.000, mean reward:  0.015 [ 0.000,  1.000], mean action: 2.642 [0.000, 5.000],  loss: 0.006614, mae: 0.337459, mean_q: 0.412304, mean_eps: 0.788968\n",
            "  235596/5000000: episode: 338, duration: 6.756s, episode steps: 652, steps per second:  97, episode reward:  9.000, mean reward:  0.014 [ 0.000,  1.000], mean action: 2.811 [0.000, 5.000],  loss: 0.004729, mae: 0.336898, mean_q: 0.411614, mean_eps: 0.788255\n",
            "  235995/5000000: episode: 339, duration: 5.469s, episode steps: 399, steps per second:  73, episode reward:  3.000, mean reward:  0.008 [ 0.000,  1.000], mean action: 2.449 [0.000, 5.000],  loss: 0.005005, mae: 0.336240, mean_q: 0.410390, mean_eps: 0.787780\n",
            "  237398/5000000: episode: 340, duration: 15.768s, episode steps: 1403, steps per second:  89, episode reward: 21.000, mean reward:  0.015 [ 0.000,  1.000], mean action: 2.663 [0.000, 5.000],  loss: 0.007645, mae: 0.340206, mean_q: 0.415589, mean_eps: 0.786970\n",
            "Pesos guardados en dqn_last_weights.h5 al final del episodio 340\n",
            "  238110/5000000: episode: 341, duration: 8.653s, episode steps: 712, steps per second:  82, episode reward:  9.000, mean reward:  0.013 [ 0.000,  1.000], mean action: 2.826 [0.000, 5.000],  loss: 0.007985, mae: 0.344979, mean_q: 0.415803, mean_eps: 0.786020\n",
            "  238888/5000000: episode: 342, duration: 8.216s, episode steps: 778, steps per second:  95, episode reward: 11.000, mean reward:  0.014 [ 0.000,  1.000], mean action: 2.607 [0.000, 5.000],  loss: 0.006857, mae: 0.342786, mean_q: 0.416533, mean_eps: 0.785350\n",
            "  239849/5000000: episode: 343, duration: 11.192s, episode steps: 961, steps per second:  86, episode reward: 15.000, mean reward:  0.016 [ 0.000,  1.000], mean action: 2.460 [0.000, 5.000],  loss: 0.007288, mae: 0.334660, mean_q: 0.407788, mean_eps: 0.784572\n",
            "  240594/5000000: episode: 344, duration: 9.099s, episode steps: 745, steps per second:  82, episode reward: 18.000, mean reward:  0.024 [ 0.000,  1.000], mean action: 2.277 [0.000, 5.000],  loss: 0.010125, mae: 0.355865, mean_q: 0.430234, mean_eps: 0.783806\n",
            "  241287/5000000: episode: 345, duration: 7.318s, episode steps: 693, steps per second:  95, episode reward:  7.000, mean reward:  0.010 [ 0.000,  1.000], mean action: 2.535 [0.000, 5.000],  loss: 0.005068, mae: 0.351553, mean_q: 0.430921, mean_eps: 0.783158\n",
            "  241921/5000000: episode: 346, duration: 8.111s, episode steps: 634, steps per second:  78, episode reward:  8.000, mean reward:  0.013 [ 0.000,  1.000], mean action: 2.562 [0.000, 5.000],  loss: 0.008288, mae: 0.351738, mean_q: 0.431906, mean_eps: 0.782553\n",
            "  242755/5000000: episode: 347, duration: 9.938s, episode steps: 834, steps per second:  84, episode reward: 10.000, mean reward:  0.012 [ 0.000,  1.000], mean action: 2.150 [0.000, 5.000],  loss: 0.007561, mae: 0.363386, mean_q: 0.446444, mean_eps: 0.781894\n",
            "  243331/5000000: episode: 348, duration: 6.038s, episode steps: 576, steps per second:  95, episode reward:  4.000, mean reward:  0.007 [ 0.000,  1.000], mean action: 2.856 [0.000, 5.000],  loss: 0.008291, mae: 0.359657, mean_q: 0.437298, mean_eps: 0.781268\n",
            "  243997/5000000: episode: 349, duration: 8.334s, episode steps: 666, steps per second:  80, episode reward: 10.000, mean reward:  0.015 [ 0.000,  1.000], mean action: 2.483 [0.000, 5.000],  loss: 0.010100, mae: 0.365455, mean_q: 0.444031, mean_eps: 0.780706\n",
            "  244619/5000000: episode: 350, duration: 6.460s, episode steps: 622, steps per second:  96, episode reward:  5.000, mean reward:  0.008 [ 0.000,  1.000], mean action: 2.886 [0.000, 5.000],  loss: 0.007760, mae: 0.357705, mean_q: 0.448196, mean_eps: 0.780123\n",
            "Pesos guardados en dqn_last_weights.h5 al final del episodio 350\n",
            "  245010/5000000: episode: 351, duration: 5.683s, episode steps: 391, steps per second:  69, episode reward:  4.000, mean reward:  0.010 [ 0.000,  1.000], mean action: 2.650 [0.000, 5.000],  loss: 0.008066, mae: 0.370671, mean_q: 0.451705, mean_eps: 0.779669\n",
            "  245402/5000000: episode: 352, duration: 4.173s, episode steps: 392, steps per second:  94, episode reward:  7.000, mean reward:  0.018 [ 0.000,  1.000], mean action: 2.903 [0.000, 5.000],  loss: 0.010722, mae: 0.362540, mean_q: 0.438190, mean_eps: 0.779313\n",
            "  245959/5000000: episode: 353, duration: 6.148s, episode steps: 557, steps per second:  91, episode reward: 11.000, mean reward:  0.020 [ 0.000,  1.000], mean action: 2.750 [0.000, 5.000],  loss: 0.005706, mae: 0.364372, mean_q: 0.445152, mean_eps: 0.778881\n",
            "  246291/5000000: episode: 354, duration: 4.418s, episode steps: 332, steps per second:  75, episode reward:  2.000, mean reward:  0.006 [ 0.000,  1.000], mean action: 2.268 [0.000, 5.000],  loss: 0.004971, mae: 0.365517, mean_q: 0.445851, mean_eps: 0.778481\n",
            "  246952/5000000: episode: 355, duration: 6.801s, episode steps: 661, steps per second:  97, episode reward: 11.000, mean reward:  0.017 [ 0.000,  1.000], mean action: 2.287 [0.000, 5.000],  loss: 0.005999, mae: 0.356331, mean_q: 0.434379, mean_eps: 0.778038\n",
            "  247624/5000000: episode: 356, duration: 8.334s, episode steps: 672, steps per second:  81, episode reward:  6.000, mean reward:  0.009 [ 0.000,  1.000], mean action: 2.286 [0.000, 5.000],  loss: 0.007329, mae: 0.359670, mean_q: 0.439258, mean_eps: 0.777444\n",
            "  248650/5000000: episode: 357, duration: 12.001s, episode steps: 1026, steps per second:  85, episode reward: 19.000, mean reward:  0.019 [ 0.000,  1.000], mean action: 2.439 [0.000, 5.000],  loss: 0.008900, mae: 0.360274, mean_q: 0.433857, mean_eps: 0.776678\n",
            "  249617/5000000: episode: 358, duration: 11.279s, episode steps: 967, steps per second:  86, episode reward: 17.000, mean reward:  0.018 [ 0.000,  1.000], mean action: 2.361 [0.000, 5.000],  loss: 0.006415, mae: 0.366010, mean_q: 0.448865, mean_eps: 0.775781\n",
            "  250342/5000000: episode: 359, duration: 7.520s, episode steps: 725, steps per second:  96, episode reward: 10.000, mean reward:  0.014 [ 0.000,  1.000], mean action: 2.508 [0.000, 5.000],  loss: 0.009295, mae: 0.363402, mean_q: 0.445236, mean_eps: 0.775025\n",
            "  250710/5000000: episode: 360, duration: 5.252s, episode steps: 368, steps per second:  70, episode reward:  3.000, mean reward:  0.008 [ 0.000,  1.000], mean action: 2.514 [0.000, 5.000],  loss: 0.004655, mae: 0.372353, mean_q: 0.454457, mean_eps: 0.774528\n",
            "Pesos guardados en dqn_last_weights.h5 al final del episodio 360\n",
            "  251486/5000000: episode: 361, duration: 8.435s, episode steps: 776, steps per second:  92, episode reward:  9.000, mean reward:  0.012 [ 0.000,  1.000], mean action: 2.603 [0.000, 5.000],  loss: 0.005947, mae: 0.376740, mean_q: 0.462064, mean_eps: 0.774010\n",
            "  251926/5000000: episode: 362, duration: 5.852s, episode steps: 440, steps per second:  75, episode reward:  3.000, mean reward:  0.007 [ 0.000,  1.000], mean action: 2.518 [0.000, 5.000],  loss: 0.009748, mae: 0.380329, mean_q: 0.463638, mean_eps: 0.773470\n",
            "  252928/5000000: episode: 363, duration: 11.778s, episode steps: 1002, steps per second:  85, episode reward: 17.000, mean reward:  0.017 [ 0.000,  1.000], mean action: 2.345 [0.000, 5.000],  loss: 0.005607, mae: 0.379042, mean_q: 0.461097, mean_eps: 0.772822\n",
            "  253747/5000000: episode: 364, duration: 8.530s, episode steps: 819, steps per second:  96, episode reward: 10.000, mean reward:  0.012 [ 0.000,  1.000], mean action: 2.011 [0.000, 5.000],  loss: 0.008832, mae: 0.373971, mean_q: 0.454958, mean_eps: 0.772001\n",
            "  254685/5000000: episode: 365, duration: 11.075s, episode steps: 938, steps per second:  85, episode reward: 12.000, mean reward:  0.013 [ 0.000,  1.000], mean action: 2.463 [0.000, 5.000],  loss: 0.004765, mae: 0.376337, mean_q: 0.457062, mean_eps: 0.771213\n",
            "  255134/5000000: episode: 366, duration: 5.584s, episode steps: 449, steps per second:  80, episode reward:  6.000, mean reward:  0.013 [ 0.000,  1.000], mean action: 2.267 [0.000, 5.000],  loss: 0.011130, mae: 0.378068, mean_q: 0.455152, mean_eps: 0.770586\n",
            "  256098/5000000: episode: 367, duration: 10.603s, episode steps: 964, steps per second:  91, episode reward: 14.000, mean reward:  0.015 [ 0.000,  1.000], mean action: 2.310 [0.000, 5.000],  loss: 0.010070, mae: 0.378936, mean_q: 0.461254, mean_eps: 0.769949\n",
            "  256746/5000000: episode: 368, duration: 8.046s, episode steps: 648, steps per second:  81, episode reward:  6.000, mean reward:  0.009 [ 0.000,  1.000], mean action: 2.671 [0.000, 5.000],  loss: 0.005905, mae: 0.365755, mean_q: 0.442575, mean_eps: 0.769226\n",
            "  257241/5000000: episode: 369, duration: 5.264s, episode steps: 495, steps per second:  94, episode reward:  6.000, mean reward:  0.012 [ 0.000,  1.000], mean action: 2.170 [0.000, 5.000],  loss: 0.009996, mae: 0.378782, mean_q: 0.462507, mean_eps: 0.768707\n",
            "  257800/5000000: episode: 370, duration: 7.077s, episode steps: 559, steps per second:  79, episode reward:  6.000, mean reward:  0.011 [ 0.000,  1.000], mean action: 2.928 [0.000, 5.000],  loss: 0.007268, mae: 0.374038, mean_q: 0.468750, mean_eps: 0.768232\n",
            "Pesos guardados en dqn_last_weights.h5 al final del episodio 370\n",
            "  258563/5000000: episode: 371, duration: 9.399s, episode steps: 763, steps per second:  81, episode reward:  8.000, mean reward:  0.010 [ 0.000,  1.000], mean action: 2.490 [0.000, 5.000],  loss: 0.008169, mae: 0.375812, mean_q: 0.456704, mean_eps: 0.767638\n",
            "  258954/5000000: episode: 372, duration: 4.063s, episode steps: 391, steps per second:  96, episode reward:  5.000, mean reward:  0.013 [ 0.000,  1.000], mean action: 2.801 [0.000, 5.000],  loss: 0.008515, mae: 0.365755, mean_q: 0.443534, mean_eps: 0.767120\n",
            "  259555/5000000: episode: 373, duration: 6.302s, episode steps: 601, steps per second:  95, episode reward:  6.000, mean reward:  0.010 [ 0.000,  1.000], mean action: 2.557 [0.000, 5.000],  loss: 0.006461, mae: 0.376237, mean_q: 0.458871, mean_eps: 0.766677\n",
            "  260927/5000000: episode: 374, duration: 16.740s, episode steps: 1372, steps per second:  82, episode reward: 17.000, mean reward:  0.012 [ 0.000,  1.000], mean action: 2.192 [0.000, 5.000],  loss: 0.007514, mae: 0.385161, mean_q: 0.473351, mean_eps: 0.765791\n",
            "  261639/5000000: episode: 375, duration: 7.487s, episode steps: 712, steps per second:  95, episode reward:  8.000, mean reward:  0.011 [ 0.000,  1.000], mean action: 2.364 [0.000, 5.000],  loss: 0.007095, mae: 0.393810, mean_q: 0.477402, mean_eps: 0.764852\n",
            "  262568/5000000: episode: 376, duration: 11.004s, episode steps: 929, steps per second:  84, episode reward: 14.000, mean reward:  0.015 [ 0.000,  1.000], mean action: 2.643 [0.000, 5.000],  loss: 0.007185, mae: 0.390289, mean_q: 0.475894, mean_eps: 0.764106\n",
            "  263314/5000000: episode: 377, duration: 9.065s, episode steps: 746, steps per second:  82, episode reward:  7.000, mean reward:  0.009 [ 0.000,  1.000], mean action: 2.251 [0.000, 5.000],  loss: 0.006188, mae: 0.386838, mean_q: 0.471855, mean_eps: 0.763350\n",
            "  264079/5000000: episode: 378, duration: 8.095s, episode steps: 765, steps per second:  95, episode reward: 13.000, mean reward:  0.017 [ 0.000,  1.000], mean action: 2.620 [0.000, 5.000],  loss: 0.008801, mae: 0.399944, mean_q: 0.487308, mean_eps: 0.762670\n",
            "  264772/5000000: episode: 379, duration: 8.396s, episode steps: 693, steps per second:  83, episode reward:  7.000, mean reward:  0.010 [ 0.000,  1.000], mean action: 2.534 [0.000, 5.000],  loss: 0.009441, mae: 0.394252, mean_q: 0.479742, mean_eps: 0.762011\n",
            "  265291/5000000: episode: 380, duration: 5.685s, episode steps: 519, steps per second:  91, episode reward:  9.000, mean reward:  0.017 [ 0.000,  1.000], mean action: 2.464 [0.000, 5.000],  loss: 0.003311, mae: 0.396745, mean_q: 0.481319, mean_eps: 0.761471\n",
            "Pesos guardados en dqn_last_weights.h5 al final del episodio 380\n",
            "  266099/5000000: episode: 381, duration: 9.759s, episode steps: 808, steps per second:  83, episode reward: 11.000, mean reward:  0.014 [ 0.000,  1.000], mean action: 2.760 [0.000, 5.000],  loss: 0.007148, mae: 0.394094, mean_q: 0.483189, mean_eps: 0.760877\n",
            "  266881/5000000: episode: 382, duration: 9.511s, episode steps: 782, steps per second:  82, episode reward:  9.000, mean reward:  0.012 [ 0.000,  1.000], mean action: 2.890 [0.000, 5.000],  loss: 0.007850, mae: 0.401599, mean_q: 0.493433, mean_eps: 0.760154\n",
            "  267683/5000000: episode: 383, duration: 9.557s, episode steps: 802, steps per second:  84, episode reward:  9.000, mean reward:  0.011 [ 0.000,  1.000], mean action: 3.015 [0.000, 5.000],  loss: 0.005986, mae: 0.388200, mean_q: 0.476112, mean_eps: 0.759441\n",
            "  268474/5000000: episode: 384, duration: 8.246s, episode steps: 791, steps per second:  96, episode reward: 10.000, mean reward:  0.013 [ 0.000,  1.000], mean action: 2.731 [0.000, 5.000],  loss: 0.004856, mae: 0.383702, mean_q: 0.466370, mean_eps: 0.758728\n",
            "  269417/5000000: episode: 385, duration: 10.988s, episode steps: 943, steps per second:  86, episode reward: 11.000, mean reward:  0.012 [ 0.000,  1.000], mean action: 2.538 [0.000, 5.000],  loss: 0.006346, mae: 0.388909, mean_q: 0.472177, mean_eps: 0.757950\n",
            "  269925/5000000: episode: 386, duration: 6.493s, episode steps: 508, steps per second:  78, episode reward:  8.000, mean reward:  0.016 [ 0.000,  1.000], mean action: 2.386 [0.000, 5.000],  loss: 0.003147, mae: 0.381364, mean_q: 0.465067, mean_eps: 0.757302\n",
            "  270558/5000000: episode: 387, duration: 6.715s, episode steps: 633, steps per second:  94, episode reward: 12.000, mean reward:  0.019 [ 0.000,  1.000], mean action: 2.276 [0.000, 5.000],  loss: 0.005916, mae: 0.403733, mean_q: 0.489249, mean_eps: 0.756784\n",
            "  271240/5000000: episode: 388, duration: 8.325s, episode steps: 682, steps per second:  82, episode reward:  9.000, mean reward:  0.013 [ 0.000,  1.000], mean action: 2.279 [0.000, 5.000],  loss: 0.009461, mae: 0.431544, mean_q: 0.524233, mean_eps: 0.756190\n",
            "  271623/5000000: episode: 389, duration: 4.022s, episode steps: 383, steps per second:  95, episode reward:  4.000, mean reward:  0.010 [ 0.000,  1.000], mean action: 2.339 [0.000, 5.000],  loss: 0.008507, mae: 0.420206, mean_q: 0.515026, mean_eps: 0.755715\n",
            "  272467/5000000: episode: 390, duration: 10.024s, episode steps: 844, steps per second:  84, episode reward: 14.000, mean reward:  0.017 [ 0.000,  1.000], mean action: 2.854 [0.000, 5.000],  loss: 0.008208, mae: 0.414384, mean_q: 0.508753, mean_eps: 0.755164\n",
            "Pesos guardados en dqn_last_weights.h5 al final del episodio 390\n",
            "  273267/5000000: episode: 391, duration: 10.118s, episode steps: 800, steps per second:  79, episode reward: 12.000, mean reward:  0.015 [ 0.000,  1.000], mean action: 2.855 [0.000, 5.000],  loss: 0.005913, mae: 0.406155, mean_q: 0.499549, mean_eps: 0.754419\n",
            "  274022/5000000: episode: 392, duration: 7.878s, episode steps: 755, steps per second:  96, episode reward:  6.000, mean reward:  0.008 [ 0.000,  1.000], mean action: 2.548 [0.000, 5.000],  loss: 0.005687, mae: 0.408795, mean_q: 0.496506, mean_eps: 0.753717\n",
            "  274677/5000000: episode: 393, duration: 8.084s, episode steps: 655, steps per second:  81, episode reward:  7.000, mean reward:  0.011 [ 0.000,  1.000], mean action: 2.261 [0.000, 5.000],  loss: 0.006632, mae: 0.408631, mean_q: 0.496748, mean_eps: 0.753090\n",
            "  275454/5000000: episode: 394, duration: 9.417s, episode steps: 777, steps per second:  83, episode reward: 18.000, mean reward:  0.023 [ 0.000,  1.000], mean action: 2.694 [0.000, 5.000],  loss: 0.006937, mae: 0.403417, mean_q: 0.488544, mean_eps: 0.752442\n",
            "  275886/5000000: episode: 395, duration: 4.533s, episode steps: 432, steps per second:  95, episode reward:  7.000, mean reward:  0.016 [ 0.000,  1.000], mean action: 2.539 [0.000, 5.000],  loss: 0.005436, mae: 0.403899, mean_q: 0.491708, mean_eps: 0.751892\n",
            "  276260/5000000: episode: 396, duration: 3.829s, episode steps: 374, steps per second:  98, episode reward:  4.000, mean reward:  0.011 [ 0.000,  1.000], mean action: 2.623 [0.000, 5.000],  loss: 0.006942, mae: 0.396340, mean_q: 0.486537, mean_eps: 0.751535\n",
            "  277017/5000000: episode: 397, duration: 9.228s, episode steps: 757, steps per second:  82, episode reward:  7.000, mean reward:  0.009 [ 0.000,  1.000], mean action: 2.446 [0.000, 5.000],  loss: 0.005884, mae: 0.402656, mean_q: 0.493758, mean_eps: 0.751028\n",
            "  277784/5000000: episode: 398, duration: 9.257s, episode steps: 767, steps per second:  83, episode reward:  7.000, mean reward:  0.009 [ 0.000,  1.000], mean action: 2.338 [0.000, 5.000],  loss: 0.006582, mae: 0.393898, mean_q: 0.475093, mean_eps: 0.750336\n",
            "  278433/5000000: episode: 399, duration: 6.824s, episode steps: 649, steps per second:  95, episode reward:  9.000, mean reward:  0.014 [ 0.000,  1.000], mean action: 2.324 [0.000, 5.000],  loss: 0.006159, mae: 0.420358, mean_q: 0.507546, mean_eps: 0.749699\n",
            "  279278/5000000: episode: 400, duration: 9.987s, episode steps: 845, steps per second:  85, episode reward: 12.000, mean reward:  0.014 [ 0.000,  1.000], mean action: 2.985 [0.000, 5.000],  loss: 0.006482, mae: 0.403179, mean_q: 0.488662, mean_eps: 0.749030\n",
            "Pesos guardados en dqn_last_weights.h5 al final del episodio 400\n",
            "  280682/5000000: episode: 401, duration: 16.800s, episode steps: 1404, steps per second:  84, episode reward: 13.000, mean reward:  0.009 [ 0.000,  1.000], mean action: 2.412 [0.000, 5.000],  loss: 0.006815, mae: 0.417098, mean_q: 0.507244, mean_eps: 0.748014\n",
            "  281604/5000000: episode: 402, duration: 10.874s, episode steps: 922, steps per second:  85, episode reward: 13.000, mean reward:  0.014 [ 0.000,  1.000], mean action: 2.564 [0.000, 5.000],  loss: 0.004812, mae: 0.420223, mean_q: 0.509018, mean_eps: 0.746967\n",
            "  282696/5000000: episode: 403, duration: 12.926s, episode steps: 1092, steps per second:  84, episode reward: 17.000, mean reward:  0.016 [ 0.000,  1.000], mean action: 2.146 [0.000, 5.000],  loss: 0.007023, mae: 0.429768, mean_q: 0.526267, mean_eps: 0.746070\n",
            "  283102/5000000: episode: 404, duration: 4.754s, episode steps: 406, steps per second:  85, episode reward:  6.000, mean reward:  0.015 [ 0.000,  1.000], mean action: 2.478 [0.000, 5.000],  loss: 0.004883, mae: 0.409835, mean_q: 0.498034, mean_eps: 0.745401\n",
            "  283691/5000000: episode: 405, duration: 6.993s, episode steps: 589, steps per second:  84, episode reward:  6.000, mean reward:  0.010 [ 0.000,  1.000], mean action: 2.533 [0.000, 5.000],  loss: 0.009305, mae: 0.417178, mean_q: 0.506295, mean_eps: 0.744947\n",
            "  284658/5000000: episode: 406, duration: 11.320s, episode steps: 967, steps per second:  85, episode reward: 14.000, mean reward:  0.014 [ 0.000,  1.000], mean action: 2.255 [0.000, 5.000],  loss: 0.006013, mae: 0.425256, mean_q: 0.521679, mean_eps: 0.744245\n",
            "  285076/5000000: episode: 407, duration: 4.490s, episode steps: 418, steps per second:  93, episode reward:  6.000, mean reward:  0.014 [ 0.000,  1.000], mean action: 2.727 [0.000, 5.000],  loss: 0.009856, mae: 0.433626, mean_q: 0.523563, mean_eps: 0.743619\n",
            "  285521/5000000: episode: 408, duration: 5.778s, episode steps: 445, steps per second:  77, episode reward:  5.000, mean reward:  0.011 [ 0.000,  1.000], mean action: 2.636 [0.000, 5.000],  loss: 0.010565, mae: 0.438908, mean_q: 0.533577, mean_eps: 0.743230\n",
            "  286208/5000000: episode: 409, duration: 7.266s, episode steps: 687, steps per second:  95, episode reward:  8.000, mean reward:  0.012 [ 0.000,  1.000], mean action: 2.214 [0.000, 5.000],  loss: 0.009685, mae: 0.441229, mean_q: 0.536670, mean_eps: 0.742722\n",
            "  287003/5000000: episode: 410, duration: 9.512s, episode steps: 795, steps per second:  84, episode reward: 13.000, mean reward:  0.016 [ 0.000,  1.000], mean action: 2.425 [0.000, 5.000],  loss: 0.005939, mae: 0.423673, mean_q: 0.516040, mean_eps: 0.742053\n",
            "Pesos guardados en dqn_last_weights.h5 al final del episodio 410\n",
            "  287834/5000000: episode: 411, duration: 10.472s, episode steps: 831, steps per second:  79, episode reward: 12.000, mean reward:  0.014 [ 0.000,  1.000], mean action: 2.366 [0.000, 5.000],  loss: 0.006231, mae: 0.435070, mean_q: 0.529933, mean_eps: 0.741318\n",
            "  288465/5000000: episode: 412, duration: 6.586s, episode steps: 631, steps per second:  96, episode reward:  6.000, mean reward:  0.010 [ 0.000,  1.000], mean action: 2.325 [0.000, 5.000],  loss: 0.008081, mae: 0.441765, mean_q: 0.534850, mean_eps: 0.740660\n",
            "  288816/5000000: episode: 413, duration: 4.963s, episode steps: 351, steps per second:  71, episode reward:  3.000, mean reward:  0.009 [ 0.000,  1.000], mean action: 2.613 [0.000, 5.000],  loss: 0.006618, mae: 0.406317, mean_q: 0.491689, mean_eps: 0.740228\n",
            "  289341/5000000: episode: 414, duration: 5.534s, episode steps: 525, steps per second:  95, episode reward:  5.000, mean reward:  0.010 [ 0.000,  1.000], mean action: 2.501 [0.000, 5.000],  loss: 0.005281, mae: 0.437106, mean_q: 0.530479, mean_eps: 0.739839\n",
            "  289928/5000000: episode: 415, duration: 7.498s, episode steps: 587, steps per second:  78, episode reward:  6.000, mean reward:  0.010 [ 0.000,  1.000], mean action: 2.985 [0.000, 5.000],  loss: 0.007012, mae: 0.431375, mean_q: 0.522515, mean_eps: 0.739331\n",
            "  290585/5000000: episode: 416, duration: 6.820s, episode steps: 657, steps per second:  96, episode reward:  7.000, mean reward:  0.011 [ 0.000,  1.000], mean action: 2.813 [0.000, 5.000],  loss: 0.005524, mae: 0.421735, mean_q: 0.510400, mean_eps: 0.738770\n",
            "  291114/5000000: episode: 417, duration: 6.777s, episode steps: 529, steps per second:  78, episode reward:  8.000, mean reward:  0.015 [ 0.000,  1.000], mean action: 2.546 [0.000, 5.000],  loss: 0.008222, mae: 0.434002, mean_q: 0.526417, mean_eps: 0.738240\n",
            "  291987/5000000: episode: 418, duration: 9.564s, episode steps: 873, steps per second:  91, episode reward: 16.000, mean reward:  0.018 [ 0.000,  1.000], mean action: 2.405 [0.000, 5.000],  loss: 0.006269, mae: 0.442871, mean_q: 0.537741, mean_eps: 0.737603\n",
            "  292793/5000000: episode: 419, duration: 9.320s, episode steps: 806, steps per second:  86, episode reward: 15.000, mean reward:  0.019 [ 0.000,  1.000], mean action: 2.800 [0.000, 5.000],  loss: 0.007150, mae: 0.432696, mean_q: 0.521223, mean_eps: 0.736847\n",
            "  293301/5000000: episode: 420, duration: 6.513s, episode steps: 508, steps per second:  78, episode reward:  5.000, mean reward:  0.010 [ 0.000,  1.000], mean action: 2.744 [0.000, 5.000],  loss: 0.008087, mae: 0.427359, mean_q: 0.516524, mean_eps: 0.736264\n",
            "Pesos guardados en dqn_best_weights.h5 recompensa: 21.0\n",
            "Pesos guardados en dqn_last_weights.h5 al final del episodio 420\n",
            "  294371/5000000: episode: 421, duration: 13.363s, episode steps: 1070, steps per second:  80, episode reward: 21.000, mean reward:  0.020 [ 0.000,  1.000], mean action: 2.649 [0.000, 5.000],  loss: 0.006911, mae: 0.434671, mean_q: 0.524134, mean_eps: 0.735551\n",
            "  295006/5000000: episode: 422, duration: 6.563s, episode steps: 635, steps per second:  97, episode reward: 11.000, mean reward:  0.017 [ 0.000,  1.000], mean action: 2.565 [0.000, 5.000],  loss: 0.007586, mae: 0.428298, mean_q: 0.517043, mean_eps: 0.734784\n",
            "  295827/5000000: episode: 423, duration: 9.998s, episode steps: 821, steps per second:  82, episode reward:  9.000, mean reward:  0.011 [ 0.000,  1.000], mean action: 2.242 [0.000, 5.000],  loss: 0.007636, mae: 0.429602, mean_q: 0.519123, mean_eps: 0.734126\n",
            "  296337/5000000: episode: 424, duration: 5.316s, episode steps: 510, steps per second:  96, episode reward:  4.000, mean reward:  0.008 [ 0.000,  1.000], mean action: 2.498 [0.000, 5.000],  loss: 0.004953, mae: 0.439091, mean_q: 0.529916, mean_eps: 0.733521\n",
            "  296885/5000000: episode: 425, duration: 6.984s, episode steps: 548, steps per second:  78, episode reward:  4.000, mean reward:  0.007 [ 0.000,  1.000], mean action: 2.476 [0.000, 5.000],  loss: 0.007152, mae: 0.434862, mean_q: 0.525019, mean_eps: 0.733046\n",
            "  298057/5000000: episode: 426, duration: 13.529s, episode steps: 1172, steps per second:  87, episode reward: 19.000, mean reward:  0.016 [ 0.000,  1.000], mean action: 1.998 [0.000, 5.000],  loss: 0.007609, mae: 0.439601, mean_q: 0.534232, mean_eps: 0.732268\n",
            "  298759/5000000: episode: 427, duration: 8.573s, episode steps: 702, steps per second:  82, episode reward: 11.000, mean reward:  0.016 [ 0.000,  1.000], mean action: 2.068 [0.000, 5.000],  loss: 0.009168, mae: 0.430839, mean_q: 0.522779, mean_eps: 0.731426\n",
            "  299558/5000000: episode: 428, duration: 8.361s, episode steps: 799, steps per second:  96, episode reward: 17.000, mean reward:  0.021 [ 0.000,  1.000], mean action: 2.387 [0.000, 5.000],  loss: 0.006295, mae: 0.431416, mean_q: 0.521878, mean_eps: 0.730756\n",
            "  300858/5000000: episode: 429, duration: 15.025s, episode steps: 1300, steps per second:  87, episode reward: 29.000, mean reward:  0.022 [ 0.000,  1.000], mean action: 2.851 [0.000, 5.000],  loss: 0.006851, mae: 0.437303, mean_q: 0.536983, mean_eps: 0.729816\n",
            "  301450/5000000: episode: 430, duration: 7.209s, episode steps: 592, steps per second:  82, episode reward:  9.000, mean reward:  0.015 [ 0.000,  1.000], mean action: 2.929 [0.000, 5.000],  loss: 0.006897, mae: 0.433019, mean_q: 0.534906, mean_eps: 0.728963\n",
            "Pesos guardados en dqn_last_weights.h5 al final del episodio 430\n",
            "  302110/5000000: episode: 431, duration: 8.605s, episode steps: 660, steps per second:  77, episode reward: 11.000, mean reward:  0.017 [ 0.000,  1.000], mean action: 3.009 [0.000, 5.000],  loss: 0.008627, mae: 0.429405, mean_q: 0.526173, mean_eps: 0.728402\n",
            "  302779/5000000: episode: 432, duration: 7.109s, episode steps: 669, steps per second:  94, episode reward: 15.000, mean reward:  0.022 [ 0.000,  1.000], mean action: 2.284 [0.000, 5.000],  loss: 0.007560, mae: 0.440667, mean_q: 0.540842, mean_eps: 0.727808\n",
            "  303413/5000000: episode: 433, duration: 7.976s, episode steps: 634, steps per second:  79, episode reward:  7.000, mean reward:  0.011 [ 0.000,  1.000], mean action: 2.243 [0.000, 5.000],  loss: 0.006671, mae: 0.432191, mean_q: 0.525423, mean_eps: 0.727214\n",
            "  304043/5000000: episode: 434, duration: 6.605s, episode steps: 630, steps per second:  95, episode reward:  7.000, mean reward:  0.011 [ 0.000,  1.000], mean action: 2.656 [0.000, 5.000],  loss: 0.005918, mae: 0.440930, mean_q: 0.535085, mean_eps: 0.726641\n",
            "  304858/5000000: episode: 435, duration: 9.831s, episode steps: 815, steps per second:  83, episode reward: 11.000, mean reward:  0.013 [ 0.000,  1.000], mean action: 2.880 [0.000, 5.000],  loss: 0.011800, mae: 0.455151, mean_q: 0.558140, mean_eps: 0.725993\n",
            "  305677/5000000: episode: 436, duration: 9.927s, episode steps: 819, steps per second:  82, episode reward:  9.000, mean reward:  0.011 [ 0.000,  1.000], mean action: 2.916 [0.000, 5.000],  loss: 0.005627, mae: 0.440689, mean_q: 0.537010, mean_eps: 0.725259\n",
            "  306125/5000000: episode: 437, duration: 4.735s, episode steps: 448, steps per second:  95, episode reward:  8.000, mean reward:  0.018 [ 0.000,  1.000], mean action: 2.429 [0.000, 5.000],  loss: 0.005999, mae: 0.431627, mean_q: 0.521902, mean_eps: 0.724686\n",
            "  306537/5000000: episode: 438, duration: 5.521s, episode steps: 412, steps per second:  75, episode reward:  3.000, mean reward:  0.007 [ 0.000,  1.000], mean action: 2.677 [0.000, 5.000],  loss: 0.008446, mae: 0.442946, mean_q: 0.533980, mean_eps: 0.724298\n",
            "  307184/5000000: episode: 439, duration: 6.890s, episode steps: 647, steps per second:  94, episode reward:  6.000, mean reward:  0.009 [ 0.000,  1.000], mean action: 2.757 [0.000, 5.000],  loss: 0.005610, mae: 0.431806, mean_q: 0.528457, mean_eps: 0.723822\n",
            "  307975/5000000: episode: 440, duration: 9.607s, episode steps: 791, steps per second:  82, episode reward: 11.000, mean reward:  0.014 [ 0.000,  1.000], mean action: 2.651 [0.000, 5.000],  loss: 0.004501, mae: 0.433424, mean_q: 0.526209, mean_eps: 0.723174\n",
            "Pesos guardados en dqn_last_weights.h5 al final del episodio 440\n",
            "  308947/5000000: episode: 441, duration: 12.158s, episode steps: 972, steps per second:  80, episode reward: 12.000, mean reward:  0.012 [ 0.000,  1.000], mean action: 2.380 [0.000, 5.000],  loss: 0.004906, mae: 0.426373, mean_q: 0.516158, mean_eps: 0.722386\n",
            "  309654/5000000: episode: 442, duration: 7.980s, episode steps: 707, steps per second:  89, episode reward: 10.000, mean reward:  0.014 [ 0.000,  1.000], mean action: 2.707 [0.000, 5.000],  loss: 0.007234, mae: 0.435004, mean_q: 0.529102, mean_eps: 0.721630\n",
            "  310018/5000000: episode: 443, duration: 4.719s, episode steps: 364, steps per second:  77, episode reward:  4.000, mean reward:  0.011 [ 0.000,  1.000], mean action: 2.412 [0.000, 5.000],  loss: 0.006083, mae: 0.425003, mean_q: 0.516649, mean_eps: 0.721144\n",
            "  310905/5000000: episode: 444, duration: 10.637s, episode steps: 887, steps per second:  83, episode reward: 10.000, mean reward:  0.011 [ 0.000,  1.000], mean action: 2.263 [0.000, 5.000],  loss: 0.006011, mae: 0.440999, mean_q: 0.532538, mean_eps: 0.720582\n",
            "  311699/5000000: episode: 445, duration: 8.418s, episode steps: 794, steps per second:  94, episode reward:  9.000, mean reward:  0.011 [ 0.000,  1.000], mean action: 2.060 [0.000, 5.000],  loss: 0.005561, mae: 0.436772, mean_q: 0.531077, mean_eps: 0.719826\n",
            "  312537/5000000: episode: 446, duration: 10.110s, episode steps: 838, steps per second:  83, episode reward: 12.000, mean reward:  0.014 [ 0.000,  1.000], mean action: 2.624 [0.000, 5.000],  loss: 0.009077, mae: 0.450536, mean_q: 0.554453, mean_eps: 0.719092\n",
            "  313181/5000000: episode: 447, duration: 8.094s, episode steps: 644, steps per second:  80, episode reward:  5.000, mean reward:  0.008 [ 0.000,  1.000], mean action: 2.865 [0.000, 5.000],  loss: 0.006074, mae: 0.433096, mean_q: 0.532574, mean_eps: 0.718422\n",
            "  313946/5000000: episode: 448, duration: 8.139s, episode steps: 765, steps per second:  94, episode reward:  6.000, mean reward:  0.008 [ 0.000,  1.000], mean action: 2.562 [0.000, 5.000],  loss: 0.008964, mae: 0.450972, mean_q: 0.550994, mean_eps: 0.717785\n",
            "  314616/5000000: episode: 449, duration: 8.361s, episode steps: 670, steps per second:  80, episode reward:  8.000, mean reward:  0.012 [ 0.000,  1.000], mean action: 2.416 [0.000, 5.000],  loss: 0.013014, mae: 0.445945, mean_q: 0.538037, mean_eps: 0.717148\n",
            "  315976/5000000: episode: 450, duration: 15.690s, episode steps: 1360, steps per second:  87, episode reward: 10.000, mean reward:  0.007 [ 0.000,  1.000], mean action: 2.520 [0.000, 5.000],  loss: 0.007945, mae: 0.439440, mean_q: 0.531512, mean_eps: 0.716241\n",
            "Pesos guardados en dqn_last_weights.h5 al final del episodio 450\n",
            "  316527/5000000: episode: 451, duration: 7.563s, episode steps: 551, steps per second:  73, episode reward: 13.000, mean reward:  0.024 [ 0.000,  1.000], mean action: 3.002 [0.000, 5.000],  loss: 0.009306, mae: 0.442022, mean_q: 0.532092, mean_eps: 0.715377\n",
            "  317015/5000000: episode: 452, duration: 5.134s, episode steps: 488, steps per second:  95, episode reward:  6.000, mean reward:  0.012 [ 0.000,  1.000], mean action: 2.674 [0.000, 5.000],  loss: 0.007490, mae: 0.433518, mean_q: 0.523210, mean_eps: 0.714912\n",
            "  317399/5000000: episode: 453, duration: 4.815s, episode steps: 384, steps per second:  80, episode reward:  6.000, mean reward:  0.016 [ 0.000,  1.000], mean action: 2.620 [0.000, 5.000],  loss: 0.007515, mae: 0.456124, mean_q: 0.551087, mean_eps: 0.714524\n",
            "  318166/5000000: episode: 454, duration: 8.754s, episode steps: 767, steps per second:  88, episode reward: 12.000, mean reward:  0.016 [ 0.000,  1.000], mean action: 3.030 [0.000, 5.000],  loss: 0.007009, mae: 0.435958, mean_q: 0.531281, mean_eps: 0.714005\n",
            "  318851/5000000: episode: 455, duration: 8.645s, episode steps: 685, steps per second:  79, episode reward: 14.000, mean reward:  0.020 [ 0.000,  1.000], mean action: 2.596 [0.000, 5.000],  loss: 0.009640, mae: 0.450169, mean_q: 0.542067, mean_eps: 0.713346\n",
            "  319232/5000000: episode: 456, duration: 4.126s, episode steps: 381, steps per second:  92, episode reward:  7.000, mean reward:  0.018 [ 0.000,  1.000], mean action: 2.375 [0.000, 5.000],  loss: 0.007779, mae: 0.452992, mean_q: 0.546766, mean_eps: 0.712860\n",
            "  319833/5000000: episode: 457, duration: 7.626s, episode steps: 601, steps per second:  79, episode reward: 13.000, mean reward:  0.022 [ 0.000,  1.000], mean action: 2.319 [0.000, 5.000],  loss: 0.009765, mae: 0.425325, mean_q: 0.513562, mean_eps: 0.712418\n",
            "  320477/5000000: episode: 458, duration: 6.923s, episode steps: 644, steps per second:  93, episode reward: 11.000, mean reward:  0.017 [ 0.000,  1.000], mean action: 2.516 [0.000, 5.000],  loss: 0.007580, mae: 0.465065, mean_q: 0.563567, mean_eps: 0.711856\n",
            "  321103/5000000: episode: 459, duration: 7.846s, episode steps: 626, steps per second:  80, episode reward:  8.000, mean reward:  0.013 [ 0.000,  1.000], mean action: 2.502 [0.000, 5.000],  loss: 0.011012, mae: 0.464764, mean_q: 0.561526, mean_eps: 0.711284\n",
            "  321640/5000000: episode: 460, duration: 5.712s, episode steps: 537, steps per second:  94, episode reward:  8.000, mean reward:  0.015 [ 0.000,  1.000], mean action: 2.438 [0.000, 5.000],  loss: 0.005935, mae: 0.443420, mean_q: 0.543046, mean_eps: 0.710765\n",
            "Pesos guardados en dqn_best_weights.h5 recompensa: 24.0\n",
            "Pesos guardados en dqn_last_weights.h5 al final del episodio 460\n",
            "  322765/5000000: episode: 461, duration: 14.160s, episode steps: 1125, steps per second:  79, episode reward: 24.000, mean reward:  0.021 [ 0.000,  1.000], mean action: 2.583 [0.000, 5.000],  loss: 0.007543, mae: 0.455459, mean_q: 0.554434, mean_eps: 0.710020\n",
            "  323409/5000000: episode: 462, duration: 7.894s, episode steps: 644, steps per second:  82, episode reward: 10.000, mean reward:  0.016 [ 0.000,  1.000], mean action: 2.281 [0.000, 5.000],  loss: 0.006473, mae: 0.456154, mean_q: 0.554315, mean_eps: 0.709221\n",
            "  324049/5000000: episode: 463, duration: 8.172s, episode steps: 640, steps per second:  78, episode reward:  8.000, mean reward:  0.013 [ 0.000,  1.000], mean action: 2.575 [0.000, 5.000],  loss: 0.007607, mae: 0.445578, mean_q: 0.539461, mean_eps: 0.708638\n",
            "  324646/5000000: episode: 464, duration: 6.259s, episode steps: 597, steps per second:  95, episode reward: 13.000, mean reward:  0.022 [ 0.000,  1.000], mean action: 2.745 [0.000, 5.000],  loss: 0.008378, mae: 0.465615, mean_q: 0.562523, mean_eps: 0.708087\n",
            "  325300/5000000: episode: 465, duration: 8.290s, episode steps: 654, steps per second:  79, episode reward: 15.000, mean reward:  0.023 [ 0.000,  1.000], mean action: 2.063 [0.000, 5.000],  loss: 0.005362, mae: 0.452345, mean_q: 0.551387, mean_eps: 0.707525\n",
            "  325863/5000000: episode: 466, duration: 5.953s, episode steps: 563, steps per second:  95, episode reward:  9.000, mean reward:  0.016 [ 0.000,  1.000], mean action: 2.355 [0.000, 5.000],  loss: 0.005158, mae: 0.466328, mean_q: 0.564041, mean_eps: 0.706974\n",
            "  326197/5000000: episode: 467, duration: 4.806s, episode steps: 334, steps per second:  70, episode reward:  2.000, mean reward:  0.006 [ 0.000,  1.000], mean action: 2.662 [0.000, 5.000],  loss: 0.011323, mae: 0.444441, mean_q: 0.538485, mean_eps: 0.706575\n",
            "  326895/5000000: episode: 468, duration: 7.515s, episode steps: 698, steps per second:  93, episode reward: 11.000, mean reward:  0.016 [ 0.000,  1.000], mean action: 2.781 [0.000, 5.000],  loss: 0.008104, mae: 0.447496, mean_q: 0.546159, mean_eps: 0.706110\n",
            "  327538/5000000: episode: 469, duration: 8.159s, episode steps: 643, steps per second:  79, episode reward:  8.000, mean reward:  0.012 [ 0.000,  1.000], mean action: 2.862 [0.000, 5.000],  loss: 0.007443, mae: 0.462057, mean_q: 0.560567, mean_eps: 0.705506\n",
            "  328162/5000000: episode: 470, duration: 6.750s, episode steps: 624, steps per second:  92, episode reward:  8.000, mean reward:  0.013 [ 0.000,  1.000], mean action: 2.572 [0.000, 5.000],  loss: 0.007031, mae: 0.446212, mean_q: 0.545648, mean_eps: 0.704933\n",
            "Pesos guardados en dqn_last_weights.h5 al final del episodio 470\n",
            "  328948/5000000: episode: 471, duration: 10.076s, episode steps: 786, steps per second:  78, episode reward: 10.000, mean reward:  0.013 [ 0.000,  1.000], mean action: 3.195 [0.000, 5.000],  loss: 0.011413, mae: 0.461192, mean_q: 0.563300, mean_eps: 0.704296\n",
            "  329720/5000000: episode: 472, duration: 9.467s, episode steps: 772, steps per second:  82, episode reward: 12.000, mean reward:  0.016 [ 0.000,  1.000], mean action: 2.948 [0.000, 5.000],  loss: 0.007266, mae: 0.450144, mean_q: 0.555650, mean_eps: 0.703594\n",
            "  330118/5000000: episode: 473, duration: 4.226s, episode steps: 398, steps per second:  94, episode reward:  6.000, mean reward:  0.015 [ 0.000,  1.000], mean action: 1.726 [0.000, 5.000],  loss: 0.007420, mae: 0.454828, mean_q: 0.561960, mean_eps: 0.703076\n",
            "  331197/5000000: episode: 474, duration: 12.817s, episode steps: 1079, steps per second:  84, episode reward: 17.000, mean reward:  0.016 [ 0.000,  1.000], mean action: 2.668 [0.000, 5.000],  loss: 0.007778, mae: 0.462378, mean_q: 0.559984, mean_eps: 0.702417\n",
            "  332258/5000000: episode: 475, duration: 12.835s, episode steps: 1061, steps per second:  83, episode reward: 17.000, mean reward:  0.016 [ 0.000,  1.000], mean action: 2.585 [0.000, 5.000],  loss: 0.006781, mae: 0.451856, mean_q: 0.546750, mean_eps: 0.701445\n",
            "  332894/5000000: episode: 476, duration: 7.964s, episode steps: 636, steps per second:  80, episode reward:  4.000, mean reward:  0.006 [ 0.000,  1.000], mean action: 2.503 [0.000, 5.000],  loss: 0.006750, mae: 0.477289, mean_q: 0.579580, mean_eps: 0.700678\n",
            "  333702/5000000: episode: 477, duration: 9.366s, episode steps: 808, steps per second:  86, episode reward: 19.000, mean reward:  0.024 [ 0.000,  1.000], mean action: 2.877 [0.000, 5.000],  loss: 0.006734, mae: 0.456118, mean_q: 0.553932, mean_eps: 0.700030\n",
            "  334469/5000000: episode: 478, duration: 9.064s, episode steps: 767, steps per second:  85, episode reward: 10.000, mean reward:  0.013 [ 0.000,  1.000], mean action: 2.355 [0.000, 5.000],  loss: 0.007645, mae: 0.465619, mean_q: 0.561818, mean_eps: 0.699317\n",
            "  335302/5000000: episode: 479, duration: 10.232s, episode steps: 833, steps per second:  81, episode reward: 11.000, mean reward:  0.013 [ 0.000,  1.000], mean action: 2.597 [0.000, 5.000],  loss: 0.004123, mae: 0.461169, mean_q: 0.558308, mean_eps: 0.698604\n",
            "  335821/5000000: episode: 480, duration: 5.858s, episode steps: 519, steps per second:  89, episode reward:  7.000, mean reward:  0.013 [ 0.000,  1.000], mean action: 2.432 [0.000, 5.000],  loss: 0.006959, mae: 0.451641, mean_q: 0.543716, mean_eps: 0.698000\n",
            "Pesos guardados en dqn_last_weights.h5 al final del episodio 480\n",
            "  336216/5000000: episode: 481, duration: 7.192s, episode steps: 395, steps per second:  55, episode reward:  5.000, mean reward:  0.013 [ 0.000,  1.000], mean action: 2.965 [0.000, 5.000],  loss: 0.005658, mae: 0.466924, mean_q: 0.563698, mean_eps: 0.697589\n",
            "  337026/5000000: episode: 482, duration: 9.933s, episode steps: 810, steps per second:  82, episode reward: 12.000, mean reward:  0.015 [ 0.000,  1.000], mean action: 2.946 [0.000, 5.000],  loss: 0.005019, mae: 0.455780, mean_q: 0.551028, mean_eps: 0.697049\n",
            "  337851/5000000: episode: 483, duration: 9.752s, episode steps: 825, steps per second:  85, episode reward: 11.000, mean reward:  0.013 [ 0.000,  1.000], mean action: 1.994 [0.000, 5.000],  loss: 0.008582, mae: 0.468580, mean_q: 0.573544, mean_eps: 0.696304\n",
            "  338955/5000000: episode: 484, duration: 13.053s, episode steps: 1104, steps per second:  85, episode reward: 15.000, mean reward:  0.014 [ 0.000,  1.000], mean action: 3.053 [0.000, 5.000],  loss: 0.006876, mae: 0.461725, mean_q: 0.557895, mean_eps: 0.695429\n",
            "  339704/5000000: episode: 485, duration: 8.716s, episode steps: 749, steps per second:  86, episode reward:  7.000, mean reward:  0.009 [ 0.000,  1.000], mean action: 2.263 [0.000, 5.000],  loss: 0.007536, mae: 0.448769, mean_q: 0.543674, mean_eps: 0.694598\n",
            "  340724/5000000: episode: 486, duration: 12.090s, episode steps: 1020, steps per second:  84, episode reward: 21.000, mean reward:  0.021 [ 0.000,  1.000], mean action: 2.687 [0.000, 5.000],  loss: 0.006666, mae: 0.463525, mean_q: 0.559205, mean_eps: 0.693809\n",
            "  341266/5000000: episode: 487, duration: 7.144s, episode steps: 542, steps per second:  76, episode reward:  5.000, mean reward:  0.009 [ 0.000,  1.000], mean action: 2.044 [0.000, 5.000],  loss: 0.006210, mae: 0.472299, mean_q: 0.570563, mean_eps: 0.693107\n",
            "  342047/5000000: episode: 488, duration: 8.344s, episode steps: 781, steps per second:  94, episode reward:  9.000, mean reward:  0.012 [ 0.000,  1.000], mean action: 2.876 [0.000, 5.000],  loss: 0.005036, mae: 0.475265, mean_q: 0.576167, mean_eps: 0.692513\n",
            "  342900/5000000: episode: 489, duration: 10.488s, episode steps: 853, steps per second:  81, episode reward: 20.000, mean reward:  0.023 [ 0.000,  1.000], mean action: 2.047 [0.000, 5.000],  loss: 0.007400, mae: 0.462500, mean_q: 0.566974, mean_eps: 0.691779\n",
            "  343762/5000000: episode: 490, duration: 10.570s, episode steps: 862, steps per second:  82, episode reward: 12.000, mean reward:  0.014 [ 0.000,  1.000], mean action: 2.758 [0.000, 5.000],  loss: 0.008539, mae: 0.468138, mean_q: 0.571325, mean_eps: 0.691001\n",
            "Pesos guardados en dqn_last_weights.h5 al final del episodio 490\n",
            "  344462/5000000: episode: 491, duration: 9.038s, episode steps: 700, steps per second:  77, episode reward:  6.000, mean reward:  0.009 [ 0.000,  1.000], mean action: 2.537 [0.000, 5.000],  loss: 0.007973, mae: 0.469597, mean_q: 0.571233, mean_eps: 0.690299\n",
            "  344963/5000000: episode: 492, duration: 5.432s, episode steps: 501, steps per second:  92, episode reward:  6.000, mean reward:  0.012 [ 0.000,  1.000], mean action: 2.291 [0.000, 5.000],  loss: 0.006608, mae: 0.464019, mean_q: 0.563431, mean_eps: 0.689759\n",
            "  345889/5000000: episode: 493, duration: 11.178s, episode steps: 926, steps per second:  83, episode reward: 16.000, mean reward:  0.017 [ 0.000,  1.000], mean action: 2.684 [0.000, 5.000],  loss: 0.008033, mae: 0.468391, mean_q: 0.566694, mean_eps: 0.689111\n",
            "  346312/5000000: episode: 494, duration: 4.497s, episode steps: 423, steps per second:  94, episode reward:  7.000, mean reward:  0.017 [ 0.000,  1.000], mean action: 2.310 [0.000, 5.000],  loss: 0.007126, mae: 0.470712, mean_q: 0.574412, mean_eps: 0.688506\n",
            "  346984/5000000: episode: 495, duration: 8.485s, episode steps: 672, steps per second:  79, episode reward:  6.000, mean reward:  0.009 [ 0.000,  1.000], mean action: 2.168 [0.000, 5.000],  loss: 0.006823, mae: 0.468309, mean_q: 0.569278, mean_eps: 0.688020\n",
            "  347433/5000000: episode: 496, duration: 4.914s, episode steps: 449, steps per second:  91, episode reward: 10.000, mean reward:  0.022 [ 0.000,  1.000], mean action: 2.450 [0.000, 5.000],  loss: 0.005320, mae: 0.453378, mean_q: 0.549370, mean_eps: 0.687513\n",
            "  347984/5000000: episode: 497, duration: 7.106s, episode steps: 551, steps per second:  78, episode reward: 10.000, mean reward:  0.018 [ 0.000,  1.000], mean action: 2.343 [0.000, 5.000],  loss: 0.006420, mae: 0.470702, mean_q: 0.569322, mean_eps: 0.687059\n",
            "  348826/5000000: episode: 498, duration: 10.231s, episode steps: 842, steps per second:  82, episode reward: 19.000, mean reward:  0.023 [ 0.000,  1.000], mean action: 2.432 [0.000, 5.000],  loss: 0.006819, mae: 0.478404, mean_q: 0.577619, mean_eps: 0.686433\n",
            "  349377/5000000: episode: 499, duration: 5.965s, episode steps: 551, steps per second:  92, episode reward:  6.000, mean reward:  0.011 [ 0.000,  1.000], mean action: 2.936 [0.000, 5.000],  loss: 0.005454, mae: 0.480227, mean_q: 0.583100, mean_eps: 0.685806\n",
            "  349900/5000000: episode: 500, duration: 6.858s, episode steps: 523, steps per second:  76, episode reward:  6.000, mean reward:  0.011 [ 0.000,  1.000], mean action: 2.262 [0.000, 5.000],  loss: 0.004643, mae: 0.469174, mean_q: 0.568814, mean_eps: 0.685320\n",
            "Pesos guardados en dqn_last_weights.h5 al final del episodio 500\n",
            "  350591/5000000: episode: 501, duration: 7.767s, episode steps: 691, steps per second:  89, episode reward:  7.000, mean reward:  0.010 [ 0.000,  1.000], mean action: 2.151 [0.000, 5.000],  loss: 0.005813, mae: 0.464099, mean_q: 0.562461, mean_eps: 0.684780\n",
            "  351379/5000000: episode: 502, duration: 9.763s, episode steps: 788, steps per second:  81, episode reward: 15.000, mean reward:  0.019 [ 0.000,  1.000], mean action: 2.334 [0.000, 5.000],  loss: 0.008008, mae: 0.460655, mean_q: 0.554480, mean_eps: 0.684122\n",
            "  352196/5000000: episode: 503, duration: 9.972s, episode steps: 817, steps per second:  82, episode reward: 17.000, mean reward:  0.021 [ 0.000,  1.000], mean action: 2.455 [0.000, 5.000],  loss: 0.004609, mae: 0.465211, mean_q: 0.561008, mean_eps: 0.683398\n",
            "  352806/5000000: episode: 504, duration: 6.662s, episode steps: 610, steps per second:  92, episode reward: 11.000, mean reward:  0.018 [ 0.000,  1.000], mean action: 2.136 [0.000, 5.000],  loss: 0.006461, mae: 0.459650, mean_q: 0.555850, mean_eps: 0.682750\n",
            "  353465/5000000: episode: 505, duration: 8.259s, episode steps: 659, steps per second:  80, episode reward: 10.000, mean reward:  0.015 [ 0.000,  1.000], mean action: 2.384 [0.000, 5.000],  loss: 0.004756, mae: 0.467047, mean_q: 0.566539, mean_eps: 0.682178\n",
            "  354452/5000000: episode: 506, duration: 11.769s, episode steps: 987, steps per second:  84, episode reward: 17.000, mean reward:  0.017 [ 0.000,  1.000], mean action: 2.902 [0.000, 5.000],  loss: 0.007166, mae: 0.460590, mean_q: 0.560968, mean_eps: 0.681443\n",
            "  355103/5000000: episode: 507, duration: 6.979s, episode steps: 651, steps per second:  93, episode reward: 11.000, mean reward:  0.017 [ 0.000,  1.000], mean action: 2.704 [0.000, 5.000],  loss: 0.007864, mae: 0.470713, mean_q: 0.570644, mean_eps: 0.680709\n",
            "  355744/5000000: episode: 508, duration: 8.098s, episode steps: 641, steps per second:  79, episode reward:  6.000, mean reward:  0.009 [ 0.000,  1.000], mean action: 2.883 [0.000, 5.000],  loss: 0.005911, mae: 0.452714, mean_q: 0.550285, mean_eps: 0.680126\n",
            "  356666/5000000: episode: 509, duration: 11.158s, episode steps: 922, steps per second:  83, episode reward: 15.000, mean reward:  0.016 [ 0.000,  1.000], mean action: 2.903 [0.000, 5.000],  loss: 0.006923, mae: 0.470122, mean_q: 0.573670, mean_eps: 0.679413\n",
            "  357590/5000000: episode: 510, duration: 11.058s, episode steps: 924, steps per second:  84, episode reward: 12.000, mean reward:  0.013 [ 0.000,  1.000], mean action: 3.168 [0.000, 5.000],  loss: 0.008549, mae: 0.462752, mean_q: 0.562170, mean_eps: 0.678581\n",
            "Pesos guardados en dqn_last_weights.h5 al final del episodio 510\n",
            "  358403/5000000: episode: 511, duration: 9.305s, episode steps: 813, steps per second:  87, episode reward:  9.000, mean reward:  0.011 [ 0.000,  1.000], mean action: 2.617 [0.000, 5.000],  loss: 0.006158, mae: 0.474500, mean_q: 0.575468, mean_eps: 0.677804\n",
            "  359262/5000000: episode: 512, duration: 10.367s, episode steps: 859, steps per second:  83, episode reward: 11.000, mean reward:  0.013 [ 0.000,  1.000], mean action: 2.453 [0.000, 5.000],  loss: 0.008786, mae: 0.470667, mean_q: 0.571479, mean_eps: 0.677048\n",
            "  360057/5000000: episode: 513, duration: 9.875s, episode steps: 795, steps per second:  81, episode reward: 11.000, mean reward:  0.014 [ 0.000,  1.000], mean action: 2.252 [0.000, 5.000],  loss: 0.007555, mae: 0.468050, mean_q: 0.572579, mean_eps: 0.676302\n",
            "  360859/5000000: episode: 514, duration: 9.825s, episode steps: 802, steps per second:  82, episode reward: 12.000, mean reward:  0.015 [ 0.000,  1.000], mean action: 2.621 [0.000, 5.000],  loss: 0.007626, mae: 0.483705, mean_q: 0.584213, mean_eps: 0.675590\n",
            "  361789/5000000: episode: 515, duration: 11.069s, episode steps: 930, steps per second:  84, episode reward: 16.000, mean reward:  0.017 [ 0.000,  1.000], mean action: 2.430 [0.000, 5.000],  loss: 0.007337, mae: 0.466242, mean_q: 0.563610, mean_eps: 0.674812\n",
            "  362491/5000000: episode: 516, duration: 7.769s, episode steps: 702, steps per second:  90, episode reward: 11.000, mean reward:  0.016 [ 0.000,  1.000], mean action: 2.061 [0.000, 5.000],  loss: 0.010350, mae: 0.488907, mean_q: 0.593282, mean_eps: 0.674078\n",
            "  363584/5000000: episode: 517, duration: 12.983s, episode steps: 1093, steps per second:  84, episode reward: 16.000, mean reward:  0.015 [ 0.000,  1.000], mean action: 2.666 [0.000, 5.000],  loss: 0.008997, mae: 0.461211, mean_q: 0.561629, mean_eps: 0.673268\n",
            "  364201/5000000: episode: 518, duration: 7.926s, episode steps: 617, steps per second:  78, episode reward:  6.000, mean reward:  0.010 [ 0.000,  1.000], mean action: 2.548 [0.000, 5.000],  loss: 0.009936, mae: 0.469038, mean_q: 0.570825, mean_eps: 0.672490\n",
            "  364827/5000000: episode: 519, duration: 6.787s, episode steps: 626, steps per second:  92, episode reward:  7.000, mean reward:  0.011 [ 0.000,  1.000], mean action: 2.064 [0.000, 5.000],  loss: 0.006234, mae: 0.463369, mean_q: 0.567536, mean_eps: 0.671928\n",
            "  365190/5000000: episode: 520, duration: 5.083s, episode steps: 363, steps per second:  71, episode reward:  6.000, mean reward:  0.017 [ 0.000,  1.000], mean action: 2.570 [0.000, 5.000],  loss: 0.003351, mae: 0.465754, mean_q: 0.570330, mean_eps: 0.671486\n",
            "Pesos guardados en dqn_last_weights.h5 al final del episodio 520\n",
            "  366306/5000000: episode: 521, duration: 13.667s, episode steps: 1116, steps per second:  82, episode reward: 16.000, mean reward:  0.014 [ 0.000,  1.000], mean action: 2.371 [0.000, 5.000],  loss: 0.006022, mae: 0.458939, mean_q: 0.553187, mean_eps: 0.670827\n",
            "  366985/5000000: episode: 522, duration: 7.390s, episode steps: 679, steps per second:  92, episode reward:  9.000, mean reward:  0.013 [ 0.000,  1.000], mean action: 2.539 [0.000, 5.000],  loss: 0.008046, mae: 0.471545, mean_q: 0.568315, mean_eps: 0.670017\n",
            "  367720/5000000: episode: 523, duration: 9.034s, episode steps: 735, steps per second:  81, episode reward: 16.000, mean reward:  0.022 [ 0.000,  1.000], mean action: 2.669 [0.000, 5.000],  loss: 0.009232, mae: 0.463922, mean_q: 0.558983, mean_eps: 0.669380\n",
            "  368045/5000000: episode: 524, duration: 3.608s, episode steps: 325, steps per second:  90, episode reward:  2.000, mean reward:  0.006 [ 0.000,  1.000], mean action: 2.465 [0.000, 5.000],  loss: 0.005887, mae: 0.464090, mean_q: 0.562425, mean_eps: 0.668904\n",
            "  369106/5000000: episode: 525, duration: 12.622s, episode steps: 1061, steps per second:  84, episode reward: 19.000, mean reward:  0.018 [ 0.000,  1.000], mean action: 2.626 [0.000, 5.000],  loss: 0.009536, mae: 0.461247, mean_q: 0.558344, mean_eps: 0.668278\n",
            "  369785/5000000: episode: 526, duration: 8.478s, episode steps: 679, steps per second:  80, episode reward:  9.000, mean reward:  0.013 [ 0.000,  1.000], mean action: 2.841 [0.000, 5.000],  loss: 0.005321, mae: 0.449880, mean_q: 0.546973, mean_eps: 0.667500\n",
            "  370801/5000000: episode: 527, duration: 12.204s, episode steps: 1016, steps per second:  83, episode reward: 18.000, mean reward:  0.018 [ 0.000,  1.000], mean action: 2.415 [0.000, 5.000],  loss: 0.007921, mae: 0.495742, mean_q: 0.604497, mean_eps: 0.666734\n",
            "  371573/5000000: episode: 528, duration: 9.416s, episode steps: 772, steps per second:  82, episode reward: 10.000, mean reward:  0.013 [ 0.000,  1.000], mean action: 2.255 [0.000, 5.000],  loss: 0.008636, mae: 0.480071, mean_q: 0.582062, mean_eps: 0.665924\n",
            "  372373/5000000: episode: 529, duration: 8.724s, episode steps: 800, steps per second:  92, episode reward: 12.000, mean reward:  0.015 [ 0.000,  1.000], mean action: 2.575 [0.000, 5.000],  loss: 0.004619, mae: 0.483284, mean_q: 0.585020, mean_eps: 0.665222\n",
            "  373088/5000000: episode: 530, duration: 8.953s, episode steps: 715, steps per second:  80, episode reward:  8.000, mean reward:  0.011 [ 0.000,  1.000], mean action: 3.189 [0.000, 5.000],  loss: 0.005585, mae: 0.478992, mean_q: 0.583633, mean_eps: 0.664541\n",
            "Pesos guardados en dqn_last_weights.h5 al final del episodio 530\n",
            "  373587/5000000: episode: 531, duration: 5.892s, episode steps: 499, steps per second:  85, episode reward: 12.000, mean reward:  0.024 [ 0.000,  1.000], mean action: 2.876 [0.000, 5.000],  loss: 0.008627, mae: 0.488382, mean_q: 0.593902, mean_eps: 0.663990\n",
            "  374104/5000000: episode: 532, duration: 6.439s, episode steps: 517, steps per second:  80, episode reward:  7.000, mean reward:  0.014 [ 0.000,  1.000], mean action: 2.716 [0.000, 5.000],  loss: 0.007635, mae: 0.498851, mean_q: 0.602063, mean_eps: 0.663537\n",
            "  374517/5000000: episode: 533, duration: 4.473s, episode steps: 413, steps per second:  92, episode reward:  4.000, mean reward:  0.010 [ 0.000,  1.000], mean action: 2.257 [0.000, 5.000],  loss: 0.010475, mae: 0.511170, mean_q: 0.618220, mean_eps: 0.663126\n",
            "  375101/5000000: episode: 534, duration: 7.695s, episode steps: 584, steps per second:  76, episode reward: 10.000, mean reward:  0.017 [ 0.000,  1.000], mean action: 2.587 [0.000, 5.000],  loss: 0.010296, mae: 0.492229, mean_q: 0.602084, mean_eps: 0.662673\n",
            "  375780/5000000: episode: 535, duration: 7.695s, episode steps: 679, steps per second:  88, episode reward: 13.000, mean reward:  0.019 [ 0.000,  1.000], mean action: 2.479 [0.000, 5.000],  loss: 0.005032, mae: 0.496299, mean_q: 0.606795, mean_eps: 0.662100\n",
            "  376554/5000000: episode: 536, duration: 9.090s, episode steps: 774, steps per second:  85, episode reward:  9.000, mean reward:  0.012 [ 0.000,  1.000], mean action: 2.550 [0.000, 5.000],  loss: 0.009275, mae: 0.502038, mean_q: 0.604991, mean_eps: 0.661452\n",
            "  377180/5000000: episode: 537, duration: 7.983s, episode steps: 626, steps per second:  78, episode reward: 12.000, mean reward:  0.019 [ 0.000,  1.000], mean action: 2.371 [0.000, 5.000],  loss: 0.007250, mae: 0.480888, mean_q: 0.588406, mean_eps: 0.660826\n",
            "  377525/5000000: episode: 538, duration: 3.887s, episode steps: 345, steps per second:  89, episode reward:  3.000, mean reward:  0.009 [ 0.000,  1.000], mean action: 2.400 [0.000, 5.000],  loss: 0.011907, mae: 0.521594, mean_q: 0.632759, mean_eps: 0.660383\n",
            "  378443/5000000: episode: 539, duration: 11.074s, episode steps: 918, steps per second:  83, episode reward: 24.000, mean reward:  0.026 [ 0.000,  1.000], mean action: 2.102 [0.000, 5.000],  loss: 0.007803, mae: 0.498602, mean_q: 0.609837, mean_eps: 0.659811\n",
            "  378928/5000000: episode: 540, duration: 5.318s, episode steps: 485, steps per second:  91, episode reward:  3.000, mean reward:  0.006 [ 0.000,  1.000], mean action: 2.810 [0.000, 5.000],  loss: 0.005863, mae: 0.465091, mean_q: 0.568480, mean_eps: 0.659184\n",
            "Pesos guardados en dqn_last_weights.h5 al final del episodio 540\n",
            "  379751/5000000: episode: 541, duration: 10.510s, episode steps: 823, steps per second:  78, episode reward: 15.000, mean reward:  0.018 [ 0.000,  1.000], mean action: 2.729 [0.000, 5.000],  loss: 0.006139, mae: 0.485982, mean_q: 0.592046, mean_eps: 0.658601\n",
            "  380607/5000000: episode: 542, duration: 10.510s, episode steps: 856, steps per second:  81, episode reward: 19.000, mean reward:  0.022 [ 0.000,  1.000], mean action: 2.488 [0.000, 5.000],  loss: 0.009281, mae: 0.505552, mean_q: 0.610459, mean_eps: 0.657845\n",
            "  381403/5000000: episode: 543, duration: 9.739s, episode steps: 796, steps per second:  82, episode reward: 10.000, mean reward:  0.013 [ 0.000,  1.000], mean action: 1.980 [0.000, 5.000],  loss: 0.007476, mae: 0.504126, mean_q: 0.616537, mean_eps: 0.657100\n",
            "  382335/5000000: episode: 544, duration: 11.080s, episode steps: 932, steps per second:  84, episode reward: 13.000, mean reward:  0.014 [ 0.000,  1.000], mean action: 2.444 [0.000, 5.000],  loss: 0.005503, mae: 0.482446, mean_q: 0.587088, mean_eps: 0.656322\n",
            "  382662/5000000: episode: 545, duration: 3.816s, episode steps: 327, steps per second:  86, episode reward:  2.000, mean reward:  0.006 [ 0.000,  1.000], mean action: 2.021 [0.000, 5.000],  loss: 0.009579, mae: 0.523050, mean_q: 0.632630, mean_eps: 0.655750\n",
            "  383300/5000000: episode: 546, duration: 6.876s, episode steps: 638, steps per second:  93, episode reward:  8.000, mean reward:  0.013 [ 0.000,  1.000], mean action: 3.163 [0.000, 5.000],  loss: 0.008831, mae: 0.512631, mean_q: 0.624747, mean_eps: 0.655318\n",
            "  384163/5000000: episode: 547, duration: 10.443s, episode steps: 863, steps per second:  83, episode reward: 13.000, mean reward:  0.015 [ 0.000,  1.000], mean action: 3.256 [0.000, 5.000],  loss: 0.010375, mae: 0.501767, mean_q: 0.606133, mean_eps: 0.654648\n",
            "  384689/5000000: episode: 548, duration: 6.898s, episode steps: 526, steps per second:  76, episode reward:  5.000, mean reward:  0.010 [ 0.000,  1.000], mean action: 2.909 [0.000, 5.000],  loss: 0.007322, mae: 0.494352, mean_q: 0.599274, mean_eps: 0.654022\n",
            "  385490/5000000: episode: 549, duration: 9.076s, episode steps: 801, steps per second:  88, episode reward: 14.000, mean reward:  0.017 [ 0.000,  1.000], mean action: 2.629 [0.000, 5.000],  loss: 0.006734, mae: 0.486424, mean_q: 0.589260, mean_eps: 0.653417\n",
            "  385904/5000000: episode: 550, duration: 5.351s, episode steps: 414, steps per second:  77, episode reward:  5.000, mean reward:  0.012 [ 0.000,  1.000], mean action: 2.744 [0.000, 5.000],  loss: 0.003732, mae: 0.497248, mean_q: 0.601478, mean_eps: 0.652866\n",
            "Pesos guardados en dqn_last_weights.h5 al final del episodio 550\n",
            "  386621/5000000: episode: 551, duration: 9.076s, episode steps: 717, steps per second:  79, episode reward: 16.000, mean reward:  0.022 [ 0.000,  1.000], mean action: 2.607 [0.000, 5.000],  loss: 0.005405, mae: 0.490394, mean_q: 0.595447, mean_eps: 0.652359\n",
            "  387160/5000000: episode: 552, duration: 6.037s, episode steps: 539, steps per second:  89, episode reward:  5.000, mean reward:  0.009 [ 0.000,  1.000], mean action: 2.186 [0.000, 5.000],  loss: 0.003325, mae: 0.476553, mean_q: 0.576203, mean_eps: 0.651797\n",
            "  387981/5000000: episode: 553, duration: 10.067s, episode steps: 821, steps per second:  82, episode reward: 10.000, mean reward:  0.012 [ 0.000,  1.000], mean action: 2.181 [0.000, 5.000],  loss: 0.007975, mae: 0.498784, mean_q: 0.601452, mean_eps: 0.651192\n",
            "  388653/5000000: episode: 554, duration: 7.260s, episode steps: 672, steps per second:  93, episode reward:  8.000, mean reward:  0.012 [ 0.000,  1.000], mean action: 1.929 [0.000, 5.000],  loss: 0.005451, mae: 0.500091, mean_q: 0.606762, mean_eps: 0.650523\n",
            "  389231/5000000: episode: 555, duration: 7.433s, episode steps: 578, steps per second:  78, episode reward:  9.000, mean reward:  0.016 [ 0.000,  1.000], mean action: 2.353 [0.000, 5.000],  loss: 0.007045, mae: 0.500807, mean_q: 0.602908, mean_eps: 0.649961\n",
            "  389693/5000000: episode: 556, duration: 5.180s, episode steps: 462, steps per second:  89, episode reward:  8.000, mean reward:  0.017 [ 0.000,  1.000], mean action: 2.260 [0.000, 5.000],  loss: 0.008194, mae: 0.494783, mean_q: 0.598937, mean_eps: 0.649486\n",
            "  390387/5000000: episode: 557, duration: 8.732s, episode steps: 694, steps per second:  79, episode reward: 15.000, mean reward:  0.022 [ 0.000,  1.000], mean action: 2.153 [0.000, 5.000],  loss: 0.007405, mae: 0.493535, mean_q: 0.595925, mean_eps: 0.648957\n",
            "  391191/5000000: episode: 558, duration: 9.811s, episode steps: 804, steps per second:  82, episode reward:  8.000, mean reward:  0.010 [ 0.000,  1.000], mean action: 2.698 [0.000, 5.000],  loss: 0.010684, mae: 0.495822, mean_q: 0.598613, mean_eps: 0.648287\n",
            "  391701/5000000: episode: 559, duration: 5.488s, episode steps: 510, steps per second:  93, episode reward:  3.000, mean reward:  0.006 [ 0.000,  1.000], mean action: 3.100 [0.000, 5.000],  loss: 0.005639, mae: 0.469108, mean_q: 0.566752, mean_eps: 0.647704\n",
            "  392141/5000000: episode: 560, duration: 6.101s, episode steps: 440, steps per second:  72, episode reward:  6.000, mean reward:  0.014 [ 0.000,  1.000], mean action: 2.484 [0.000, 5.000],  loss: 0.005851, mae: 0.484968, mean_q: 0.587851, mean_eps: 0.647272\n",
            "Pesos guardados en dqn_last_weights.h5 al final del episodio 560\n",
            "  392969/5000000: episode: 561, duration: 9.349s, episode steps: 828, steps per second:  89, episode reward: 12.000, mean reward:  0.014 [ 0.000,  1.000], mean action: 1.837 [0.000, 5.000],  loss: 0.006765, mae: 0.481207, mean_q: 0.583550, mean_eps: 0.646700\n",
            "  393673/5000000: episode: 562, duration: 8.860s, episode steps: 704, steps per second:  79, episode reward:  9.000, mean reward:  0.013 [ 0.000,  1.000], mean action: 1.935 [0.000, 5.000],  loss: 0.005791, mae: 0.493058, mean_q: 0.600741, mean_eps: 0.646008\n",
            "  394134/5000000: episode: 563, duration: 5.739s, episode steps: 461, steps per second:  80, episode reward:  8.000, mean reward:  0.017 [ 0.000,  1.000], mean action: 2.482 [0.000, 5.000],  loss: 0.005925, mae: 0.479268, mean_q: 0.578738, mean_eps: 0.645479\n",
            "  394953/5000000: episode: 564, duration: 9.281s, episode steps: 819, steps per second:  88, episode reward: 11.000, mean reward:  0.013 [ 0.000,  1.000], mean action: 2.998 [0.000, 5.000],  loss: 0.006489, mae: 0.493312, mean_q: 0.595412, mean_eps: 0.644907\n",
            "  395823/5000000: episode: 565, duration: 10.618s, episode steps: 870, steps per second:  82, episode reward: 13.000, mean reward:  0.015 [ 0.000,  1.000], mean action: 2.291 [0.000, 5.000],  loss: 0.008008, mae: 0.501017, mean_q: 0.602466, mean_eps: 0.644151\n",
            "  396302/5000000: episode: 566, duration: 5.894s, episode steps: 479, steps per second:  81, episode reward:  6.000, mean reward:  0.013 [ 0.000,  1.000], mean action: 1.921 [0.000, 5.000],  loss: 0.003901, mae: 0.479993, mean_q: 0.580207, mean_eps: 0.643546\n",
            "  397261/5000000: episode: 567, duration: 10.881s, episode steps: 959, steps per second:  88, episode reward: 21.000, mean reward:  0.022 [ 0.000,  1.000], mean action: 2.039 [0.000, 5.000],  loss: 0.006633, mae: 0.496614, mean_q: 0.606878, mean_eps: 0.642898\n",
            "  398291/5000000: episode: 568, duration: 12.423s, episode steps: 1030, steps per second:  83, episode reward: 11.000, mean reward:  0.011 [ 0.000,  1.000], mean action: 2.396 [0.000, 5.000],  loss: 0.007568, mae: 0.489749, mean_q: 0.592590, mean_eps: 0.642002\n",
            "  398863/5000000: episode: 569, duration: 7.447s, episode steps: 572, steps per second:  77, episode reward:  9.000, mean reward:  0.016 [ 0.000,  1.000], mean action: 2.503 [0.000, 5.000],  loss: 0.007371, mae: 0.482995, mean_q: 0.585005, mean_eps: 0.641278\n",
            "  399301/5000000: episode: 570, duration: 4.711s, episode steps: 438, steps per second:  93, episode reward:  8.000, mean reward:  0.018 [ 0.000,  1.000], mean action: 3.253 [0.000, 5.000],  loss: 0.007411, mae: 0.489665, mean_q: 0.591454, mean_eps: 0.640824\n",
            "Pesos guardados en dqn_last_weights.h5 al final del episodio 570\n",
            "  399946/5000000: episode: 571, duration: 8.703s, episode steps: 645, steps per second:  74, episode reward: 12.000, mean reward:  0.019 [ 0.000,  1.000], mean action: 3.048 [0.000, 5.000],  loss: 0.006611, mae: 0.491269, mean_q: 0.594002, mean_eps: 0.640338\n",
            "  400724/5000000: episode: 572, duration: 9.586s, episode steps: 778, steps per second:  81, episode reward: 10.000, mean reward:  0.013 [ 0.000,  1.000], mean action: 2.792 [0.000, 5.000],  loss: 0.007852, mae: 0.495281, mean_q: 0.598590, mean_eps: 0.639701\n",
            "  401432/5000000: episode: 573, duration: 7.814s, episode steps: 708, steps per second:  91, episode reward: 10.000, mean reward:  0.014 [ 0.000,  1.000], mean action: 2.186 [0.000, 5.000],  loss: 0.009366, mae: 0.515214, mean_q: 0.624293, mean_eps: 0.639032\n",
            "  401950/5000000: episode: 574, duration: 6.741s, episode steps: 518, steps per second:  77, episode reward:  5.000, mean reward:  0.010 [ 0.000,  1.000], mean action: 2.153 [0.000, 5.000],  loss: 0.007720, mae: 0.491380, mean_q: 0.596369, mean_eps: 0.638481\n",
            "  403129/5000000: episode: 575, duration: 14.279s, episode steps: 1179, steps per second:  83, episode reward: 22.000, mean reward:  0.019 [ 0.000,  1.000], mean action: 2.495 [0.000, 5.000],  loss: 0.006630, mae: 0.501715, mean_q: 0.609031, mean_eps: 0.637714\n",
            "  404063/5000000: episode: 576, duration: 11.304s, episode steps: 934, steps per second:  83, episode reward: 11.000, mean reward:  0.012 [ 0.000,  1.000], mean action: 2.252 [0.000, 5.000],  loss: 0.009016, mae: 0.490027, mean_q: 0.594866, mean_eps: 0.636764\n",
            "  404720/5000000: episode: 577, duration: 7.338s, episode steps: 657, steps per second:  90, episode reward:  7.000, mean reward:  0.011 [ 0.000,  1.000], mean action: 2.099 [0.000, 5.000],  loss: 0.005180, mae: 0.493822, mean_q: 0.597471, mean_eps: 0.636051\n",
            "  406111/5000000: episode: 578, duration: 17.693s, episode steps: 1391, steps per second:  79, episode reward: 32.000, mean reward:  0.023 [ 0.000,  1.000], mean action: 2.411 [0.000, 5.000],  loss: 0.006470, mae: 0.486182, mean_q: 0.589241, mean_eps: 0.635122\n",
            "  406806/5000000: episode: 579, duration: 7.649s, episode steps: 695, steps per second:  91, episode reward: 10.000, mean reward:  0.014 [ 0.000,  1.000], mean action: 2.630 [0.000, 5.000],  loss: 0.010741, mae: 0.507447, mean_q: 0.614642, mean_eps: 0.634182\n",
            "  407607/5000000: episode: 580, duration: 9.973s, episode steps: 801, steps per second:  80, episode reward:  9.000, mean reward:  0.011 [ 0.000,  1.000], mean action: 1.718 [0.000, 5.000],  loss: 0.007568, mae: 0.496614, mean_q: 0.612075, mean_eps: 0.633513\n",
            "Pesos guardados en dqn_last_weights.h5 al final del episodio 580\n",
            "  408546/5000000: episode: 581, duration: 11.957s, episode steps: 939, steps per second:  79, episode reward: 13.000, mean reward:  0.014 [ 0.000,  1.000], mean action: 2.193 [0.000, 5.000],  loss: 0.006205, mae: 0.494852, mean_q: 0.596941, mean_eps: 0.632735\n",
            "  409475/5000000: episode: 582, duration: 11.576s, episode steps: 929, steps per second:  80, episode reward: 15.000, mean reward:  0.016 [ 0.000,  1.000], mean action: 2.341 [0.000, 5.000],  loss: 0.010133, mae: 0.505623, mean_q: 0.605253, mean_eps: 0.631893\n",
            "  409943/5000000: episode: 583, duration: 5.200s, episode steps: 468, steps per second:  90, episode reward:  8.000, mean reward:  0.017 [ 0.000,  1.000], mean action: 2.650 [0.000, 5.000],  loss: 0.003958, mae: 0.491999, mean_q: 0.591578, mean_eps: 0.631266\n",
            "  410496/5000000: episode: 584, duration: 7.463s, episode steps: 553, steps per second:  74, episode reward:  6.000, mean reward:  0.011 [ 0.000,  1.000], mean action: 2.278 [0.000, 5.000],  loss: 0.010657, mae: 0.509423, mean_q: 0.612878, mean_eps: 0.630813\n",
            "  412071/5000000: episode: 585, duration: 18.610s, episode steps: 1575, steps per second:  85, episode reward: 27.000, mean reward:  0.017 [ 0.000,  1.000], mean action: 2.443 [0.000, 5.000],  loss: 0.007382, mae: 0.490633, mean_q: 0.592957, mean_eps: 0.629852\n",
            "  412887/5000000: episode: 586, duration: 10.338s, episode steps: 816, steps per second:  79, episode reward: 12.000, mean reward:  0.015 [ 0.000,  1.000], mean action: 2.681 [0.000, 5.000],  loss: 0.008453, mae: 0.497605, mean_q: 0.604760, mean_eps: 0.628772\n",
            "  413721/5000000: episode: 587, duration: 10.481s, episode steps: 834, steps per second:  80, episode reward: 12.000, mean reward:  0.014 [ 0.000,  1.000], mean action: 2.655 [0.000, 5.000],  loss: 0.005695, mae: 0.483365, mean_q: 0.590997, mean_eps: 0.628026\n",
            "  414948/5000000: episode: 588, duration: 14.721s, episode steps: 1227, steps per second:  83, episode reward: 26.000, mean reward:  0.021 [ 0.000,  1.000], mean action: 2.460 [0.000, 5.000],  loss: 0.007008, mae: 0.489175, mean_q: 0.591641, mean_eps: 0.627098\n",
            "  415587/5000000: episode: 589, duration: 8.275s, episode steps: 639, steps per second:  77, episode reward: 11.000, mean reward:  0.017 [ 0.000,  1.000], mean action: 3.009 [0.000, 5.000],  loss: 0.009926, mae: 0.486012, mean_q: 0.589983, mean_eps: 0.626255\n",
            "  416315/5000000: episode: 590, duration: 7.912s, episode steps: 728, steps per second:  92, episode reward:  7.000, mean reward:  0.010 [ 0.000,  1.000], mean action: 2.018 [0.000, 5.000],  loss: 0.005413, mae: 0.481099, mean_q: 0.584022, mean_eps: 0.625640\n",
            "Pesos guardados en dqn_last_weights.h5 al final del episodio 590\n",
            "  416834/5000000: episode: 591, duration: 7.435s, episode steps: 519, steps per second:  70, episode reward:  5.000, mean reward:  0.010 [ 0.000,  1.000], mean action: 2.561 [0.000, 5.000],  loss: 0.007409, mae: 0.484869, mean_q: 0.586553, mean_eps: 0.625078\n",
            "  417763/5000000: episode: 592, duration: 11.266s, episode steps: 929, steps per second:  82, episode reward: 15.000, mean reward:  0.016 [ 0.000,  1.000], mean action: 2.815 [0.000, 5.000],  loss: 0.006457, mae: 0.492692, mean_q: 0.595962, mean_eps: 0.624430\n",
            "  418583/5000000: episode: 593, duration: 9.145s, episode steps: 820, steps per second:  90, episode reward: 11.000, mean reward:  0.013 [ 0.000,  1.000], mean action: 2.527 [0.000, 5.000],  loss: 0.009998, mae: 0.487964, mean_q: 0.587702, mean_eps: 0.623652\n",
            "  419289/5000000: episode: 594, duration: 8.923s, episode steps: 706, steps per second:  79, episode reward:  9.000, mean reward:  0.013 [ 0.000,  1.000], mean action: 2.558 [0.000, 5.000],  loss: 0.005722, mae: 0.487230, mean_q: 0.588451, mean_eps: 0.622961\n",
            "  419960/5000000: episode: 595, duration: 8.518s, episode steps: 671, steps per second:  79, episode reward: 11.000, mean reward:  0.016 [ 0.000,  1.000], mean action: 2.447 [0.000, 5.000],  loss: 0.007235, mae: 0.483199, mean_q: 0.586850, mean_eps: 0.622335\n",
            "  420517/5000000: episode: 596, duration: 6.120s, episode steps: 557, steps per second:  91, episode reward: 12.000, mean reward:  0.022 [ 0.000,  1.000], mean action: 2.454 [0.000, 5.000],  loss: 0.006727, mae: 0.499460, mean_q: 0.603754, mean_eps: 0.621784\n",
            "  421196/5000000: episode: 597, duration: 8.638s, episode steps: 679, steps per second:  79, episode reward: 14.000, mean reward:  0.021 [ 0.000,  1.000], mean action: 2.477 [0.000, 5.000],  loss: 0.007194, mae: 0.516765, mean_q: 0.622785, mean_eps: 0.621233\n",
            "  421833/5000000: episode: 598, duration: 7.434s, episode steps: 637, steps per second:  86, episode reward: 11.000, mean reward:  0.017 [ 0.000,  1.000], mean action: 3.203 [0.000, 5.000],  loss: 0.006936, mae: 0.505321, mean_q: 0.616466, mean_eps: 0.620639\n",
            "  422393/5000000: episode: 599, duration: 6.957s, episode steps: 560, steps per second:  80, episode reward:  7.000, mean reward:  0.013 [ 0.000,  1.000], mean action: 3.157 [0.000, 5.000],  loss: 0.010151, mae: 0.525738, mean_q: 0.642438, mean_eps: 0.620099\n",
            "  422898/5000000: episode: 600, duration: 5.874s, episode steps: 505, steps per second:  86, episode reward: 10.000, mean reward:  0.020 [ 0.000,  1.000], mean action: 2.927 [0.000, 5.000],  loss: 0.006850, mae: 0.500510, mean_q: 0.620287, mean_eps: 0.619624\n",
            "Pesos guardados en dqn_last_weights.h5 al final del episodio 600\n",
            "  424064/5000000: episode: 601, duration: 15.494s, episode steps: 1166, steps per second:  75, episode reward: 17.000, mean reward:  0.015 [ 0.000,  1.000], mean action: 2.582 [0.000, 5.000],  loss: 0.008556, mae: 0.506841, mean_q: 0.614269, mean_eps: 0.618868\n",
            "  424797/5000000: episode: 602, duration: 8.018s, episode steps: 733, steps per second:  91, episode reward:  8.000, mean reward:  0.011 [ 0.000,  1.000], mean action: 2.329 [0.000, 5.000],  loss: 0.008216, mae: 0.504143, mean_q: 0.607157, mean_eps: 0.618015\n",
            "  425597/5000000: episode: 603, duration: 10.101s, episode steps: 800, steps per second:  79, episode reward: 13.000, mean reward:  0.016 [ 0.000,  1.000], mean action: 3.292 [0.000, 5.000],  loss: 0.008939, mae: 0.516886, mean_q: 0.628736, mean_eps: 0.617324\n",
            "  426388/5000000: episode: 604, duration: 9.830s, episode steps: 791, steps per second:  80, episode reward: 12.000, mean reward:  0.015 [ 0.000,  1.000], mean action: 2.930 [0.000, 5.000],  loss: 0.009341, mae: 0.510752, mean_q: 0.621342, mean_eps: 0.616600\n",
            "  427183/5000000: episode: 605, duration: 9.728s, episode steps: 795, steps per second:  82, episode reward: 10.000, mean reward:  0.013 [ 0.000,  1.000], mean action: 2.714 [0.000, 5.000],  loss: 0.012323, mae: 0.506288, mean_q: 0.616809, mean_eps: 0.615887\n",
            "  427887/5000000: episode: 606, duration: 8.021s, episode steps: 704, steps per second:  88, episode reward:  7.000, mean reward:  0.010 [ 0.000,  1.000], mean action: 2.716 [0.000, 5.000],  loss: 0.006102, mae: 0.520792, mean_q: 0.628551, mean_eps: 0.615218\n",
            "  428399/5000000: episode: 607, duration: 6.737s, episode steps: 512, steps per second:  76, episode reward: 11.000, mean reward:  0.021 [ 0.000,  1.000], mean action: 2.484 [0.000, 5.000],  loss: 0.008885, mae: 0.492894, mean_q: 0.600333, mean_eps: 0.614678\n",
            "  429786/5000000: episode: 608, duration: 16.627s, episode steps: 1387, steps per second:  83, episode reward: 19.000, mean reward:  0.014 [ 0.000,  1.000], mean action: 2.665 [0.000, 5.000],  loss: 0.007396, mae: 0.515725, mean_q: 0.623941, mean_eps: 0.613824\n",
            "  430302/5000000: episode: 609, duration: 6.286s, episode steps: 516, steps per second:  82, episode reward:  8.000, mean reward:  0.016 [ 0.000,  1.000], mean action: 2.223 [0.000, 5.000],  loss: 0.009606, mae: 0.504463, mean_q: 0.611807, mean_eps: 0.612960\n",
            "  431060/5000000: episode: 610, duration: 9.136s, episode steps: 758, steps per second:  83, episode reward: 11.000, mean reward:  0.015 [ 0.000,  1.000], mean action: 1.982 [0.000, 5.000],  loss: 0.006217, mae: 0.503292, mean_q: 0.614964, mean_eps: 0.612388\n",
            "Pesos guardados en dqn_last_weights.h5 al final del episodio 610\n",
            "  431878/5000000: episode: 611, duration: 10.738s, episode steps: 818, steps per second:  76, episode reward: 12.000, mean reward:  0.015 [ 0.000,  1.000], mean action: 2.130 [0.000, 5.000],  loss: 0.006871, mae: 0.513147, mean_q: 0.623371, mean_eps: 0.611686\n",
            "  432681/5000000: episode: 612, duration: 10.299s, episode steps: 803, steps per second:  78, episode reward: 11.000, mean reward:  0.014 [ 0.000,  1.000], mean action: 2.943 [0.000, 5.000],  loss: 0.009185, mae: 0.516320, mean_q: 0.624067, mean_eps: 0.610952\n",
            "  433530/5000000: episode: 613, duration: 10.257s, episode steps: 849, steps per second:  83, episode reward: 12.000, mean reward:  0.014 [ 0.000,  1.000], mean action: 2.847 [0.000, 5.000],  loss: 0.009708, mae: 0.520278, mean_q: 0.626051, mean_eps: 0.610206\n",
            "  434410/5000000: episode: 614, duration: 9.970s, episode steps: 880, steps per second:  88, episode reward: 13.000, mean reward:  0.015 [ 0.000,  1.000], mean action: 2.192 [0.000, 5.000],  loss: 0.009224, mae: 0.519744, mean_q: 0.627734, mean_eps: 0.609429\n",
            "  435028/5000000: episode: 615, duration: 7.976s, episode steps: 618, steps per second:  77, episode reward:  6.000, mean reward:  0.010 [ 0.000,  1.000], mean action: 1.744 [0.000, 5.000],  loss: 0.009291, mae: 0.506787, mean_q: 0.613578, mean_eps: 0.608748\n",
            "  435761/5000000: episode: 616, duration: 9.200s, episode steps: 733, steps per second:  80, episode reward: 12.000, mean reward:  0.016 [ 0.000,  1.000], mean action: 2.074 [0.000, 5.000],  loss: 0.004542, mae: 0.506073, mean_q: 0.613898, mean_eps: 0.608144\n",
            "  436142/5000000: episode: 617, duration: 4.196s, episode steps: 381, steps per second:  91, episode reward:  5.000, mean reward:  0.013 [ 0.000,  1.000], mean action: 2.013 [0.000, 5.000],  loss: 0.006512, mae: 0.507267, mean_q: 0.613128, mean_eps: 0.607647\n",
            "  436480/5000000: episode: 618, duration: 3.691s, episode steps: 338, steps per second:  92, episode reward:  5.000, mean reward:  0.015 [ 0.000,  1.000], mean action: 1.879 [0.000, 5.000],  loss: 0.008054, mae: 0.505584, mean_q: 0.608995, mean_eps: 0.607323\n",
            "  437170/5000000: episode: 619, duration: 8.848s, episode steps: 690, steps per second:  78, episode reward: 11.000, mean reward:  0.016 [ 0.000,  1.000], mean action: 2.642 [0.000, 5.000],  loss: 0.005274, mae: 0.497581, mean_q: 0.600526, mean_eps: 0.606858\n",
            "  437631/5000000: episode: 620, duration: 5.197s, episode steps: 461, steps per second:  89, episode reward:  6.000, mean reward:  0.013 [ 0.000,  1.000], mean action: 2.230 [0.000, 5.000],  loss: 0.008153, mae: 0.537892, mean_q: 0.649437, mean_eps: 0.606340\n",
            "Pesos guardados en dqn_last_weights.h5 al final del episodio 620\n",
            "  438284/5000000: episode: 621, duration: 8.787s, episode steps: 653, steps per second:  74, episode reward: 12.000, mean reward:  0.018 [ 0.000,  1.000], mean action: 2.095 [0.000, 5.000],  loss: 0.008478, mae: 0.495540, mean_q: 0.601968, mean_eps: 0.605843\n",
            "  439203/5000000: episode: 622, duration: 11.383s, episode steps: 919, steps per second:  81, episode reward: 12.000, mean reward:  0.013 [ 0.000,  1.000], mean action: 2.269 [0.000, 5.000],  loss: 0.006996, mae: 0.506705, mean_q: 0.619650, mean_eps: 0.605130\n",
            "  439729/5000000: episode: 623, duration: 5.816s, episode steps: 526, steps per second:  90, episode reward:  3.000, mean reward:  0.006 [ 0.000,  1.000], mean action: 3.234 [0.000, 5.000],  loss: 0.007260, mae: 0.520915, mean_q: 0.631655, mean_eps: 0.604472\n",
            "  440370/5000000: episode: 624, duration: 8.143s, episode steps: 641, steps per second:  79, episode reward:  8.000, mean reward:  0.012 [ 0.000,  1.000], mean action: 3.115 [0.000, 5.000],  loss: 0.007045, mae: 0.515027, mean_q: 0.623317, mean_eps: 0.603953\n",
            "  440734/5000000: episode: 625, duration: 3.990s, episode steps: 364, steps per second:  91, episode reward:  5.000, mean reward:  0.014 [ 0.000,  1.000], mean action: 3.412 [0.000, 5.000],  loss: 0.006862, mae: 0.489321, mean_q: 0.591435, mean_eps: 0.603510\n",
            "  441150/5000000: episode: 626, duration: 5.816s, episode steps: 416, steps per second:  72, episode reward:  5.000, mean reward:  0.012 [ 0.000,  1.000], mean action: 2.596 [0.000, 5.000],  loss: 0.009148, mae: 0.528237, mean_q: 0.638590, mean_eps: 0.603154\n",
            "  441604/5000000: episode: 627, duration: 4.946s, episode steps: 454, steps per second:  92, episode reward:  6.000, mean reward:  0.013 [ 0.000,  1.000], mean action: 2.227 [0.000, 5.000],  loss: 0.009405, mae: 0.505960, mean_q: 0.608474, mean_eps: 0.602754\n",
            "  442438/5000000: episode: 628, duration: 10.205s, episode steps: 834, steps per second:  82, episode reward: 12.000, mean reward:  0.014 [ 0.000,  1.000], mean action: 2.218 [0.000, 5.000],  loss: 0.008730, mae: 0.526663, mean_q: 0.634947, mean_eps: 0.602182\n",
            "  443159/5000000: episode: 629, duration: 9.108s, episode steps: 721, steps per second:  79, episode reward:  7.000, mean reward:  0.010 [ 0.000,  1.000], mean action: 2.212 [0.000, 5.000],  loss: 0.006015, mae: 0.508801, mean_q: 0.614768, mean_eps: 0.601491\n",
            "  443874/5000000: episode: 630, duration: 7.908s, episode steps: 715, steps per second:  90, episode reward:  8.000, mean reward:  0.011 [ 0.000,  1.000], mean action: 2.345 [0.000, 5.000],  loss: 0.008401, mae: 0.523078, mean_q: 0.626968, mean_eps: 0.600843\n",
            "Pesos guardados en dqn_last_weights.h5 al final del episodio 630\n",
            "  444728/5000000: episode: 631, duration: 11.160s, episode steps: 854, steps per second:  77, episode reward: 21.000, mean reward:  0.025 [ 0.000,  1.000], mean action: 2.929 [0.000, 5.000],  loss: 0.007496, mae: 0.509690, mean_q: 0.617854, mean_eps: 0.600130\n",
            "  445497/5000000: episode: 632, duration: 9.825s, episode steps: 769, steps per second:  78, episode reward:  9.000, mean reward:  0.012 [ 0.000,  1.000], mean action: 2.278 [0.000, 5.000],  loss: 0.008146, mae: 0.507009, mean_q: 0.609481, mean_eps: 0.599396\n",
            "  446035/5000000: episode: 633, duration: 5.958s, episode steps: 538, steps per second:  90, episode reward:  9.000, mean reward:  0.017 [ 0.000,  1.000], mean action: 1.571 [0.000, 5.000],  loss: 0.004184, mae: 0.495921, mean_q: 0.601771, mean_eps: 0.598812\n",
            "  446840/5000000: episode: 634, duration: 10.286s, episode steps: 805, steps per second:  78, episode reward: 10.000, mean reward:  0.012 [ 0.000,  1.000], mean action: 2.234 [0.000, 5.000],  loss: 0.007427, mae: 0.514778, mean_q: 0.621752, mean_eps: 0.598208\n",
            "  448164/5000000: episode: 635, duration: 15.569s, episode steps: 1324, steps per second:  85, episode reward: 19.000, mean reward:  0.014 [ 0.000,  1.000], mean action: 1.991 [0.000, 5.000],  loss: 0.007566, mae: 0.513348, mean_q: 0.627157, mean_eps: 0.597246\n",
            "  448571/5000000: episode: 636, duration: 5.686s, episode steps: 407, steps per second:  72, episode reward:  5.000, mean reward:  0.012 [ 0.000,  1.000], mean action: 2.059 [0.000, 5.000],  loss: 0.006320, mae: 0.493691, mean_q: 0.600973, mean_eps: 0.596469\n",
            "  450063/5000000: episode: 637, duration: 17.622s, episode steps: 1492, steps per second:  85, episode reward: 12.000, mean reward:  0.008 [ 0.000,  1.000], mean action: 2.408 [0.000, 5.000],  loss: 0.008287, mae: 0.519798, mean_q: 0.626993, mean_eps: 0.595616\n",
            "  450910/5000000: episode: 638, duration: 10.444s, episode steps: 847, steps per second:  81, episode reward: 12.000, mean reward:  0.014 [ 0.000,  1.000], mean action: 2.564 [0.000, 5.000],  loss: 0.007723, mae: 0.529692, mean_q: 0.640583, mean_eps: 0.594568\n",
            "  451747/5000000: episode: 639, duration: 10.432s, episode steps: 837, steps per second:  80, episode reward: 12.000, mean reward:  0.014 [ 0.000,  1.000], mean action: 2.571 [0.000, 5.000],  loss: 0.005712, mae: 0.512945, mean_q: 0.623043, mean_eps: 0.593812\n",
            "  452531/5000000: episode: 640, duration: 8.946s, episode steps: 784, steps per second:  88, episode reward: 10.000, mean reward:  0.013 [ 0.000,  1.000], mean action: 3.249 [0.000, 5.000],  loss: 0.007844, mae: 0.518905, mean_q: 0.630282, mean_eps: 0.593078\n",
            "Pesos guardados en dqn_last_weights.h5 al final del episodio 640\n",
            "  453310/5000000: episode: 641, duration: 9.810s, episode steps: 779, steps per second:  79, episode reward: 10.000, mean reward:  0.013 [ 0.000,  1.000], mean action: 2.299 [0.000, 5.000],  loss: 0.006880, mae: 0.533877, mean_q: 0.645351, mean_eps: 0.592376\n",
            "  454083/5000000: episode: 642, duration: 9.810s, episode steps: 773, steps per second:  79, episode reward: 10.000, mean reward:  0.013 [ 0.000,  1.000], mean action: 2.944 [0.000, 5.000],  loss: 0.007764, mae: 0.514464, mean_q: 0.620030, mean_eps: 0.591674\n",
            "  454704/5000000: episode: 643, duration: 7.764s, episode steps: 621, steps per second:  80, episode reward:  7.000, mean reward:  0.011 [ 0.000,  1.000], mean action: 3.023 [0.000, 5.000],  loss: 0.008246, mae: 0.537923, mean_q: 0.651959, mean_eps: 0.591047\n",
            "  455594/5000000: episode: 644, duration: 10.205s, episode steps: 890, steps per second:  87, episode reward: 13.000, mean reward:  0.015 [ 0.000,  1.000], mean action: 2.471 [0.000, 5.000],  loss: 0.006054, mae: 0.514640, mean_q: 0.621439, mean_eps: 0.590367\n",
            "  456086/5000000: episode: 645, duration: 6.484s, episode steps: 492, steps per second:  76, episode reward:  6.000, mean reward:  0.012 [ 0.000,  1.000], mean action: 2.364 [0.000, 5.000],  loss: 0.008499, mae: 0.523233, mean_q: 0.629586, mean_eps: 0.589740\n",
            "  456740/5000000: episode: 646, duration: 7.350s, episode steps: 654, steps per second:  89, episode reward:  9.000, mean reward:  0.014 [ 0.000,  1.000], mean action: 2.237 [0.000, 5.000],  loss: 0.004739, mae: 0.518988, mean_q: 0.625032, mean_eps: 0.589233\n",
            "  457554/5000000: episode: 647, duration: 9.927s, episode steps: 814, steps per second:  82, episode reward: 12.000, mean reward:  0.015 [ 0.000,  1.000], mean action: 2.763 [0.000, 5.000],  loss: 0.008259, mae: 0.524425, mean_q: 0.632738, mean_eps: 0.588574\n",
            "  458091/5000000: episode: 648, duration: 7.175s, episode steps: 537, steps per second:  75, episode reward: 12.000, mean reward:  0.022 [ 0.000,  1.000], mean action: 2.348 [0.000, 5.000],  loss: 0.011683, mae: 0.527643, mean_q: 0.637773, mean_eps: 0.587958\n",
            "  458743/5000000: episode: 649, duration: 7.220s, episode steps: 652, steps per second:  90, episode reward: 10.000, mean reward:  0.015 [ 0.000,  1.000], mean action: 2.403 [0.000, 5.000],  loss: 0.010980, mae: 0.535643, mean_q: 0.647892, mean_eps: 0.587418\n",
            "  459126/5000000: episode: 650, duration: 5.435s, episode steps: 383, steps per second:  70, episode reward:  7.000, mean reward:  0.018 [ 0.000,  1.000], mean action: 2.308 [0.000, 5.000],  loss: 0.006548, mae: 0.515245, mean_q: 0.619596, mean_eps: 0.586954\n",
            "Pesos guardados en dqn_last_weights.h5 al final del episodio 650\n",
            "  459782/5000000: episode: 651, duration: 7.693s, episode steps: 656, steps per second:  85, episode reward:  9.000, mean reward:  0.014 [ 0.000,  1.000], mean action: 2.444 [0.000, 5.000],  loss: 0.005449, mae: 0.509131, mean_q: 0.612519, mean_eps: 0.586490\n",
            "  460151/5000000: episode: 652, duration: 5.187s, episode steps: 369, steps per second:  71, episode reward:  4.000, mean reward:  0.011 [ 0.000,  1.000], mean action: 1.854 [0.000, 5.000],  loss: 0.007876, mae: 0.510248, mean_q: 0.616651, mean_eps: 0.586036\n",
            "  460955/5000000: episode: 653, duration: 9.274s, episode steps: 804, steps per second:  87, episode reward: 11.000, mean reward:  0.014 [ 0.000,  1.000], mean action: 2.438 [0.000, 5.000],  loss: 0.008849, mae: 0.540538, mean_q: 0.651562, mean_eps: 0.585507\n",
            "  461445/5000000: episode: 654, duration: 6.216s, episode steps: 490, steps per second:  79, episode reward:  9.000, mean reward:  0.018 [ 0.000,  1.000], mean action: 2.204 [0.000, 5.000],  loss: 0.007027, mae: 0.532380, mean_q: 0.639136, mean_eps: 0.584924\n",
            "  462287/5000000: episode: 655, duration: 10.452s, episode steps: 842, steps per second:  81, episode reward: 12.000, mean reward:  0.014 [ 0.000,  1.000], mean action: 2.715 [0.000, 5.000],  loss: 0.006302, mae: 0.536761, mean_q: 0.652586, mean_eps: 0.584330\n",
            "  463259/5000000: episode: 656, duration: 12.047s, episode steps: 972, steps per second:  81, episode reward: 22.000, mean reward:  0.023 [ 0.000,  1.000], mean action: 2.889 [0.000, 5.000],  loss: 0.006274, mae: 0.520420, mean_q: 0.631650, mean_eps: 0.583509\n",
            "  463558/5000000: episode: 657, duration: 3.264s, episode steps: 299, steps per second:  92, episode reward:  3.000, mean reward:  0.010 [ 0.000,  1.000], mean action: 2.294 [0.000, 5.000],  loss: 0.009790, mae: 0.512473, mean_q: 0.618014, mean_eps: 0.582936\n",
            "  464212/5000000: episode: 658, duration: 8.359s, episode steps: 654, steps per second:  78, episode reward: 10.000, mean reward:  0.015 [ 0.000,  1.000], mean action: 2.595 [0.000, 5.000],  loss: 0.007781, mae: 0.542202, mean_q: 0.656131, mean_eps: 0.582504\n",
            "  465119/5000000: episode: 659, duration: 10.122s, episode steps: 907, steps per second:  90, episode reward: 18.000, mean reward:  0.020 [ 0.000,  1.000], mean action: 2.239 [0.000, 5.000],  loss: 0.006836, mae: 0.542104, mean_q: 0.656517, mean_eps: 0.581802\n",
            "  465933/5000000: episode: 660, duration: 10.150s, episode steps: 814, steps per second:  80, episode reward:  8.000, mean reward:  0.010 [ 0.000,  1.000], mean action: 2.291 [0.000, 5.000],  loss: 0.008171, mae: 0.533161, mean_q: 0.647650, mean_eps: 0.581036\n",
            "Pesos guardados en dqn_last_weights.h5 al final del episodio 660\n",
            "  466354/5000000: episode: 661, duration: 6.072s, episode steps: 421, steps per second:  69, episode reward:  5.000, mean reward:  0.012 [ 0.000,  1.000], mean action: 2.577 [0.000, 5.000],  loss: 0.007411, mae: 0.527315, mean_q: 0.637061, mean_eps: 0.580474\n",
            "  467504/5000000: episode: 662, duration: 13.892s, episode steps: 1150, steps per second:  83, episode reward: 22.000, mean reward:  0.019 [ 0.000,  1.000], mean action: 2.870 [0.000, 5.000],  loss: 0.007126, mae: 0.533396, mean_q: 0.644630, mean_eps: 0.579761\n",
            "  468157/5000000: episode: 663, duration: 7.183s, episode steps: 653, steps per second:  91, episode reward: 16.000, mean reward:  0.025 [ 0.000,  1.000], mean action: 2.413 [0.000, 5.000],  loss: 0.008533, mae: 0.549699, mean_q: 0.661974, mean_eps: 0.578951\n",
            "  468508/5000000: episode: 664, duration: 5.151s, episode steps: 351, steps per second:  68, episode reward:  4.000, mean reward:  0.011 [ 0.000,  1.000], mean action: 2.490 [0.000, 5.000],  loss: 0.003705, mae: 0.518001, mean_q: 0.626565, mean_eps: 0.578498\n",
            "  468963/5000000: episode: 665, duration: 5.092s, episode steps: 455, steps per second:  89, episode reward:  3.000, mean reward:  0.007 [ 0.000,  1.000], mean action: 3.187 [0.000, 5.000],  loss: 0.006398, mae: 0.534921, mean_q: 0.646663, mean_eps: 0.578130\n",
            "  469601/5000000: episode: 666, duration: 8.099s, episode steps: 638, steps per second:  79, episode reward:  6.000, mean reward:  0.009 [ 0.000,  1.000], mean action: 2.586 [0.000, 5.000],  loss: 0.010161, mae: 0.555238, mean_q: 0.667318, mean_eps: 0.577644\n",
            "  470032/5000000: episode: 667, duration: 4.800s, episode steps: 431, steps per second:  90, episode reward:  2.000, mean reward:  0.005 [ 0.000,  1.000], mean action: 2.798 [0.000, 5.000],  loss: 0.005321, mae: 0.526380, mean_q: 0.634304, mean_eps: 0.577169\n",
            "  470522/5000000: episode: 668, duration: 6.252s, episode steps: 490, steps per second:  78, episode reward:  6.000, mean reward:  0.012 [ 0.000,  1.000], mean action: 2.445 [0.000, 5.000],  loss: 0.009307, mae: 0.561491, mean_q: 0.674448, mean_eps: 0.576748\n",
            "  471453/5000000: episode: 669, duration: 10.723s, episode steps: 931, steps per second:  87, episode reward: 14.000, mean reward:  0.015 [ 0.000,  1.000], mean action: 3.058 [0.000, 5.000],  loss: 0.009610, mae: 0.537825, mean_q: 0.648008, mean_eps: 0.576111\n",
            "  472171/5000000: episode: 670, duration: 9.136s, episode steps: 718, steps per second:  79, episode reward: 14.000, mean reward:  0.019 [ 0.000,  1.000], mean action: 2.678 [0.000, 5.000],  loss: 0.008831, mae: 0.544756, mean_q: 0.656289, mean_eps: 0.575376\n",
            "Pesos guardados en dqn_last_weights.h5 al final del episodio 670\n",
            "  472843/5000000: episode: 671, duration: 9.149s, episode steps: 672, steps per second:  73, episode reward: 15.000, mean reward:  0.022 [ 0.000,  1.000], mean action: 2.155 [0.000, 5.000],  loss: 0.008124, mae: 0.532140, mean_q: 0.646210, mean_eps: 0.574750\n",
            "  473418/5000000: episode: 672, duration: 6.349s, episode steps: 575, steps per second:  91, episode reward:  8.000, mean reward:  0.014 [ 0.000,  1.000], mean action: 2.337 [0.000, 5.000],  loss: 0.007396, mae: 0.537121, mean_q: 0.646961, mean_eps: 0.574188\n",
            "  474562/5000000: episode: 673, duration: 13.936s, episode steps: 1144, steps per second:  82, episode reward: 18.000, mean reward:  0.016 [ 0.000,  1.000], mean action: 2.556 [0.000, 5.000],  loss: 0.009281, mae: 0.543204, mean_q: 0.655850, mean_eps: 0.573411\n",
            "  475551/5000000: episode: 674, duration: 12.116s, episode steps: 989, steps per second:  82, episode reward: 15.000, mean reward:  0.015 [ 0.000,  1.000], mean action: 2.469 [0.000, 5.000],  loss: 0.006851, mae: 0.523079, mean_q: 0.632658, mean_eps: 0.572450\n",
            "  476472/5000000: episode: 675, duration: 11.572s, episode steps: 921, steps per second:  80, episode reward: 13.000, mean reward:  0.014 [ 0.000,  1.000], mean action: 2.110 [0.000, 5.000],  loss: 0.007121, mae: 0.532279, mean_q: 0.642732, mean_eps: 0.571596\n",
            "  477691/5000000: episode: 676, duration: 14.771s, episode steps: 1219, steps per second:  83, episode reward: 16.000, mean reward:  0.013 [ 0.000,  1.000], mean action: 2.125 [0.000, 5.000],  loss: 0.004790, mae: 0.531905, mean_q: 0.643750, mean_eps: 0.570635\n",
            "  478498/5000000: episode: 677, duration: 10.217s, episode steps: 807, steps per second:  79, episode reward: 12.000, mean reward:  0.015 [ 0.000,  1.000], mean action: 2.693 [0.000, 5.000],  loss: 0.009560, mae: 0.530608, mean_q: 0.642626, mean_eps: 0.569717\n",
            "  479477/5000000: episode: 678, duration: 12.075s, episode steps: 979, steps per second:  81, episode reward: 19.000, mean reward:  0.019 [ 0.000,  1.000], mean action: 2.607 [0.000, 5.000],  loss: 0.008554, mae: 0.540399, mean_q: 0.650362, mean_eps: 0.568907\n",
            "  479838/5000000: episode: 679, duration: 4.034s, episode steps: 361, steps per second:  90, episode reward:  7.000, mean reward:  0.019 [ 0.000,  1.000], mean action: 2.296 [0.000, 5.000],  loss: 0.005828, mae: 0.530677, mean_q: 0.644450, mean_eps: 0.568302\n",
            "  480741/5000000: episode: 680, duration: 11.083s, episode steps: 903, steps per second:  81, episode reward: 21.000, mean reward:  0.023 [ 0.000,  1.000], mean action: 2.544 [0.000, 5.000],  loss: 0.010218, mae: 0.548417, mean_q: 0.659829, mean_eps: 0.567741\n",
            "Pesos guardados en dqn_last_weights.h5 al final del episodio 680\n",
            "  481570/5000000: episode: 681, duration: 11.463s, episode steps: 829, steps per second:  72, episode reward: 11.000, mean reward:  0.013 [ 0.000,  1.000], mean action: 2.745 [0.000, 5.000],  loss: 0.008409, mae: 0.554355, mean_q: 0.673445, mean_eps: 0.566963\n",
            "  482283/5000000: episode: 682, duration: 9.428s, episode steps: 713, steps per second:  76, episode reward:  9.000, mean reward:  0.013 [ 0.000,  1.000], mean action: 2.353 [0.000, 5.000],  loss: 0.006020, mae: 0.537810, mean_q: 0.654340, mean_eps: 0.566261\n",
            "  482801/5000000: episode: 683, duration: 5.824s, episode steps: 518, steps per second:  89, episode reward:  6.000, mean reward:  0.012 [ 0.000,  1.000], mean action: 2.129 [0.000, 5.000],  loss: 0.008856, mae: 0.531440, mean_q: 0.640726, mean_eps: 0.565710\n",
            "  483379/5000000: episode: 684, duration: 7.886s, episode steps: 578, steps per second:  73, episode reward:  6.000, mean reward:  0.010 [ 0.000,  1.000], mean action: 2.863 [0.000, 5.000],  loss: 0.008266, mae: 0.556713, mean_q: 0.677710, mean_eps: 0.565224\n",
            "  484608/5000000: episode: 685, duration: 15.357s, episode steps: 1229, steps per second:  80, episode reward: 24.000, mean reward:  0.020 [ 0.000,  1.000], mean action: 2.963 [0.000, 5.000],  loss: 0.008526, mae: 0.545108, mean_q: 0.666028, mean_eps: 0.564414\n",
            "  485329/5000000: episode: 686, duration: 9.540s, episode steps: 721, steps per second:  76, episode reward:  7.000, mean reward:  0.010 [ 0.000,  1.000], mean action: 3.096 [0.000, 5.000],  loss: 0.006137, mae: 0.544024, mean_q: 0.658677, mean_eps: 0.563529\n",
            "  485999/5000000: episode: 687, duration: 7.489s, episode steps: 670, steps per second:  89, episode reward: 11.000, mean reward:  0.016 [ 0.000,  1.000], mean action: 2.813 [0.000, 5.000],  loss: 0.007905, mae: 0.544345, mean_q: 0.654955, mean_eps: 0.562902\n",
            "  486647/5000000: episode: 688, duration: 8.513s, episode steps: 648, steps per second:  76, episode reward:  7.000, mean reward:  0.011 [ 0.000,  1.000], mean action: 2.556 [0.000, 5.000],  loss: 0.009585, mae: 0.557890, mean_q: 0.669101, mean_eps: 0.562319\n",
            "  487292/5000000: episode: 689, duration: 8.470s, episode steps: 645, steps per second:  76, episode reward: 11.000, mean reward:  0.017 [ 0.000,  1.000], mean action: 2.433 [0.000, 5.000],  loss: 0.005487, mae: 0.532884, mean_q: 0.643380, mean_eps: 0.561736\n",
            "  488635/5000000: episode: 690, duration: 16.456s, episode steps: 1343, steps per second:  82, episode reward: 24.000, mean reward:  0.018 [ 0.000,  1.000], mean action: 2.832 [0.000, 5.000],  loss: 0.006019, mae: 0.542204, mean_q: 0.654458, mean_eps: 0.560840\n",
            "Pesos guardados en dqn_last_weights.h5 al final del episodio 690\n",
            "  489075/5000000: episode: 691, duration: 5.525s, episode steps: 440, steps per second:  80, episode reward:  4.000, mean reward:  0.009 [ 0.000,  1.000], mean action: 2.577 [0.000, 5.000],  loss: 0.006949, mae: 0.544108, mean_q: 0.654358, mean_eps: 0.560030\n",
            "  489952/5000000: episode: 692, duration: 10.911s, episode steps: 877, steps per second:  80, episode reward: 12.000, mean reward:  0.014 [ 0.000,  1.000], mean action: 2.292 [0.000, 5.000],  loss: 0.006842, mae: 0.548744, mean_q: 0.658585, mean_eps: 0.559436\n",
            "  490596/5000000: episode: 693, duration: 8.432s, episode steps: 644, steps per second:  76, episode reward:  8.000, mean reward:  0.012 [ 0.000,  1.000], mean action: 2.688 [0.000, 5.000],  loss: 0.010237, mae: 0.581995, mean_q: 0.701050, mean_eps: 0.558755\n",
            "  491120/5000000: episode: 694, duration: 5.957s, episode steps: 524, steps per second:  88, episode reward:  8.000, mean reward:  0.015 [ 0.000,  1.000], mean action: 2.849 [0.000, 5.000],  loss: 0.007729, mae: 0.561298, mean_q: 0.679134, mean_eps: 0.558226\n",
            "  491498/5000000: episode: 695, duration: 5.459s, episode steps: 378, steps per second:  69, episode reward:  6.000, mean reward:  0.016 [ 0.000,  1.000], mean action: 2.944 [0.000, 5.000],  loss: 0.007859, mae: 0.569757, mean_q: 0.692517, mean_eps: 0.557816\n",
            "  492174/5000000: episode: 696, duration: 7.646s, episode steps: 676, steps per second:  88, episode reward:  9.000, mean reward:  0.013 [ 0.000,  1.000], mean action: 2.607 [0.000, 5.000],  loss: 0.007923, mae: 0.550782, mean_q: 0.667574, mean_eps: 0.557340\n",
            "  493100/5000000: episode: 697, duration: 11.404s, episode steps: 926, steps per second:  81, episode reward: 17.000, mean reward:  0.018 [ 0.000,  1.000], mean action: 1.721 [0.000, 5.000],  loss: 0.007714, mae: 0.565299, mean_q: 0.685782, mean_eps: 0.556628\n",
            "  494002/5000000: episode: 698, duration: 11.364s, episode steps: 902, steps per second:  79, episode reward: 14.000, mean reward:  0.016 [ 0.000,  1.000], mean action: 2.134 [0.000, 5.000],  loss: 0.006416, mae: 0.556471, mean_q: 0.673598, mean_eps: 0.555807\n",
            "  494935/5000000: episode: 699, duration: 11.714s, episode steps: 933, steps per second:  80, episode reward: 13.000, mean reward:  0.014 [ 0.000,  1.000], mean action: 2.569 [0.000, 5.000],  loss: 0.009242, mae: 0.560191, mean_q: 0.674507, mean_eps: 0.554975\n",
            "  495787/5000000: episode: 700, duration: 10.722s, episode steps: 852, steps per second:  79, episode reward: 12.000, mean reward:  0.014 [ 0.000,  1.000], mean action: 2.174 [0.000, 5.000],  loss: 0.006524, mae: 0.566203, mean_q: 0.686660, mean_eps: 0.554176\n",
            "Pesos guardados en dqn_last_weights.h5 al final del episodio 700\n",
            "  496196/5000000: episode: 701, duration: 5.126s, episode steps: 409, steps per second:  80, episode reward:  6.000, mean reward:  0.015 [ 0.000,  1.000], mean action: 2.851 [0.000, 5.000],  loss: 0.006648, mae: 0.550989, mean_q: 0.665474, mean_eps: 0.553614\n",
            "  496632/5000000: episode: 702, duration: 6.287s, episode steps: 436, steps per second:  69, episode reward:  4.000, mean reward:  0.009 [ 0.000,  1.000], mean action: 2.938 [0.000, 5.000],  loss: 0.007929, mae: 0.562025, mean_q: 0.676215, mean_eps: 0.553236\n",
            "  497019/5000000: episode: 703, duration: 4.517s, episode steps: 387, steps per second:  86, episode reward:  2.000, mean reward:  0.005 [ 0.000,  1.000], mean action: 2.390 [0.000, 5.000],  loss: 0.005717, mae: 0.555262, mean_q: 0.672410, mean_eps: 0.552858\n",
            "  497777/5000000: episode: 704, duration: 9.512s, episode steps: 758, steps per second:  80, episode reward: 17.000, mean reward:  0.022 [ 0.000,  1.000], mean action: 2.346 [0.000, 5.000],  loss: 0.006867, mae: 0.552595, mean_q: 0.665240, mean_eps: 0.552340\n",
            "  498705/5000000: episode: 705, duration: 11.671s, episode steps: 928, steps per second:  80, episode reward: 19.000, mean reward:  0.020 [ 0.000,  1.000], mean action: 2.475 [0.000, 5.000],  loss: 0.006903, mae: 0.565697, mean_q: 0.681022, mean_eps: 0.551584\n",
            "  499202/5000000: episode: 706, duration: 5.702s, episode steps: 497, steps per second:  87, episode reward:  6.000, mean reward:  0.012 [ 0.000,  1.000], mean action: 1.841 [0.000, 5.000],  loss: 0.005701, mae: 0.570176, mean_q: 0.690828, mean_eps: 0.550936\n",
            "  499833/5000000: episode: 707, duration: 8.252s, episode steps: 631, steps per second:  76, episode reward:  6.000, mean reward:  0.010 [ 0.000,  1.000], mean action: 1.591 [0.000, 5.000],  loss: 0.009571, mae: 0.577318, mean_q: 0.700717, mean_eps: 0.550428\n",
            "  500339/5000000: episode: 708, duration: 5.761s, episode steps: 506, steps per second:  88, episode reward:  2.000, mean reward:  0.004 [ 0.000,  1.000], mean action: 1.437 [0.000, 5.000],  loss: 0.005669, mae: 0.535846, mean_q: 0.651501, mean_eps: 0.549921\n",
            "  501014/5000000: episode: 709, duration: 8.731s, episode steps: 675, steps per second:  77, episode reward:  7.000, mean reward:  0.010 [ 0.000,  1.000], mean action: 2.363 [0.000, 5.000],  loss: 0.007804, mae: 0.534605, mean_q: 0.644174, mean_eps: 0.549392\n",
            "  502428/5000000: episode: 710, duration: 16.892s, episode steps: 1414, steps per second:  84, episode reward: 13.000, mean reward:  0.009 [ 0.000,  1.000], mean action: 2.726 [0.000, 5.000],  loss: 0.007959, mae: 0.542551, mean_q: 0.654802, mean_eps: 0.548452\n",
            "Pesos guardados en dqn_last_weights.h5 al final del episodio 710\n",
            "  503221/5000000: episode: 711, duration: 10.559s, episode steps: 793, steps per second:  75, episode reward: 13.000, mean reward:  0.016 [ 0.000,  1.000], mean action: 2.088 [0.000, 5.000],  loss: 0.005530, mae: 0.530413, mean_q: 0.642466, mean_eps: 0.547458\n",
            "  503649/5000000: episode: 712, duration: 4.918s, episode steps: 428, steps per second:  87, episode reward:  4.000, mean reward:  0.009 [ 0.000,  1.000], mean action: 1.780 [0.000, 5.000],  loss: 0.008871, mae: 0.561460, mean_q: 0.682969, mean_eps: 0.546908\n",
            "  504145/5000000: episode: 713, duration: 6.797s, episode steps: 496, steps per second:  73, episode reward:  2.000, mean reward:  0.004 [ 0.000,  1.000], mean action: 2.141 [0.000, 5.000],  loss: 0.008149, mae: 0.544361, mean_q: 0.656642, mean_eps: 0.546486\n",
            "  504942/5000000: episode: 714, duration: 10.168s, episode steps: 797, steps per second:  78, episode reward: 11.000, mean reward:  0.014 [ 0.000,  1.000], mean action: 2.656 [0.000, 5.000],  loss: 0.007462, mae: 0.546961, mean_q: 0.661595, mean_eps: 0.545903\n",
            "  505347/5000000: episode: 715, duration: 4.579s, episode steps: 405, steps per second:  88, episode reward:  3.000, mean reward:  0.007 [ 0.000,  1.000], mean action: 2.363 [0.000, 5.000],  loss: 0.007402, mae: 0.535050, mean_q: 0.645150, mean_eps: 0.545363\n",
            "  506165/5000000: episode: 716, duration: 10.422s, episode steps: 818, steps per second:  78, episode reward: 12.000, mean reward:  0.015 [ 0.000,  1.000], mean action: 2.434 [0.000, 5.000],  loss: 0.009938, mae: 0.530954, mean_q: 0.639428, mean_eps: 0.544812\n",
            "  507158/5000000: episode: 717, duration: 12.233s, episode steps: 993, steps per second:  81, episode reward: 16.000, mean reward:  0.016 [ 0.000,  1.000], mean action: 2.333 [0.000, 5.000],  loss: 0.006183, mae: 0.543212, mean_q: 0.658593, mean_eps: 0.544002\n",
            "  508145/5000000: episode: 718, duration: 12.255s, episode steps: 987, steps per second:  81, episode reward: 21.000, mean reward:  0.021 [ 0.000,  1.000], mean action: 2.218 [0.000, 5.000],  loss: 0.007169, mae: 0.534358, mean_q: 0.644338, mean_eps: 0.543117\n",
            "  508794/5000000: episode: 719, duration: 7.283s, episode steps: 649, steps per second:  89, episode reward:  6.000, mean reward:  0.009 [ 0.000,  1.000], mean action: 2.641 [0.000, 5.000],  loss: 0.006652, mae: 0.548173, mean_q: 0.663399, mean_eps: 0.542382\n",
            "  509652/5000000: episode: 720, duration: 10.772s, episode steps: 858, steps per second:  80, episode reward: 18.000, mean reward:  0.021 [ 0.000,  1.000], mean action: 3.357 [0.000, 5.000],  loss: 0.008521, mae: 0.555569, mean_q: 0.671145, mean_eps: 0.541702\n",
            "Pesos guardados en dqn_last_weights.h5 al final del episodio 720\n",
            "  510208/5000000: episode: 721, duration: 8.245s, episode steps: 556, steps per second:  67, episode reward:  8.000, mean reward:  0.014 [ 0.000,  1.000], mean action: 3.189 [0.000, 5.000],  loss: 0.004255, mae: 0.536251, mean_q: 0.652536, mean_eps: 0.541065\n",
            "  511037/5000000: episode: 722, duration: 10.524s, episode steps: 829, steps per second:  79, episode reward: 20.000, mean reward:  0.024 [ 0.000,  1.000], mean action: 3.450 [0.000, 5.000],  loss: 0.008509, mae: 0.526761, mean_q: 0.642383, mean_eps: 0.540438\n",
            "  511545/5000000: episode: 723, duration: 5.765s, episode steps: 508, steps per second:  88, episode reward: 13.000, mean reward:  0.026 [ 0.000,  1.000], mean action: 2.478 [0.000, 5.000],  loss: 0.004693, mae: 0.542377, mean_q: 0.655131, mean_eps: 0.539834\n",
            "  511917/5000000: episode: 724, duration: 4.095s, episode steps: 372, steps per second:  91, episode reward:  5.000, mean reward:  0.013 [ 0.000,  1.000], mean action: 2.683 [0.000, 5.000],  loss: 0.006314, mae: 0.544327, mean_q: 0.658656, mean_eps: 0.539445\n",
            "  512315/5000000: episode: 725, duration: 5.765s, episode steps: 398, steps per second:  69, episode reward:  3.000, mean reward:  0.008 [ 0.000,  1.000], mean action: 2.442 [0.000, 5.000],  loss: 0.008000, mae: 0.545270, mean_q: 0.662540, mean_eps: 0.539099\n",
            "  512692/5000000: episode: 726, duration: 4.352s, episode steps: 377, steps per second:  87, episode reward:  8.000, mean reward:  0.021 [ 0.000,  1.000], mean action: 3.395 [0.000, 5.000],  loss: 0.007857, mae: 0.541125, mean_q: 0.655282, mean_eps: 0.538743\n",
            "  513318/5000000: episode: 727, duration: 8.262s, episode steps: 626, steps per second:  76, episode reward:  6.000, mean reward:  0.010 [ 0.000,  1.000], mean action: 2.832 [0.000, 5.000],  loss: 0.007520, mae: 0.542826, mean_q: 0.659571, mean_eps: 0.538289\n",
            "  513957/5000000: episode: 728, duration: 7.130s, episode steps: 639, steps per second:  90, episode reward: 11.000, mean reward:  0.017 [ 0.000,  1.000], mean action: 1.956 [0.000, 5.000],  loss: 0.007709, mae: 0.545351, mean_q: 0.657971, mean_eps: 0.537728\n",
            "  514731/5000000: episode: 729, duration: 10.080s, episode steps: 774, steps per second:  77, episode reward: 10.000, mean reward:  0.013 [ 0.000,  1.000], mean action: 2.756 [0.000, 5.000],  loss: 0.006873, mae: 0.527444, mean_q: 0.635140, mean_eps: 0.537090\n",
            "  515826/5000000: episode: 730, duration: 13.469s, episode steps: 1095, steps per second:  81, episode reward: 20.000, mean reward:  0.018 [ 0.000,  1.000], mean action: 3.036 [0.000, 5.000],  loss: 0.007848, mae: 0.537572, mean_q: 0.646014, mean_eps: 0.536248\n",
            "Pesos guardados en dqn_last_weights.h5 al final del episodio 730\n",
            "  516484/5000000: episode: 731, duration: 9.128s, episode steps: 658, steps per second:  72, episode reward: 12.000, mean reward:  0.018 [ 0.000,  1.000], mean action: 2.872 [0.000, 5.000],  loss: 0.006401, mae: 0.536542, mean_q: 0.646982, mean_eps: 0.535460\n",
            "  516999/5000000: episode: 732, duration: 5.668s, episode steps: 515, steps per second:  91, episode reward:  7.000, mean reward:  0.014 [ 0.000,  1.000], mean action: 2.757 [0.000, 5.000],  loss: 0.008458, mae: 0.519481, mean_q: 0.623804, mean_eps: 0.534930\n",
            "  517960/5000000: episode: 733, duration: 11.952s, episode steps: 961, steps per second:  80, episode reward: 15.000, mean reward:  0.016 [ 0.000,  1.000], mean action: 1.871 [0.000, 5.000],  loss: 0.006850, mae: 0.544281, mean_q: 0.658705, mean_eps: 0.534272\n",
            "  518773/5000000: episode: 734, duration: 10.255s, episode steps: 813, steps per second:  79, episode reward: 10.000, mean reward:  0.012 [ 0.000,  1.000], mean action: 1.836 [0.000, 5.000],  loss: 0.006118, mae: 0.545996, mean_q: 0.660934, mean_eps: 0.533472\n",
            "  519403/5000000: episode: 735, duration: 8.151s, episode steps: 630, steps per second:  77, episode reward:  9.000, mean reward:  0.014 [ 0.000,  1.000], mean action: 2.454 [0.000, 5.000],  loss: 0.009607, mae: 0.543698, mean_q: 0.655281, mean_eps: 0.532824\n",
            "  519920/5000000: episode: 736, duration: 5.931s, episode steps: 517, steps per second:  87, episode reward:  8.000, mean reward:  0.015 [ 0.000,  1.000], mean action: 2.151 [0.000, 5.000],  loss: 0.003914, mae: 0.549168, mean_q: 0.662999, mean_eps: 0.532306\n",
            "  520596/5000000: episode: 737, duration: 8.709s, episode steps: 676, steps per second:  78, episode reward:  6.000, mean reward:  0.009 [ 0.000,  1.000], mean action: 2.719 [0.000, 5.000],  loss: 0.008325, mae: 0.542451, mean_q: 0.653544, mean_eps: 0.531766\n",
            "  521901/5000000: episode: 738, duration: 15.675s, episode steps: 1305, steps per second:  83, episode reward: 17.000, mean reward:  0.013 [ 0.000,  1.000], mean action: 2.391 [0.000, 5.000],  loss: 0.007749, mae: 0.544482, mean_q: 0.657735, mean_eps: 0.530880\n",
            "  523082/5000000: episode: 739, duration: 14.630s, episode steps: 1181, steps per second:  81, episode reward: 22.000, mean reward:  0.019 [ 0.000,  1.000], mean action: 2.458 [0.000, 5.000],  loss: 0.007224, mae: 0.537962, mean_q: 0.646487, mean_eps: 0.529757\n",
            "  523776/5000000: episode: 740, duration: 8.968s, episode steps: 694, steps per second:  77, episode reward:  8.000, mean reward:  0.012 [ 0.000,  1.000], mean action: 1.719 [0.000, 5.000],  loss: 0.008374, mae: 0.529471, mean_q: 0.636602, mean_eps: 0.528915\n",
            "Pesos guardados en dqn_last_weights.h5 al final del episodio 740\n",
            "  524780/5000000: episode: 741, duration: 13.076s, episode steps: 1004, steps per second:  77, episode reward: 17.000, mean reward:  0.017 [ 0.000,  1.000], mean action: 2.030 [0.000, 5.000],  loss: 0.007823, mae: 0.535690, mean_q: 0.647017, mean_eps: 0.528159\n",
            "  525324/5000000: episode: 742, duration: 6.249s, episode steps: 544, steps per second:  87, episode reward:  7.000, mean reward:  0.013 [ 0.000,  1.000], mean action: 1.763 [0.000, 5.000],  loss: 0.012471, mae: 0.550342, mean_q: 0.663439, mean_eps: 0.527457\n",
            "  526007/5000000: episode: 743, duration: 8.749s, episode steps: 683, steps per second:  78, episode reward:  6.000, mean reward:  0.009 [ 0.000,  1.000], mean action: 2.212 [0.000, 5.000],  loss: 0.008055, mae: 0.538585, mean_q: 0.650448, mean_eps: 0.526906\n",
            "  527247/5000000: episode: 744, duration: 15.129s, episode steps: 1240, steps per second:  82, episode reward: 13.000, mean reward:  0.010 [ 0.000,  1.000], mean action: 2.698 [0.000, 5.000],  loss: 0.006783, mae: 0.532007, mean_q: 0.640385, mean_eps: 0.526042\n",
            "  527588/5000000: episode: 745, duration: 4.661s, episode steps: 341, steps per second:  73, episode reward:  6.000, mean reward:  0.018 [ 0.000,  1.000], mean action: 2.798 [0.000, 5.000],  loss: 0.007353, mae: 0.526536, mean_q: 0.637065, mean_eps: 0.525329\n",
            "  528170/5000000: episode: 746, duration: 7.017s, episode steps: 582, steps per second:  83, episode reward:  5.000, mean reward:  0.009 [ 0.000,  1.000], mean action: 2.462 [0.000, 5.000],  loss: 0.007523, mae: 0.543241, mean_q: 0.654971, mean_eps: 0.524908\n",
            "  529021/5000000: episode: 747, duration: 10.672s, episode steps: 851, steps per second:  80, episode reward: 12.000, mean reward:  0.014 [ 0.000,  1.000], mean action: 2.572 [0.000, 5.000],  loss: 0.008897, mae: 0.551237, mean_q: 0.668402, mean_eps: 0.524260\n",
            "  529992/5000000: episode: 748, duration: 12.244s, episode steps: 971, steps per second:  79, episode reward: 15.000, mean reward:  0.015 [ 0.000,  1.000], mean action: 3.087 [0.000, 5.000],  loss: 0.008015, mae: 0.531813, mean_q: 0.643593, mean_eps: 0.523450\n",
            "  530461/5000000: episode: 749, duration: 5.463s, episode steps: 469, steps per second:  86, episode reward:  7.000, mean reward:  0.015 [ 0.000,  1.000], mean action: 3.015 [0.000, 5.000],  loss: 0.006835, mae: 0.541818, mean_q: 0.651680, mean_eps: 0.522802\n",
            "  531467/5000000: episode: 750, duration: 12.522s, episode steps: 1006, steps per second:  80, episode reward: 22.000, mean reward:  0.022 [ 0.000,  1.000], mean action: 2.061 [0.000, 5.000],  loss: 0.009728, mae: 0.536559, mean_q: 0.643946, mean_eps: 0.522132\n",
            "Pesos guardados en dqn_last_weights.h5 al final del episodio 750\n",
            "  532242/5000000: episode: 751, duration: 10.378s, episode steps: 775, steps per second:  75, episode reward: 13.000, mean reward:  0.017 [ 0.000,  1.000], mean action: 2.293 [0.000, 5.000],  loss: 0.007164, mae: 0.542371, mean_q: 0.650700, mean_eps: 0.521333\n",
            "  533190/5000000: episode: 752, duration: 11.930s, episode steps: 948, steps per second:  79, episode reward: 15.000, mean reward:  0.016 [ 0.000,  1.000], mean action: 1.904 [0.000, 5.000],  loss: 0.007043, mae: 0.548252, mean_q: 0.664259, mean_eps: 0.520556\n",
            "  533868/5000000: episode: 753, duration: 8.749s, episode steps: 678, steps per second:  77, episode reward:  9.000, mean reward:  0.013 [ 0.000,  1.000], mean action: 1.350 [0.000, 5.000],  loss: 0.011311, mae: 0.558291, mean_q: 0.675824, mean_eps: 0.519821\n",
            "  535158/5000000: episode: 754, duration: 15.860s, episode steps: 1290, steps per second:  81, episode reward: 28.000, mean reward:  0.022 [ 0.000,  1.000], mean action: 2.097 [0.000, 5.000],  loss: 0.007319, mae: 0.546335, mean_q: 0.663789, mean_eps: 0.518936\n",
            "  535801/5000000: episode: 755, duration: 8.043s, episode steps: 643, steps per second:  80, episode reward:  7.000, mean reward:  0.011 [ 0.000,  1.000], mean action: 2.341 [0.000, 5.000],  loss: 0.005337, mae: 0.542692, mean_q: 0.658900, mean_eps: 0.518061\n",
            "  536741/5000000: episode: 756, duration: 11.145s, episode steps: 940, steps per second:  84, episode reward: 20.000, mean reward:  0.021 [ 0.000,  1.000], mean action: 2.234 [0.000, 5.000],  loss: 0.008252, mae: 0.551115, mean_q: 0.666409, mean_eps: 0.517348\n",
            "  537621/5000000: episode: 757, duration: 11.024s, episode steps: 880, steps per second:  80, episode reward: 15.000, mean reward:  0.017 [ 0.000,  1.000], mean action: 2.652 [0.000, 5.000],  loss: 0.006842, mae: 0.531467, mean_q: 0.641789, mean_eps: 0.516538\n",
            "  537997/5000000: episode: 758, duration: 5.566s, episode steps: 376, steps per second:  68, episode reward:  5.000, mean reward:  0.013 [ 0.000,  1.000], mean action: 2.104 [0.000, 5.000],  loss: 0.010486, mae: 0.553505, mean_q: 0.666536, mean_eps: 0.515976\n",
            "  538374/5000000: episode: 759, duration: 4.379s, episode steps: 377, steps per second:  86, episode reward:  4.000, mean reward:  0.011 [ 0.000,  1.000], mean action: 2.955 [0.000, 5.000],  loss: 0.004680, mae: 0.534931, mean_q: 0.646268, mean_eps: 0.515631\n",
            "  539107/5000000: episode: 760, duration: 9.400s, episode steps: 733, steps per second:  78, episode reward: 16.000, mean reward:  0.022 [ 0.000,  1.000], mean action: 2.423 [0.000, 5.000],  loss: 0.008111, mae: 0.543031, mean_q: 0.653758, mean_eps: 0.515134\n",
            "Pesos guardados en dqn_last_weights.h5 al final del episodio 760\n",
            "  539471/5000000: episode: 761, duration: 4.659s, episode steps: 364, steps per second:  78, episode reward:  5.000, mean reward:  0.014 [ 0.000,  1.000], mean action: 2.365 [0.000, 5.000],  loss: 0.007615, mae: 0.531114, mean_q: 0.638341, mean_eps: 0.514648\n",
            "  539979/5000000: episode: 762, duration: 7.042s, episode steps: 508, steps per second:  72, episode reward:  8.000, mean reward:  0.016 [ 0.000,  1.000], mean action: 2.943 [0.000, 5.000],  loss: 0.004788, mae: 0.526388, mean_q: 0.635294, mean_eps: 0.514248\n",
            "  540372/5000000: episode: 763, duration: 4.463s, episode steps: 393, steps per second:  88, episode reward:  3.000, mean reward:  0.008 [ 0.000,  1.000], mean action: 3.272 [0.000, 5.000],  loss: 0.006591, mae: 0.538219, mean_q: 0.653817, mean_eps: 0.513838\n",
            "  540995/5000000: episode: 764, duration: 8.190s, episode steps: 623, steps per second:  76, episode reward: 12.000, mean reward:  0.019 [ 0.000,  1.000], mean action: 3.013 [0.000, 5.000],  loss: 0.009154, mae: 0.547821, mean_q: 0.668015, mean_eps: 0.513384\n",
            "  541364/5000000: episode: 765, duration: 4.161s, episode steps: 369, steps per second:  89, episode reward:  6.000, mean reward:  0.016 [ 0.000,  1.000], mean action: 2.463 [0.000, 5.000],  loss: 0.006645, mae: 0.557874, mean_q: 0.673830, mean_eps: 0.512942\n",
            "  542419/5000000: episode: 766, duration: 13.102s, episode steps: 1055, steps per second:  81, episode reward: 24.000, mean reward:  0.023 [ 0.000,  1.000], mean action: 2.132 [0.000, 5.000],  loss: 0.005859, mae: 0.547722, mean_q: 0.660092, mean_eps: 0.512304\n",
            "  542737/5000000: episode: 767, duration: 3.773s, episode steps: 318, steps per second:  84, episode reward:  4.000, mean reward:  0.013 [ 0.000,  1.000], mean action: 2.164 [0.000, 5.000],  loss: 0.007166, mae: 0.556872, mean_q: 0.671729, mean_eps: 0.511678\n",
            "  543116/5000000: episode: 768, duration: 5.255s, episode steps: 379, steps per second:  72, episode reward:  3.000, mean reward:  0.008 [ 0.000,  1.000], mean action: 2.971 [0.000, 5.000],  loss: 0.009493, mae: 0.549071, mean_q: 0.661782, mean_eps: 0.511365\n",
            "  544150/5000000: episode: 769, duration: 12.870s, episode steps: 1034, steps per second:  80, episode reward: 21.000, mean reward:  0.020 [ 0.000,  1.000], mean action: 2.852 [0.000, 5.000],  loss: 0.006484, mae: 0.535242, mean_q: 0.647349, mean_eps: 0.510738\n",
            "  544998/5000000: episode: 770, duration: 10.092s, episode steps: 848, steps per second:  84, episode reward: 18.000, mean reward:  0.021 [ 0.000,  1.000], mean action: 2.902 [0.000, 5.000],  loss: 0.006899, mae: 0.542103, mean_q: 0.656563, mean_eps: 0.509885\n",
            "Pesos guardados en dqn_last_weights.h5 al final del episodio 770\n",
            "  546250/5000000: episode: 771, duration: 16.460s, episode steps: 1252, steps per second:  76, episode reward: 16.000, mean reward:  0.013 [ 0.000,  1.000], mean action: 3.454 [0.000, 5.000],  loss: 0.006282, mae: 0.531517, mean_q: 0.643976, mean_eps: 0.508935\n",
            "  546639/5000000: episode: 772, duration: 4.408s, episode steps: 389, steps per second:  88, episode reward:  6.000, mean reward:  0.015 [ 0.000,  1.000], mean action: 2.422 [0.000, 5.000],  loss: 0.007858, mae: 0.545851, mean_q: 0.657861, mean_eps: 0.508200\n",
            "  547443/5000000: episode: 773, duration: 10.389s, episode steps: 804, steps per second:  77, episode reward: 12.000, mean reward:  0.015 [ 0.000,  1.000], mean action: 2.259 [0.000, 5.000],  loss: 0.004506, mae: 0.538774, mean_q: 0.653054, mean_eps: 0.507660\n",
            "  548294/5000000: episode: 774, duration: 10.673s, episode steps: 851, steps per second:  80, episode reward: 12.000, mean reward:  0.014 [ 0.000,  1.000], mean action: 2.397 [0.000, 5.000],  loss: 0.008672, mae: 0.543507, mean_q: 0.654204, mean_eps: 0.506915\n",
            "  548952/5000000: episode: 775, duration: 7.598s, episode steps: 658, steps per second:  87, episode reward: 14.000, mean reward:  0.021 [ 0.000,  1.000], mean action: 2.951 [0.000, 5.000],  loss: 0.006675, mae: 0.533249, mean_q: 0.641307, mean_eps: 0.506246\n",
            "  549475/5000000: episode: 776, duration: 7.151s, episode steps: 523, steps per second:  73, episode reward:  6.000, mean reward:  0.011 [ 0.000,  1.000], mean action: 2.881 [0.000, 5.000],  loss: 0.003595, mae: 0.524545, mean_q: 0.634607, mean_eps: 0.505716\n",
            "  550404/5000000: episode: 777, duration: 11.799s, episode steps: 929, steps per second:  79, episode reward: 16.000, mean reward:  0.017 [ 0.000,  1.000], mean action: 2.419 [0.000, 5.000],  loss: 0.007435, mae: 0.563092, mean_q: 0.681758, mean_eps: 0.505058\n",
            "  550932/5000000: episode: 778, duration: 6.066s, episode steps: 528, steps per second:  87, episode reward: 11.000, mean reward:  0.021 [ 0.000,  1.000], mean action: 2.502 [0.000, 5.000],  loss: 0.010486, mae: 0.559251, mean_q: 0.675169, mean_eps: 0.504399\n",
            "  551947/5000000: episode: 779, duration: 12.680s, episode steps: 1015, steps per second:  80, episode reward: 13.000, mean reward:  0.013 [ 0.000,  1.000], mean action: 2.052 [0.000, 5.000],  loss: 0.009094, mae: 0.561723, mean_q: 0.677085, mean_eps: 0.503708\n",
            "  552555/5000000: episode: 780, duration: 8.143s, episode steps: 608, steps per second:  75, episode reward:  4.000, mean reward:  0.007 [ 0.000,  1.000], mean action: 1.867 [0.000, 5.000],  loss: 0.005027, mae: 0.555752, mean_q: 0.672804, mean_eps: 0.502973\n",
            "Pesos guardados en dqn_last_weights.h5 al final del episodio 780\n",
            "  553479/5000000: episode: 781, duration: 12.098s, episode steps: 924, steps per second:  76, episode reward: 14.000, mean reward:  0.015 [ 0.000,  1.000], mean action: 2.030 [0.000, 5.000],  loss: 0.010915, mae: 0.561273, mean_q: 0.680791, mean_eps: 0.502282\n",
            "  553985/5000000: episode: 782, duration: 5.800s, episode steps: 506, steps per second:  87, episode reward:  7.000, mean reward:  0.014 [ 0.000,  1.000], mean action: 1.933 [0.000, 5.000],  loss: 0.006301, mae: 0.551622, mean_q: 0.668200, mean_eps: 0.501645\n",
            "  554630/5000000: episode: 783, duration: 8.492s, episode steps: 645, steps per second:  76, episode reward:  6.000, mean reward:  0.009 [ 0.000,  1.000], mean action: 2.254 [0.000, 5.000],  loss: 0.006875, mae: 0.541318, mean_q: 0.652190, mean_eps: 0.501126\n",
            "  555282/5000000: episode: 784, duration: 8.130s, episode steps: 652, steps per second:  80, episode reward:  7.000, mean reward:  0.011 [ 0.000,  1.000], mean action: 1.666 [0.000, 5.000],  loss: 0.007678, mae: 0.562556, mean_q: 0.678798, mean_eps: 0.500543\n",
            "  556082/5000000: episode: 785, duration: 9.589s, episode steps: 800, steps per second:  83, episode reward: 11.000, mean reward:  0.014 [ 0.000,  1.000], mean action: 2.535 [0.000, 5.000],  loss: 0.008235, mae: 0.572548, mean_q: 0.688366, mean_eps: 0.499884\n",
            "  556735/5000000: episode: 786, duration: 8.512s, episode steps: 653, steps per second:  77, episode reward:  6.000, mean reward:  0.009 [ 0.000,  1.000], mean action: 2.288 [0.000, 5.000],  loss: 0.007734, mae: 0.560355, mean_q: 0.672718, mean_eps: 0.499226\n",
            "  557554/5000000: episode: 787, duration: 10.429s, episode steps: 819, steps per second:  79, episode reward:  9.000, mean reward:  0.011 [ 0.000,  1.000], mean action: 2.042 [0.000, 5.000],  loss: 0.007869, mae: 0.559474, mean_q: 0.673941, mean_eps: 0.498567\n",
            "  558191/5000000: episode: 788, duration: 7.221s, episode steps: 637, steps per second:  88, episode reward:  9.000, mean reward:  0.014 [ 0.000,  1.000], mean action: 2.036 [0.000, 5.000],  loss: 0.008740, mae: 0.559641, mean_q: 0.676115, mean_eps: 0.497919\n",
            "  558835/5000000: episode: 789, duration: 8.494s, episode steps: 644, steps per second:  76, episode reward:  5.000, mean reward:  0.008 [ 0.000,  1.000], mean action: 2.045 [0.000, 5.000],  loss: 0.006914, mae: 0.553085, mean_q: 0.665322, mean_eps: 0.497346\n"
          ]
        }
      ]
    },
    {
      "cell_type": "markdown",
      "source": [
        "**Testeo del modelo**"
      ],
      "metadata": {
        "id": "xdMl5uG4zPSN"
      }
    },
    {
      "cell_type": "code",
      "source": [
        "from gym import wrappers\n",
        "import io\n",
        "import base64\n",
        "from IPython.display import HTML"
      ],
      "metadata": {
        "id": "SEEn1qvGzVt_"
      },
      "execution_count": null,
      "outputs": []
    },
    {
      "cell_type": "code",
      "source": [
        "env = wrappers.Monitor(env, \"./Videos\", force=True) # Para guardar los videos de las partidas\n",
        "                                                    # necesario instalar ffmpeg"
      ],
      "metadata": {
        "id": "ihR0zwvEzXKM"
      },
      "execution_count": null,
      "outputs": []
    },
    {
      "cell_type": "code",
      "source": [
        "# Testing part to calculate the mean reward\n",
        "weights_filename = 'dqn_last_weights.h5'\n",
        "dqn.load_weights(weights_filename)\n",
        "test_scores = dqn.test(env, nb_episodes=10, visualize=False)"
      ],
      "metadata": {
        "id": "rMj90SpjzYXA"
      },
      "execution_count": null,
      "outputs": []
    },
    {
      "cell_type": "code",
      "source": [
        "episode_rewards = test_scores.history['episode_reward']\n",
        "print(int(np.min(episode_rewards)), \"~\", int(np.max(episode_rewards)), \"Mean\", np.mean(episode_rewards))"
      ],
      "metadata": {
        "id": "WudLxKLuzfKW"
      },
      "execution_count": null,
      "outputs": []
    },
    {
      "cell_type": "code",
      "source": [
        "video = io.open('./Videos/openaigym.video.%s.video000000.mp4' % env.file_infix, 'r+b').read()\n",
        "encoded = base64.b64encode(video)\n",
        "HTML(data='''\n",
        "    <video width=\"360\" height=\"auto\" alt=\"test\" controls><source src=\"data:video/mp4;base64,{0}\" type=\"video/mp4\" /></video>'''\n",
        ".format(encoded.decode('ascii')))"
      ],
      "metadata": {
        "id": "rmMoNALVzh5C"
      },
      "execution_count": null,
      "outputs": []
    },
    {
      "cell_type": "markdown",
      "metadata": {
        "id": "-NAlu8b1Gb2b"
      },
      "source": [
        "3. Justificación de los parámetros seleccionados y de los resultados obtenidos"
      ]
    },
    {
      "cell_type": "code",
      "source": [
        "import json\n",
        "import pandas as pd\n",
        "import matplotlib.pyplot as plt\n",
        "import numpy as np"
      ],
      "metadata": {
        "id": "4fo1grPFzpM9"
      },
      "execution_count": null,
      "outputs": []
    },
    {
      "cell_type": "code",
      "source": [
        "def plot_experiments_json(experiments, fields_to_plot):\n",
        "    # Colores para los experimentos\n",
        "    colors = plt.cm.viridis(np.linspace(0, 1, len(experiments)))\n",
        "\n",
        "    # Leer datos de los archivos json\n",
        "    data = {}\n",
        "    for name, path in experiments.items():\n",
        "        with open(path, 'r') as f:\n",
        "            data[name] = json.load(f)\n",
        "\n",
        "    # Convertir los datos a DataFrame\n",
        "    dfs = {name: pd.DataFrame(experiment_data) for name, experiment_data in data.items()}\n",
        "\n",
        "    # Configurar subplots en función de la cantidad de campos\n",
        "    n_fields = len(fields_to_plot)\n",
        "    if n_fields == 6:\n",
        "        fig, axs = plt.subplots(3, 2, figsize=(15, 20))\n",
        "    elif n_fields == 3:\n",
        "        fig, axs = plt.subplots(1, 3, figsize=(20, 5))\n",
        "    elif n_fields == 1:\n",
        "        fig, axs = plt.subplots(1, 1, figsize=(15, 5))\n",
        "        axs = np.array([axs])  # Convertir a array para la iteración\n",
        "\n",
        "    fig.subplots_adjust(hspace=0.5, wspace=0.3)\n",
        "\n",
        "    # Graficar cada campo\n",
        "    for i, field in enumerate(fields_to_plot):\n",
        "        ax = axs[i // 2, i % 2] if n_fields == 6 else axs[i]  # Ubicación del subplot\n",
        "        for (name, df), color in zip(dfs.items(), colors):\n",
        "            if field in df.columns:\n",
        "                ax.plot(df[field], label=name, color=color)\n",
        "        ax.set_xlabel(\"Timestep\")\n",
        "        ax.set_ylabel(field)\n",
        "        ax.set_title(field)\n",
        "        ax.legend()\n",
        "        ax.grid(True)\n",
        "\n",
        "    # Ajustar el layout y mostrar la figura\n",
        "    plt.tight_layout()\n",
        "    plt.show()"
      ],
      "metadata": {
        "id": "CeYUgwufzqnn"
      },
      "execution_count": null,
      "outputs": []
    },
    {
      "cell_type": "code",
      "source": [
        "video = io.open('./Video_procesado_red/video_procesado_red.mp4', 'r+b').read()\n",
        "encoded = base64.b64encode(video)\n",
        "HTML(data='''\n",
        "    <video width=\"360\" height=\"auto\" alt=\"test\" controls><source src=\"data:video/mp4;base64,{0}\" type=\"video/mp4\" /></video>'''\n",
        ".format(encoded.decode('ascii')))"
      ],
      "metadata": {
        "id": "LbSzEzyyzsLk"
      },
      "execution_count": null,
      "outputs": []
    },
    {
      "cell_type": "markdown",
      "source": [
        "TRAIN INTERVAL"
      ],
      "metadata": {
        "id": "dI_z_0wXz0vR"
      }
    },
    {
      "cell_type": "code",
      "source": [
        "#fields_to_plot = [\"loss\", \"mae\", \"mean_q\", \"episode_reward\", \"nb_episode_steps\", \"duration\"]\n",
        "fields_to_plot = [\"loss\", \"mae\", \"mean_q\"]\n",
        "experiments = {\n",
        "    \"TRAIN_INTERVAL = 4\": \"./Experimento_01/dqn_SpaceInvaders-v0_log.json\",\n",
        "    \"TRAIN_INTERVAL = 24\": \"./Experimento_01_A/dqn_SpaceInvaders-v0_log.json\",\n",
        "}\n",
        "plot_experiments_json(experiments, fields_to_plot)"
      ],
      "metadata": {
        "id": "bvChiQ4azzb4"
      },
      "execution_count": null,
      "outputs": []
    },
    {
      "cell_type": "code",
      "source": [
        "fields_to_plot = [\"episode_reward\", \"nb_episode_steps\", \"duration\"]\n",
        "experiments = {\n",
        "    \"TRAIN_INTERVAL = 4\": \"./Experimento_01/dqn_SpaceInvaders-v0_log.json\",\n",
        "    \"TRAIN_INTERVAL = 24\": \"./Experimento_01_A/dqn_SpaceInvaders-v0_log.json\",\n",
        "}\n",
        "plot_experiments_json(experiments, fields_to_plot)"
      ],
      "metadata": {
        "id": "K1jxSGGKz5X1"
      },
      "execution_count": null,
      "outputs": []
    },
    {
      "cell_type": "markdown",
      "source": [
        "LEARNING RATE"
      ],
      "metadata": {
        "id": "VROyyKugz71L"
      }
    },
    {
      "cell_type": "code",
      "source": [
        "fields_to_plot = [\"loss\", \"mae\", \"mean_q\"]\n",
        "experiments = {\n",
        "    \"LR = 0.00001\": \"./Experimento_06_C/dqn_SpaceInvaders-v0_log.json\",\n",
        "    \"LR = 0.00005\": \"./Experimento_06_C/dqn_SpaceInvaders-v0_log.json\",\n",
        "    \"Ex_base LR = 0.00025\": \"./Experimento_01/dqn_SpaceInvaders-v0_log.json\",\n",
        "    \"LR = 0.00050\": \"./Experimento_02_C/dqn_SpaceInvaders-v0_log.json\",\n",
        "    \"LR = 0.00075\": \"./Experimento_03_C/dqn_SpaceInvaders-v0_log.json\",\n",
        "    \"LR = 0.00085\": \"./Experimento_04_C/dqn_SpaceInvaders-v0_log.json\",\n",
        "    \"LR = 0.001\": \"./Experimento_05_C/dqn_SpaceInvaders-v0_log.json\",\n",
        "}\n",
        "plot_experiments_json(experiments, fields_to_plot)"
      ],
      "metadata": {
        "id": "IwYFxrtUz6yn"
      },
      "execution_count": null,
      "outputs": []
    },
    {
      "cell_type": "code",
      "source": [
        "fields_to_plot = [\"loss\", \"mae\", \"mean_q\"]\n",
        "experiments = {\n",
        "    \"Ex_base LR = 0.00025\": \"./Experimento_01/dqn_SpaceInvaders-v0_log.json\",\n",
        "\n",
        "    \"LR = 0.00001\": \"./Experimento_08_A/dqn_SpaceInvaders-v0_log.json\",\n",
        "    \"LR = 0.00005\": \"./Experimento_07_A/dqn_SpaceInvaders-v0_log.json\",\n",
        "    \"LR = 0.0001\": \"./Experimento_09_A/dqn_SpaceInvaders-v0_log.json\",\n",
        "    \"LR = 0.00025\": \"./Experimento_01_A/dqn_SpaceInvaders-v0_log.json\",\n",
        "    \"LR = .00050\": \"./Experimento_04_A/dqn_SpaceInvaders-v0_log.json\",\n",
        "    \"LR = 0.00075\": \"./Experimento_05_A/dqn_SpaceInvaders-v0_log.json\",\n",
        "    \"LR = 0.00085\": \"./Experimento_02_A/dqn_SpaceInvaders-v0_log.json\",\n",
        "    \"LR = 0.0009\": \"./Experimento_06_A/dqn_SpaceInvaders-v0_log.json\",\n",
        "    \"LR = 0.001\": \"./Experimento_03_A/dqn_SpaceInvaders-v0_log.json\",\n",
        "}\n",
        "plot_experiments_json(experiments, fields_to_plot)"
      ],
      "metadata": {
        "id": "h7x7NHF60OEn"
      },
      "execution_count": null,
      "outputs": []
    },
    {
      "cell_type": "code",
      "source": [
        "fields_to_plot = [\"loss\", \"mae\", \"mean_q\"]\n",
        "experiments = {\n",
        "    \"GAMMA = 0.01\": \"./Experimento_02_B/dqn_SpaceInvaders-v0_log.json\",\n",
        "    \"GAMMA = 0.50\": \"./Experimento_03_B/dqn_SpaceInvaders-v0_log.json\",\n",
        "    \"GAMMA = 0.75\": \"./Experimento_04_B/dqn_SpaceInvaders-v0_log.json\",\n",
        "    \"GAMMA = 0.85\": \"./Experimento_05_B/dqn_SpaceInvaders-v0_log.json\",\n",
        "    \"GAMMA = 0.95\": \"./Experimento_06_B/dqn_SpaceInvaders-v0_log.json\",\n",
        "    \"GAMMA = 0.97\": \"./Experimento_07_B/dqn_SpaceInvaders-v0_log.json\",\n",
        "    \"GAMMA = 0.98\": \"./Experimento_08_B/dqn_SpaceInvaders-v0_log.json\",\n",
        "    \"Ex_base GAMMA = 0.99\": \"./Experimento_01/dqn_SpaceInvaders-v0_log.json\",\n",
        "}\n",
        "plot_experiments_json(experiments, fields_to_plot)"
      ],
      "metadata": {
        "id": "OaEf4YOC0OlZ"
      },
      "execution_count": null,
      "outputs": []
    },
    {
      "cell_type": "code",
      "source": [
        "fields_to_plot = [\"loss\", \"mae\", \"mean_q\"]\n",
        "experiments = {\n",
        "    \"Ex_base GAMMA = 0.99\": \"./Experimento_01/dqn_SpaceInvaders-v0_log.json\",\n",
        "    \"GAMMA = 0.01\": \"./Experimento_10_A/dqn_SpaceInvaders-v0_log.json\",\n",
        "    \"GAMMA = 0.50\": \"./Experimento_11_A/dqn_SpaceInvaders-v0_log.json\",\n",
        "    \"GAMMA = 0.75\": \"./Experimento_12_A/dqn_SpaceInvaders-v0_log.json\",\n",
        "    \"GAMMA = 0.95\": \"./Experimento_13_A/dqn_SpaceInvaders-v0_log.json\",\n",
        "    \"GAMMA = 0.97\": \"./Experimento_14_A/dqn_SpaceInvaders-v0_log.json\",\n",
        "    \"GAMMA = 0.98\": \"./Experimento_15_A/dqn_SpaceInvaders-v0_log.json\",\n",
        "    \"GAMMA = 0.99\": \"./Experimento_01_A/dqn_SpaceInvaders-v0_log.json\",\n",
        "\n",
        "}\n",
        "plot_experiments_json(experiments, fields_to_plot)"
      ],
      "metadata": {
        "id": "Po3vscuv0QdJ"
      },
      "execution_count": null,
      "outputs": []
    },
    {
      "cell_type": "markdown",
      "source": [
        "TARGET MODEL UPDATE"
      ],
      "metadata": {
        "id": "VEBEpaVO0Vfj"
      }
    },
    {
      "cell_type": "code",
      "source": [
        "fields_to_plot = [\"loss\", \"mae\", \"mean_q\"]\n",
        "experiments = {\n",
        "    \"TMU = 10\": \"./Experimento_04/dqn_SpaceInvaders-v0_log.json\",\n",
        "    \"TMU = 100\": \"./Experimento_03/dqn_SpaceInvaders-v0_log.json\",\n",
        "    \"TMU = 1000\": \"./Experimento_02/dqn_SpaceInvaders-v0_log.json\",\n",
        "    \"Ex_base TMU = 10000\": \"./Experimento_01/dqn_SpaceInvaders-v0_log.json\",\n",
        "    \"TMU = 100000\": \"./Experimento_05/dqn_SpaceInvaders-v0_log.json\",\n",
        "}\n",
        "plot_experiments_json(experiments, fields_to_plot)"
      ],
      "metadata": {
        "id": "YEWhNSFC0U_5"
      },
      "execution_count": null,
      "outputs": []
    },
    {
      "cell_type": "code",
      "source": [
        "fields_to_plot = [\"loss\", \"mae\", \"mean_q\"]\n",
        "experiments = {\n",
        "    \"TMU = 1000\": \"./Experimento_02/dqn_SpaceInvaders-v0_log.json\",\n",
        "    \"Ex_base TMU = 10000\": \"./Experimento_01/dqn_SpaceInvaders-v0_log.json\",\n",
        "    \"TMU = 100000\": \"./Experimento_05/dqn_SpaceInvaders-v0_log.json\",\n",
        "}\n",
        "plot_experiments_json(experiments, fields_to_plot)"
      ],
      "metadata": {
        "id": "m9SQHfi30ZjR"
      },
      "execution_count": null,
      "outputs": []
    },
    {
      "cell_type": "code",
      "source": [
        "fields_to_plot = [\"loss\", \"mae\", \"mean_q\"]\n",
        "experiments = {\n",
        "    \"Ex_base TMU = 10000\": \"./Experimento_01/dqn_SpaceInvaders-v0_log.json\",\n",
        "    \"TMU = 100\": \"./Experimento_17_A/dqn_SpaceInvaders-v0_log.json\",\n",
        "    \"TMU = 1000\": \"./Experimento_18_A/dqn_SpaceInvaders-v0_log.json\",\n",
        "    \"TMU = 10000\": \"./Experimento_01_A/dqn_SpaceInvaders-v0_log.json\",\n",
        "    \"TMU = 100000\": \"./Experimento_19_A/dqn_SpaceInvaders-v0_log.json\",\n",
        "}\n",
        "plot_experiments_json(experiments, fields_to_plot)"
      ],
      "metadata": {
        "id": "g5GmxHMW0aI5"
      },
      "execution_count": null,
      "outputs": []
    },
    {
      "cell_type": "markdown",
      "source": [
        "INCERTIDUMBRE DE LOS ENTRENAMIENTOS"
      ],
      "metadata": {
        "id": "lvP4eZpc0cZP"
      }
    },
    {
      "cell_type": "code",
      "source": [
        "fields_to_plot = [\"loss\", \"mae\", \"mean_q\"]\n",
        "experiments = {\n",
        "    \"Exp_02\": \"./Exp_02/EXPERIMENTO_02.json\",\n",
        "    \"Exp_02 Repetido\": \"./Exp_02_old/EXPERIMENTO_02.json\",\n",
        "}\n",
        "plot_experiments_json(experiments, fields_to_plot)"
      ],
      "metadata": {
        "id": "wahPfH7H0hah"
      },
      "execution_count": null,
      "outputs": []
    },
    {
      "cell_type": "markdown",
      "source": [
        "EFECTO DE ENTRENAR MÁS TIEMPO"
      ],
      "metadata": {
        "id": "ZutzxHQ70i0c"
      }
    },
    {
      "cell_type": "code",
      "source": [
        "fields_to_plot = [\"loss\", \"mae\", \"mean_q\"]\n",
        "experiments = {\n",
        "    \"Exp_base - 21.4\": \"./Experimento_base/dqn_SpaceInvaders-v0_log.json\",\n",
        "    \"Exp_02 - 20.3\": \"./Exp_02/EXPERIMENTO_02.json\",\n",
        "    \"Exp_03 - 24.6\": \"./Exp_03/EXPERIMENTO_03.json\",\n",
        "    \"Exp_04 - 16.0\": \"./Exp_04/EXPERIMENTO_04.json\",\n",
        "    \"Exp_05 - 21.1\": \"./Exp_05/EXPERIMENTO_05.json\",\n",
        "    \"Exp_06 - 17.0\": \"./Exp_06/EXPERIMENTO_06.json\",\n",
        "    \"Exp_07 - 23.4\": \"./Exp_07/EXPERIMENTO_07.json\",\n",
        "    \"Exp_08 - 14.1\": \"./Exp_08/EXPERIMENTO_08.json\",\n",
        "}\n",
        "plot_experiments_json(experiments, fields_to_plot)"
      ],
      "metadata": {
        "id": "1VU7p11G0o_V"
      },
      "execution_count": null,
      "outputs": []
    },
    {
      "cell_type": "markdown",
      "source": [
        "---"
      ],
      "metadata": {
        "id": "ANFQiicXK3sO"
      }
    }
  ],
  "metadata": {
    "kernelspec": {
      "display_name": "Python 3",
      "name": "python3"
    },
    "language_info": {
      "codemirror_mode": {
        "name": "ipython",
        "version": 3
      },
      "file_extension": ".py",
      "mimetype": "text/x-python",
      "name": "python",
      "nbconvert_exporter": "python",
      "pygments_lexer": "ipython3",
      "version": "3.7.9"
    },
    "colab": {
      "provenance": [],
      "gpuType": "T4",
      "include_colab_link": true
    },
    "accelerator": "GPU"
  },
  "nbformat": 4,
  "nbformat_minor": 0
}